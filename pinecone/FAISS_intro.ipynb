{
 "cells": [
  {
   "cell_type": "markdown",
   "id": "4c18b92b",
   "metadata": {},
   "source": [
    "## Introduction to FAISS (Pinecone/James Briggs course)"
   ]
  },
  {
   "cell_type": "code",
   "execution_count": 1,
   "id": "60545c82",
   "metadata": {},
   "outputs": [],
   "source": [
    "import requests\n",
    "import os"
   ]
  },
  {
   "cell_type": "code",
   "execution_count": 2,
   "id": "9aa78635",
   "metadata": {},
   "outputs": [],
   "source": [
    "data_url = \"https://raw.githubusercontent.com/jamescalam/data/main/sentence_embeddings_15K/\""
   ]
  },
  {
   "cell_type": "code",
   "execution_count": 3,
   "id": "bdddff6b",
   "metadata": {},
   "outputs": [
    {
     "name": "stdout",
     "output_type": "stream",
     "text": [
      "........................................................."
     ]
    }
   ],
   "source": [
    "if not os.path.exists('../../data/data_faiss_intro'):\n",
    "    os.mkdir('../../data/data_faiss_intro')\n",
    "\n",
    "for i in range(57):\n",
    "#     if i < 10:\n",
    "#         i = '0' + str(i)\n",
    "    res = requests.get(data_url+f\"embeddings_{i}.npy\")\n",
    "    with open(f'../../data/data_faiss_intro/embeddings_{i}.npy', 'wb') as fp:\n",
    "        for chunk in res:\n",
    "            fp.write(chunk)\n",
    "    print('.', end='')"
   ]
  },
  {
   "cell_type": "code",
   "execution_count": 4,
   "id": "8945fa0d",
   "metadata": {},
   "outputs": [],
   "source": [
    "res = requests.get(f\"{data_url}sentences.txt\")\n",
    "with open(f\"../../data/data_faiss_intro/sentences.txt\", 'wb') as fp:\n",
    "    for chunk in res:\n",
    "        fp.write(chunk)"
   ]
  },
  {
   "cell_type": "code",
   "execution_count": 5,
   "id": "45535eb8",
   "metadata": {},
   "outputs": [],
   "source": [
    "import numpy as np"
   ]
  },
  {
   "cell_type": "code",
   "execution_count": 6,
   "id": "37127c57",
   "metadata": {},
   "outputs": [],
   "source": [
    "for i  in range(57):\n",
    "    if i == 0:\n",
    "        with open(f'../../data/data_faiss_intro/embeddings_{i}.npy', 'rb') as fp:\n",
    "            sentence_embedding = np.load(fp)\n",
    "    else:\n",
    "        with open(f'../../data/data_faiss_intro/embeddings_{i}.npy', 'rb') as fp:\n",
    "            sentence_embedding = np.append(\n",
    "                sentence_embedding, \n",
    "                np.load(fp), axis=0\n",
    "            )      "
   ]
  },
  {
   "cell_type": "code",
   "execution_count": 7,
   "id": "ac434dd5",
   "metadata": {},
   "outputs": [
    {
     "data": {
      "text/plain": [
       "array([[-0.2957632 , -0.14150958,  0.74460125, ...,  0.12191943,\n",
       "        -0.03464901,  0.17244756],\n",
       "       [-1.0735595 , -0.37818557, -0.05851475, ...,  0.2217132 ,\n",
       "         1.0147973 , -0.22447647],\n",
       "       [-0.07725344, -0.02900816,  1.3254031 , ...,  0.6358077 ,\n",
       "         0.09544911, -0.49632803],\n",
       "       ...,\n",
       "       [ 0.47929367,  1.1826494 ,  0.56038654, ...,  0.14385085,\n",
       "         0.22046804, -0.8148144 ],\n",
       "       [ 0.40449518, -0.03866054, -0.44506097, ...,  0.05793181,\n",
       "        -0.28739786, -0.76975495],\n",
       "       [-0.34374386,  0.10576491,  0.19123155, ..., -0.61379766,\n",
       "         1.1470793 ,  0.42724758]], dtype=float32)"
      ]
     },
     "execution_count": 7,
     "metadata": {},
     "output_type": "execute_result"
    }
   ],
   "source": [
    "sentence_embedding"
   ]
  }
 ],
 "metadata": {
  "kernelspec": {
   "display_name": "ml_nlp",
   "language": "python",
   "name": "ml_nlp"
  },
  "language_info": {
   "codemirror_mode": {
    "name": "ipython",
    "version": 3
   },
   "file_extension": ".py",
   "mimetype": "text/x-python",
   "name": "python",
   "nbconvert_exporter": "python",
   "pygments_lexer": "ipython3",
   "version": "3.9.13"
  }
 },
 "nbformat": 4,
 "nbformat_minor": 5
}
