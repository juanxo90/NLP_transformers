{
 "cells": [
  {
   "cell_type": "markdown",
   "id": "9bb99df3",
   "metadata": {},
   "source": [
    "## Introduction to FAISS (Pinecone/James Briggs course)"
   ]
  },
  {
   "cell_type": "code",
   "execution_count": 1,
   "id": "b5c5c30f",
   "metadata": {},
   "outputs": [],
   "source": [
    "import requests\n",
    "import os"
   ]
  },
  {
   "cell_type": "code",
   "execution_count": 2,
   "id": "72ddfc83",
   "metadata": {},
   "outputs": [],
   "source": [
    "data_url = \"https://raw.githubusercontent.com/jamescalam/data/main/sentence_embeddings_15K/\""
   ]
  },
  {
   "cell_type": "code",
   "execution_count": null,
   "id": "61ca543d",
   "metadata": {},
   "outputs": [],
   "source": [
    "if not os.path.exists('../../data/data_faiss_intro'):\n",
    "    os.mkdir('../../data/data_faiss_intro')\n",
    "\n",
    "for i in range(57):\n",
    "#     if i < 10:\n",
    "#         i = '0' + str(i)\n",
    "    res = requests.get(data_url+f\"embeddings_{i}.npy\")\n",
    "    with open(f'../../data/data_faiss_intro/embeddings_{i}.npy', 'wb') as fp:\n",
    "        for chunk in res:\n",
    "            fp.write(chunk)\n",
    "    print('.', end='')"
   ]
  },
  {
   "cell_type": "code",
   "execution_count": null,
   "id": "c3bfb28a",
   "metadata": {},
   "outputs": [],
   "source": [
    "res = requests.get(f\"{data_url}sentences.txt\")\n",
    "with open(f\"../../data/data_faiss_intro/sentences.txt\", 'wb') as fp:\n",
    "    for chunk in res:\n",
    "        fp.write(chunk)"
   ]
  },
  {
   "cell_type": "code",
   "execution_count": 3,
   "id": "ef1c21c3",
   "metadata": {},
   "outputs": [],
   "source": [
    "import numpy as np"
   ]
  },
  {
   "cell_type": "code",
   "execution_count": 4,
   "id": "de112518",
   "metadata": {},
   "outputs": [],
   "source": [
    "for i  in range(57):\n",
    "    if i == 0:\n",
    "        with open(f'../../data/data_faiss_intro/embeddings_{i}.npy', 'rb') as fp:\n",
    "            sentence_embedding = np.load(fp)\n",
    "    else:\n",
    "        with open(f'../../data/data_faiss_intro/embeddings_{i}.npy', 'rb') as fp:\n",
    "            sentence_embedding = np.append(\n",
    "                sentence_embedding, \n",
    "                np.load(fp), axis=0\n",
    "            )      "
   ]
  },
  {
   "cell_type": "code",
   "execution_count": 5,
   "id": "2263c351",
   "metadata": {},
   "outputs": [
    {
     "data": {
      "text/plain": [
       "(14504, 768)"
      ]
     },
     "execution_count": 5,
     "metadata": {},
     "output_type": "execute_result"
    }
   ],
   "source": [
    "sentence_embedding.shape"
   ]
  },
  {
   "cell_type": "code",
   "execution_count": 6,
   "id": "7695e034",
   "metadata": {},
   "outputs": [],
   "source": [
    "with open('../../data/data_faiss_intro/sentences.txt', 'r') as fp:\n",
    "    lines = fp.read().split('\\n')"
   ]
  },
  {
   "cell_type": "code",
   "execution_count": 7,
   "id": "c3b7d63b",
   "metadata": {
    "scrolled": false
   },
   "outputs": [
    {
     "data": {
      "text/plain": [
       "['A group of four children dancing in a backyard.',\n",
       " 'The Conference Board said its measure of business confidence, which had fallen to 53 in the first quarter of 2003, improved to 60 in the most recent second quarter.',\n",
       " 'a person eating a meal, often in a restaurant',\n",
       " 'When you crossed the line, you violated the constitutional right,\" said Charles Weisselberg, who teaches law at the University of California, Berkeley.',\n",
       " \"Ross Garber, Rowland's legal counsel, said the governor would have no comment on the condo deal.\"]"
      ]
     },
     "execution_count": 7,
     "metadata": {},
     "output_type": "execute_result"
    }
   ],
   "source": [
    "lines[:5]"
   ]
  },
  {
   "cell_type": "code",
   "execution_count": 8,
   "id": "5b7ea512",
   "metadata": {
    "scrolled": false
   },
   "outputs": [],
   "source": [
    "from sentence_transformers import SentenceTransformer"
   ]
  },
  {
   "cell_type": "code",
   "execution_count": 9,
   "id": "2e0110a8",
   "metadata": {},
   "outputs": [],
   "source": [
    "model = SentenceTransformer('bert-base-nli-mean-tokens')"
   ]
  },
  {
   "cell_type": "code",
   "execution_count": 12,
   "id": "dcaa3d7c",
   "metadata": {
    "scrolled": false
   },
   "outputs": [],
   "source": [
    "# model.encode(['Hello wolrd'], device='cuda', show_progress_bar=True)"
   ]
  },
  {
   "cell_type": "code",
   "execution_count": null,
   "id": "bd955a52",
   "metadata": {},
   "outputs": [],
   "source": [
    "import faiss"
   ]
  },
  {
   "cell_type": "code",
   "execution_count": 14,
   "id": "66d91164",
   "metadata": {
    "scrolled": false
   },
   "outputs": [],
   "source": [
    "#IndexFlatL2 (eulidean distance)\n",
    "d = sentence_embedding.shape[1]\n",
    "index = faiss.IndexFlatL2(d)"
   ]
  },
  {
   "cell_type": "code",
   "execution_count": 16,
   "id": "cf4b2a36",
   "metadata": {},
   "outputs": [
    {
     "data": {
      "text/plain": [
       "True"
      ]
     },
     "execution_count": 16,
     "metadata": {},
     "output_type": "execute_result"
    }
   ],
   "source": [
    "index.is_trainedained"
   ]
  },
  {
   "cell_type": "code",
   "execution_count": 17,
   "id": "ef682757",
   "metadata": {},
   "outputs": [],
   "source": [
    "index.add(sentence_embedding)"
   ]
  },
  {
   "cell_type": "code",
   "execution_count": 18,
   "id": "440c0a42",
   "metadata": {},
   "outputs": [
    {
     "data": {
      "text/plain": [
       "14504"
      ]
     },
     "execution_count": 18,
     "metadata": {},
     "output_type": "execute_result"
    }
   ],
   "source": [
    "index.ntotal"
   ]
  },
  {
   "cell_type": "code",
   "execution_count": 19,
   "id": "eac26168",
   "metadata": {},
   "outputs": [],
   "source": [
    "xq = model.encode(['someone sprints with a football'], device = 'cuda')"
   ]
  },
  {
   "cell_type": "code",
   "execution_count": 20,
   "id": "5102383c",
   "metadata": {},
   "outputs": [],
   "source": [
    "k = 4 # similar vectors number"
   ]
  },
  {
   "cell_type": "code",
   "execution_count": 21,
   "id": "8980e5ff",
   "metadata": {},
   "outputs": [
    {
     "name": "stdout",
     "output_type": "stream",
     "text": [
      "[[ 4586 10252 12465   190]]\n",
      "CPU times: user 122 ms, sys: 0 ns, total: 122 ms\n",
      "Wall time: 164 ms\n"
     ]
    }
   ],
   "source": [
    "%%time\n",
    "D, I = index.search(xq, k)\n",
    "print(I)"
   ]
  },
  {
   "cell_type": "code",
   "execution_count": 23,
   "id": "10d672ef",
   "metadata": {},
   "outputs": [
    {
     "data": {
      "text/plain": [
       "['4586: A group of football players is running in the field',\n",
       " '10252: A group of people playing football is running in the field',\n",
       " '12465: Two groups of people are playing football',\n",
       " '190: A person playing football is running past an official carrying a football']"
      ]
     },
     "execution_count": 23,
     "metadata": {},
     "output_type": "execute_result"
    }
   ],
   "source": [
    "[f'{i}: {lines[i]}' for i in I[0]]"
   ]
  }
 ],
 "metadata": {
  "kernelspec": {
   "display_name": "Python 3 (ipykernel)",
   "language": "python",
   "name": "python3"
  },
  "language_info": {
   "codemirror_mode": {
    "name": "ipython",
    "version": 3
   },
   "file_extension": ".py",
   "mimetype": "text/x-python",
   "name": "python",
   "nbconvert_exporter": "python",
   "pygments_lexer": "ipython3",
   "version": "3.7.13"
  }
 },
 "nbformat": 4,
 "nbformat_minor": 5
}
