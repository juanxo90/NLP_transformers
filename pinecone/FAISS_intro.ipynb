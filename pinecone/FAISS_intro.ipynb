{
 "cells": [
  {
   "cell_type": "markdown",
   "id": "9bb99df3",
   "metadata": {},
   "source": [
    "## Introduction to FAISS (Pinecone/James Briggs course)"
   ]
  },
  {
   "cell_type": "code",
   "execution_count": 1,
   "id": "b5c5c30f",
   "metadata": {},
   "outputs": [],
   "source": [
    "import requests\n",
    "import os"
   ]
  },
  {
   "cell_type": "code",
   "execution_count": 2,
   "id": "72ddfc83",
   "metadata": {},
   "outputs": [],
   "source": [
    "data_url = \"https://raw.githubusercontent.com/jamescalam/data/main/sentence_embeddings_15K/\""
   ]
  },
  {
   "cell_type": "code",
   "execution_count": null,
   "id": "61ca543d",
   "metadata": {},
   "outputs": [],
   "source": [
    "if not os.path.exists('../../data/data_faiss_intro'):\n",
    "    os.mkdir('../../data/data_faiss_intro')\n",
    "\n",
    "for i in range(57):\n",
    "#     if i < 10:\n",
    "#         i = '0' + str(i)\n",
    "    res = requests.get(data_url+f\"embeddings_{i}.npy\")\n",
    "    with open(f'../../data/data_faiss_intro/embeddings_{i}.npy', 'wb') as fp:\n",
    "        for chunk in res:\n",
    "            fp.write(chunk)\n",
    "    print('.', end='')"
   ]
  },
  {
   "cell_type": "code",
   "execution_count": null,
   "id": "c3bfb28a",
   "metadata": {},
   "outputs": [],
   "source": [
    "res = requests.get(f\"{data_url}sentences.txt\")\n",
    "with open(f\"../../data/data_faiss_intro/sentences.txt\", 'wb') as fp:\n",
    "    for chunk in res:\n",
    "        fp.write(chunk)"
   ]
  },
  {
   "cell_type": "code",
   "execution_count": 2,
   "id": "ef1c21c3",
   "metadata": {},
   "outputs": [],
   "source": [
    "import numpy as np"
   ]
  },
  {
   "cell_type": "code",
   "execution_count": 3,
   "id": "de112518",
   "metadata": {},
   "outputs": [],
   "source": [
    "for i  in range(57):\n",
    "    if i == 0:\n",
    "        with open(f'../../data/data_faiss_intro/embeddings_{i}.npy', 'rb') as fp:\n",
    "            sentence_embedding = np.load(fp)\n",
    "    else:\n",
    "        with open(f'../../data/data_faiss_intro/embeddings_{i}.npy', 'rb') as fp:\n",
    "            sentence_embedding = np.append(\n",
    "                sentence_embedding, \n",
    "                np.load(fp), axis=0\n",
    "            )      "
   ]
  },
  {
   "cell_type": "code",
   "execution_count": 4,
   "id": "2263c351",
   "metadata": {},
   "outputs": [
    {
     "data": {
      "text/plain": [
       "(14504, 768)"
      ]
     },
     "execution_count": 4,
     "metadata": {},
     "output_type": "execute_result"
    }
   ],
   "source": [
    "sentence_embedding.shape"
   ]
  },
  {
   "cell_type": "code",
   "execution_count": 5,
   "id": "7695e034",
   "metadata": {},
   "outputs": [],
   "source": [
    "with open('../../data/data_faiss_intro/sentences.txt', 'r') as fp:\n",
    "    lines = fp.read().split('\\n')"
   ]
  },
  {
   "cell_type": "code",
   "execution_count": 6,
   "id": "c3b7d63b",
   "metadata": {
    "scrolled": false
   },
   "outputs": [
    {
     "data": {
      "text/plain": [
       "['A group of four children dancing in a backyard.',\n",
       " 'The Conference Board said its measure of business confidence, which had fallen to 53 in the first quarter of 2003, improved to 60 in the most recent second quarter.',\n",
       " 'a person eating a meal, often in a restaurant',\n",
       " 'When you crossed the line, you violated the constitutional right,\" said Charles Weisselberg, who teaches law at the University of California, Berkeley.',\n",
       " \"Ross Garber, Rowland's legal counsel, said the governor would have no comment on the condo deal.\"]"
      ]
     },
     "execution_count": 6,
     "metadata": {},
     "output_type": "execute_result"
    }
   ],
   "source": [
    "lines[:5]"
   ]
  },
  {
   "cell_type": "code",
   "execution_count": 3,
   "id": "5b7ea512",
   "metadata": {
    "scrolled": false
   },
   "outputs": [],
   "source": [
    "from sentence_transformers import SentenceTransformer"
   ]
  },
  {
   "cell_type": "code",
   "execution_count": 8,
   "id": "2e0110a8",
   "metadata": {},
   "outputs": [],
   "source": [
    "model = SentenceTransformer('bert-base-nli-mean-tokens')"
   ]
  },
  {
   "cell_type": "code",
   "execution_count": 9,
   "id": "dcaa3d7c",
   "metadata": {
    "scrolled": false
   },
   "outputs": [],
   "source": [
    "# model.encode(['Hello wolrd'], device='cuda', show_progress_bar=True)"
   ]
  },
  {
   "cell_type": "code",
   "execution_count": 4,
   "id": "bd955a52",
   "metadata": {},
   "outputs": [],
   "source": [
    "import faiss"
   ]
  },
  {
   "cell_type": "markdown",
   "id": "02b40c8e",
   "metadata": {},
   "source": [
    "## Index using FlatL2"
   ]
  },
  {
   "cell_type": "code",
   "execution_count": 12,
   "id": "2fb8ea94",
   "metadata": {},
   "outputs": [],
   "source": [
    "#IndexFlatL2 (eulidean distance)\n",
    "d = sentence_embedding.shape[1]"
   ]
  },
  {
   "cell_type": "code",
   "execution_count": 111,
   "id": "66d91164",
   "metadata": {
    "scrolled": false
   },
   "outputs": [],
   "source": [
    "index_fl2 = faiss.IndexFlatL2(d) # define index type\n",
    "res = faiss.StandardGpuResources()  # use a single GPU\n",
    "\n",
    "# make it into a gpu index\n",
    "gpu_index_fl2 = faiss.index_cpu_to_gpu(res, 0, index_fl2)\n"
   ]
  },
  {
   "cell_type": "code",
   "execution_count": 112,
   "id": "cf4b2a36",
   "metadata": {},
   "outputs": [
    {
     "data": {
      "text/plain": [
       "True"
      ]
     },
     "execution_count": 112,
     "metadata": {},
     "output_type": "execute_result"
    }
   ],
   "source": [
    "gpu_index_fl2.is_trained"
   ]
  },
  {
   "cell_type": "code",
   "execution_count": 113,
   "id": "ef682757",
   "metadata": {},
   "outputs": [],
   "source": [
    "gpu_index_fl2.add(sentence_embedding)"
   ]
  },
  {
   "cell_type": "code",
   "execution_count": 114,
   "id": "440c0a42",
   "metadata": {},
   "outputs": [
    {
     "data": {
      "text/plain": [
       "14504"
      ]
     },
     "execution_count": 114,
     "metadata": {},
     "output_type": "execute_result"
    }
   ],
   "source": [
    "gpu_index_fl2.ntotal"
   ]
  },
  {
   "cell_type": "code",
   "execution_count": 21,
   "id": "eac26168",
   "metadata": {},
   "outputs": [],
   "source": [
    "xq = model.encode(['someone sprints with a football'], device = 'cuda')"
   ]
  },
  {
   "cell_type": "code",
   "execution_count": 22,
   "id": "5102383c",
   "metadata": {},
   "outputs": [],
   "source": [
    "k = 4 # similar vectors number"
   ]
  },
  {
   "cell_type": "code",
   "execution_count": 121,
   "id": "5b9542b6",
   "metadata": {},
   "outputs": [
    {
     "name": "stdout",
     "output_type": "stream",
     "text": [
      "[[ 4586 10252 12465   190]]\n",
      "CPU times: user 5.94 ms, sys: 11.7 ms, total: 17.6 ms\n",
      "Wall time: 11.8 ms\n"
     ]
    }
   ],
   "source": [
    "%%time\n",
    "D, I = gpu_index_fl2.search(xq, k)\n",
    "print(I)"
   ]
  },
  {
   "cell_type": "code",
   "execution_count": 122,
   "id": "10d672ef",
   "metadata": {},
   "outputs": [
    {
     "data": {
      "text/plain": [
       "['4586: A group of football players is running in the field',\n",
       " '10252: A group of people playing football is running in the field',\n",
       " '12465: Two groups of people are playing football',\n",
       " '190: A person playing football is running past an official carrying a football']"
      ]
     },
     "execution_count": 122,
     "metadata": {},
     "output_type": "execute_result"
    }
   ],
   "source": [
    "[f'{i}: {lines[i]}' for i in I[0]]"
   ]
  },
  {
   "cell_type": "markdown",
   "id": "4215a329",
   "metadata": {},
   "source": [
    "## Partitioning indexing using IVFFlat\n",
    "\n",
    "Approximate searching "
   ]
  },
  {
   "cell_type": "code",
   "execution_count": 123,
   "id": "72458529",
   "metadata": {},
   "outputs": [],
   "source": [
    "nlist = 50 # number of cells or voronoi poligons\n",
    "\n",
    "# Flat L2 Index\n",
    "index = faiss.IndexFlatL2(d)\n",
    "\n",
    "res = faiss.StandardGpuResources()  # use a single GPU\n",
    "# make it into a gpu index and takenir\n",
    "quantizer = faiss.index_cpu_to_gpu(res, 0, index)\n",
    "\n",
    "gpu_index_ivf = faiss.IndexIVFFlat(quantizer, d, nlist)"
   ]
  },
  {
   "cell_type": "code",
   "execution_count": 126,
   "id": "1854a587",
   "metadata": {},
   "outputs": [
    {
     "data": {
      "text/plain": [
       "False"
      ]
     },
     "execution_count": 126,
     "metadata": {},
     "output_type": "execute_result"
    }
   ],
   "source": [
    "gpu_index_ivf.is_trained"
   ]
  },
  {
   "cell_type": "code",
   "execution_count": 127,
   "id": "546ad10b",
   "metadata": {},
   "outputs": [],
   "source": [
    "# we need to train our index\n",
    "gpu_index_ivf.train(sentence_embedding)"
   ]
  },
  {
   "cell_type": "code",
   "execution_count": 128,
   "id": "0a788cd9",
   "metadata": {},
   "outputs": [
    {
     "data": {
      "text/plain": [
       "True"
      ]
     },
     "execution_count": 128,
     "metadata": {},
     "output_type": "execute_result"
    }
   ],
   "source": [
    "gpu_index_ivf.is_trained"
   ]
  },
  {
   "cell_type": "code",
   "execution_count": 129,
   "id": "d7193e8b",
   "metadata": {},
   "outputs": [
    {
     "data": {
      "text/plain": [
       "14504"
      ]
     },
     "execution_count": 129,
     "metadata": {},
     "output_type": "execute_result"
    }
   ],
   "source": [
    "gpu_index_ivf.add(sentence_embedding)\n",
    "gpu_index_ivf.ntotal"
   ]
  },
  {
   "cell_type": "code",
   "execution_count": 132,
   "id": "a9722df0",
   "metadata": {},
   "outputs": [
    {
     "name": "stdout",
     "output_type": "stream",
     "text": [
      "[[ 4586 10252 12465   190]]\n",
      "CPU times: user 10.5 ms, sys: 1.97 ms, total: 12.5 ms\n",
      "Wall time: 6.44 ms\n"
     ]
    }
   ],
   "source": [
    "%%time\n",
    "D, I = gpu_index_ivf.search(xq, k)\n",
    "print(I)"
   ]
  },
  {
   "cell_type": "code",
   "execution_count": 133,
   "id": "82a2044c",
   "metadata": {},
   "outputs": [
    {
     "data": {
      "text/plain": [
       "['4586: A group of football players is running in the field',\n",
       " '10252: A group of people playing football is running in the field',\n",
       " '12465: Two groups of people are playing football',\n",
       " '190: A person playing football is running past an official carrying a football']"
      ]
     },
     "execution_count": 133,
     "metadata": {},
     "output_type": "execute_result"
    }
   ],
   "source": [
    "[f'{i}: {lines[i]}' for i in I[0]]"
   ]
  },
  {
   "cell_type": "code",
   "execution_count": 134,
   "id": "98af6776",
   "metadata": {},
   "outputs": [],
   "source": [
    "# change nprobe to improve better results but with less speed\n",
    "gpu_index_ivf.nprobe = 10"
   ]
  },
  {
   "cell_type": "code",
   "execution_count": 136,
   "id": "d3bce009",
   "metadata": {},
   "outputs": [
    {
     "name": "stdout",
     "output_type": "stream",
     "text": [
      "[[ 4586 10252 12465   190]]\n",
      "CPU times: user 13.9 ms, sys: 18 ms, total: 31.9 ms\n",
      "Wall time: 21.7 ms\n"
     ]
    }
   ],
   "source": [
    "%%time\n",
    "D, I = gpu_index_ivf.search(xq, k)\n",
    "print(I)"
   ]
  },
  {
   "cell_type": "code",
   "execution_count": 137,
   "id": "f291b7b3",
   "metadata": {},
   "outputs": [
    {
     "data": {
      "text/plain": [
       "['4586: A group of football players is running in the field',\n",
       " '10252: A group of people playing football is running in the field',\n",
       " '12465: Two groups of people are playing football',\n",
       " '190: A person playing football is running past an official carrying a football']"
      ]
     },
     "execution_count": 137,
     "metadata": {},
     "output_type": "execute_result"
    }
   ],
   "source": [
    "[f'{i}: {lines[i]}' for i in I[0]]"
   ]
  },
  {
   "cell_type": "markdown",
   "id": "cd8cf766",
   "metadata": {},
   "source": [
    "## Product quantization index\n",
    "\n",
    "Faster but with with less precision. \n",
    "\n",
    "Split the original vector in n sub-vectors. Run a cluster algorithm for every sub-vector. Search the similar cluster and search the result inside the sub-vector that corresponds the cluster.\n",
    "\n",
    "**Important note: due to use a lot of ```faiss.index_cpu_to_gpu``` I need to reestart my notebook. Be careful of how too use the cpu yo gpu indexing because you can full the gpu memory**"
   ]
  },
  {
   "cell_type": "code",
   "execution_count": 13,
   "id": "87195b1a",
   "metadata": {},
   "outputs": [
    {
     "data": {
      "text/plain": [
       "0"
      ]
     },
     "execution_count": 13,
     "metadata": {},
     "output_type": "execute_result"
    }
   ],
   "source": [
    "# firs we need to see if we can divide the centroid\n",
    "# d need to be a multiple of m\n",
    "d % 8"
   ]
  },
  {
   "cell_type": "code",
   "execution_count": 14,
   "id": "38038ff2",
   "metadata": {},
   "outputs": [],
   "source": [
    "nlist = 50 # number of cells\n",
    "\n",
    "m = 8 # number of centroids in the final vector\n",
    "bits = 8 # number of bits inside that vector\n",
    "\n",
    "# quantizer Flat L2 Index\n",
    "index = faiss.IndexFlatL2(d)\n",
    "\n",
    "res = faiss.StandardGpuResources()  # use a single GPU\n",
    "# make it into a gpu index and takenir\n",
    "quantizer = faiss.index_cpu_to_gpu(res, 0, index)\n",
    "\n",
    "gpu_index_ivfpq = faiss.IndexIVFPQ(quantizer, d, nlist, m, bits) # reduce the size using this method"
   ]
  },
  {
   "cell_type": "code",
   "execution_count": 16,
   "id": "031e7e10",
   "metadata": {},
   "outputs": [
    {
     "data": {
      "text/plain": [
       "False"
      ]
     },
     "execution_count": 16,
     "metadata": {},
     "output_type": "execute_result"
    }
   ],
   "source": [
    "gpu_index_ivfpq.is_trained"
   ]
  },
  {
   "cell_type": "code",
   "execution_count": 17,
   "id": "ba2c23af",
   "metadata": {},
   "outputs": [],
   "source": [
    "gpu_index_ivfpq.train(sentence_embedding)"
   ]
  },
  {
   "cell_type": "code",
   "execution_count": 18,
   "id": "b66d8fd6",
   "metadata": {},
   "outputs": [
    {
     "data": {
      "text/plain": [
       "True"
      ]
     },
     "execution_count": 18,
     "metadata": {},
     "output_type": "execute_result"
    }
   ],
   "source": [
    "gpu_index_ivfpq.is_trained"
   ]
  },
  {
   "cell_type": "code",
   "execution_count": 19,
   "id": "a806ef3d",
   "metadata": {},
   "outputs": [
    {
     "data": {
      "text/plain": [
       "14504"
      ]
     },
     "execution_count": 19,
     "metadata": {},
     "output_type": "execute_result"
    }
   ],
   "source": [
    "gpu_index_ivfpq.add(sentence_embedding)\n",
    "gpu_index_ivfpq.ntotal"
   ]
  },
  {
   "cell_type": "code",
   "execution_count": 24,
   "id": "05006430",
   "metadata": {},
   "outputs": [
    {
     "name": "stdout",
     "output_type": "stream",
     "text": [
      "[[  399  8328 12465   190]]\n",
      "CPU times: user 5.86 ms, sys: 8.28 ms, total: 14.1 ms\n",
      "Wall time: 7.39 ms\n"
     ]
    }
   ],
   "source": [
    "%%time\n",
    "D, I = gpu_index_ivfpq.search(xq, k)\n",
    "print(I)"
   ]
  },
  {
   "cell_type": "code",
   "execution_count": 25,
   "id": "eb966bad",
   "metadata": {},
   "outputs": [
    {
     "data": {
      "text/plain": [
       "['399: A football player kicks the ball.',\n",
       " '8328: A football player is running past an official carrying a football',\n",
       " '12465: Two groups of people are playing football',\n",
       " '190: A person playing football is running past an official carrying a football']"
      ]
     },
     "execution_count": 25,
     "metadata": {},
     "output_type": "execute_result"
    }
   ],
   "source": [
    "[f'{i}: {lines[i]}' for i in I[0]]"
   ]
  },
  {
   "cell_type": "markdown",
   "id": "cf297199",
   "metadata": {},
   "source": [
    "## Speed improvement with syntethic data"
   ]
  },
  {
   "cell_type": "code",
   "execution_count": 5,
   "id": "b377b016",
   "metadata": {},
   "outputs": [],
   "source": [
    "import pandas as pd\n",
    "import matplotlib.pyplot as plt\n",
    "import seaborn as sns\n",
    "from tqdm import tqdm\n",
    "from datetime import datetime"
   ]
  },
  {
   "cell_type": "code",
   "execution_count": 6,
   "id": "70270517",
   "metadata": {},
   "outputs": [],
   "source": [
    "colors = ['#041BB3', '#E31957', '#12B0A7', '#000000']\n",
    "sns.set_palette(sns.color_palette(colors))\n",
    "sns.set_theme(font_scale=1.4)"
   ]
  },
  {
   "cell_type": "code",
   "execution_count": 7,
   "id": "f20cd6f4",
   "metadata": {},
   "outputs": [],
   "source": [
    "def make_array(nb, d=100):\n",
    "    return np.random.random((nb, d)).astype('float32')"
   ]
  },
  {
   "cell_type": "code",
   "execution_count": 8,
   "id": "3987c7f1",
   "metadata": {},
   "outputs": [],
   "source": [
    "def test(index, step=1_000, high=1_000_000, k=5, epochs=20):\n",
    "    timer = np.zeros((epochs, int(high/step)))\n",
    "    dim = np.zeros((int(high/step)))\n",
    "    xq = make_array(1)\n",
    "    for epoch in tqdm(range(epochs)):\n",
    "        index.reset()\n",
    "        iter_step = 0\n",
    "        for i in range(step, high, step):\n",
    "            wb = make_array(step)\n",
    "            if not index.is_trained:\n",
    "                index.train(wb)\n",
    "            index.add(wb)\n",
    "            # start timer\n",
    "            start = datetime.now()\n",
    "            D,I = index.search(xq, k)\n",
    "            time_taken = (datetime.now() - start).microseconds\n",
    "            timer[epoch, iter_step] = time_taken\n",
    "            dim[iter_step] = i\n",
    "            iter_step += 1\n",
    "    timer = np.median(timer, axis=0)\n",
    "    return dim, timer"
   ]
  },
  {
   "cell_type": "code",
   "execution_count": 9,
   "id": "5ea4b7a8",
   "metadata": {},
   "outputs": [],
   "source": [
    "d = 100\n",
    "tests = pd.DataFrame({\n",
    "    'num_vectors' : [],\n",
    "    'query_time': [],\n",
    "    'test': []\n",
    "})\n"
   ]
  },
  {
   "cell_type": "code",
   "execution_count": 10,
   "id": "b0f8b31d",
   "metadata": {},
   "outputs": [],
   "source": [
    "# Flat L2 Index\n",
    "index = faiss.IndexFlatL2(d)"
   ]
  },
  {
   "cell_type": "code",
   "execution_count": 11,
   "id": "851ab82b",
   "metadata": {},
   "outputs": [],
   "source": [
    "res = faiss.StandardGpuResources()  # use a single GPU\n",
    "# make it into a gpu index\n",
    "gpu_index = faiss.index_cpu_to_gpu(res, 0, index)"
   ]
  },
  {
   "cell_type": "code",
   "execution_count": 98,
   "id": "9e5404e9",
   "metadata": {},
   "outputs": [
    {
     "name": "stderr",
     "output_type": "stream",
     "text": [
      "100%|███████████████████████████████████████████████████████████████████████████████████| 20/20 [00:22<00:00,  1.13s/it]"
     ]
    },
    {
     "name": "stdout",
     "output_type": "stream",
     "text": [
      "CPU times: user 17.1 s, sys: 1.33 s, total: 18.4 s\n",
      "Wall time: 22.7 s\n"
     ]
    },
    {
     "name": "stderr",
     "output_type": "stream",
     "text": [
      "\n"
     ]
    }
   ],
   "source": [
    "%%time\n",
    "# test with GPU faiss time\n",
    "dim, time = test(gpu_index,step=1_000, high=100_000, k=5, epochs=20)"
   ]
  },
  {
   "cell_type": "code",
   "execution_count": 99,
   "id": "2f9198a4",
   "metadata": {},
   "outputs": [
    {
     "name": "stderr",
     "output_type": "stream",
     "text": [
      "100%|███████████████████████████████████████████████████████████████████████████████████| 20/20 [00:46<00:00,  2.31s/it]"
     ]
    },
    {
     "name": "stdout",
     "output_type": "stream",
     "text": [
      "CPU times: user 45.9 s, sys: 395 ms, total: 46.3 s\n",
      "Wall time: 46.1 s\n"
     ]
    },
    {
     "name": "stderr",
     "output_type": "stream",
     "text": [
      "\n"
     ]
    }
   ],
   "source": [
    "%%time\n",
    "# test with CPU faiss \n",
    "dim, time = test(index,step=1_000, high=100_000, k=5, epochs=20)"
   ]
  },
  {
   "cell_type": "code",
   "execution_count": 12,
   "id": "d2dd8747",
   "metadata": {},
   "outputs": [
    {
     "name": "stderr",
     "output_type": "stream",
     "text": [
      "100%|███████████████████████████████████████████████████████████████████████████████████| 20/20 [11:00<00:00, 33.05s/it]\n"
     ]
    }
   ],
   "source": [
    "# continuation of the example with GPU (faster) IndexFlat\n",
    "dim, time = test(gpu_index)"
   ]
  },
  {
   "cell_type": "code",
   "execution_count": 13,
   "id": "68157273",
   "metadata": {},
   "outputs": [],
   "source": [
    "df = pd.DataFrame({\n",
    "    'num_vectors': dim.tolist(),\n",
    "    'query_time': time.tolist()\n",
    "})\n",
    "df['test'] = 'FlatL2'\n",
    "tests = tests.append(df, ignore_index=True)"
   ]
  },
  {
   "cell_type": "code",
   "execution_count": null,
   "id": "237d96e5",
   "metadata": {},
   "outputs": [],
   "source": []
  },
  {
   "cell_type": "code",
   "execution_count": 14,
   "id": "14f16fd8",
   "metadata": {},
   "outputs": [],
   "source": [
    "# IVFFlat\n",
    "\n",
    "nlist = 50 # number of cells or voronoi poligons\n",
    "\n",
    "gpu_index_ivf = faiss.IndexIVFFlat(gpu_index, d, nlist)"
   ]
  },
  {
   "cell_type": "code",
   "execution_count": 18,
   "id": "eaafbb18",
   "metadata": {},
   "outputs": [
    {
     "data": {
      "text/plain": [
       "1"
      ]
     },
     "execution_count": 18,
     "metadata": {},
     "output_type": "execute_result"
    }
   ],
   "source": [
    "gpu_index_ivf.nprobe"
   ]
  },
  {
   "cell_type": "code",
   "execution_count": 15,
   "id": "64176d70",
   "metadata": {},
   "outputs": [
    {
     "name": "stderr",
     "output_type": "stream",
     "text": [
      "100%|███████████████████████████████████████████████████████████████████████████████████| 20/20 [08:57<00:00, 26.88s/it]\n"
     ]
    }
   ],
   "source": [
    "dim, time = test(gpu_index_ivf)"
   ]
  },
  {
   "cell_type": "code",
   "execution_count": 16,
   "id": "af8994f6",
   "metadata": {},
   "outputs": [],
   "source": [
    "df = pd.DataFrame({\n",
    "    'num_vectors': dim.tolist(),\n",
    "    'query_time': time.tolist()\n",
    "})\n",
    "df['test'] = 'IVFFlat'\n",
    "tests = tests.append(df, ignore_index=True)"
   ]
  },
  {
   "cell_type": "code",
   "execution_count": 36,
   "id": "ac5a499d",
   "metadata": {},
   "outputs": [
    {
     "data": {
      "text/plain": [
       "0"
      ]
     },
     "execution_count": 36,
     "metadata": {},
     "output_type": "execute_result"
    }
   ],
   "source": [
    "d%5"
   ]
  },
  {
   "cell_type": "code",
   "execution_count": 41,
   "id": "262609ac",
   "metadata": {},
   "outputs": [],
   "source": [
    "# IVFPQ\n",
    "\n",
    "nlist = 20 # number of cells\n",
    "\n",
    "m = 10 # number of centroids in the final vector\n",
    "bits = 4 # number of bits inside that vector\n",
    "\n",
    "gpu_index_ivfpq = faiss.IndexIVFPQ(gpu_index, d, nlist, m, bits) # reduce the size using this method"
   ]
  },
  {
   "cell_type": "code",
   "execution_count": 42,
   "id": "76c8d2e4",
   "metadata": {},
   "outputs": [
    {
     "data": {
      "text/plain": [
       "<faiss.swigfaiss.IndexIVFPQ; proxy of <Swig Object of type 'faiss::IndexIVFPQ *' at 0x7f55d8cba780> >"
      ]
     },
     "execution_count": 42,
     "metadata": {},
     "output_type": "execute_result"
    }
   ],
   "source": [
    "gpu_index_ivfpq"
   ]
  },
  {
   "cell_type": "code",
   "execution_count": 40,
   "id": "7110e77a",
   "metadata": {},
   "outputs": [
    {
     "name": "stderr",
     "output_type": "stream",
     "text": [
      "  0%|                                                                                            | 0/20 [07:28<?, ?it/s]\n"
     ]
    },
    {
     "ename": "KeyboardInterrupt",
     "evalue": "",
     "output_type": "error",
     "traceback": [
      "\u001b[0;31m---------------------------------------------------------------------------\u001b[0m",
      "\u001b[0;31mKeyboardInterrupt\u001b[0m                         Traceback (most recent call last)",
      "\u001b[0;32m/tmp/ipykernel_303/3980303507.py\u001b[0m in \u001b[0;36m<module>\u001b[0;34m\u001b[0m\n\u001b[0;32m----> 1\u001b[0;31m \u001b[0mdim\u001b[0m\u001b[0;34m,\u001b[0m \u001b[0mtime\u001b[0m \u001b[0;34m=\u001b[0m \u001b[0mtest\u001b[0m\u001b[0;34m(\u001b[0m\u001b[0mgpu_index_ivfpq\u001b[0m\u001b[0;34m)\u001b[0m\u001b[0;34m\u001b[0m\u001b[0;34m\u001b[0m\u001b[0m\n\u001b[0m",
      "\u001b[0;32m/tmp/ipykernel_303/3464719002.py\u001b[0m in \u001b[0;36mtest\u001b[0;34m(index, step, high, k, epochs)\u001b[0m\n\u001b[1;32m     10\u001b[0m             \u001b[0;32mif\u001b[0m \u001b[0;32mnot\u001b[0m \u001b[0mindex\u001b[0m\u001b[0;34m.\u001b[0m\u001b[0mis_trained\u001b[0m\u001b[0;34m:\u001b[0m\u001b[0;34m\u001b[0m\u001b[0;34m\u001b[0m\u001b[0m\n\u001b[1;32m     11\u001b[0m                 \u001b[0mindex\u001b[0m\u001b[0;34m.\u001b[0m\u001b[0mtrain\u001b[0m\u001b[0;34m(\u001b[0m\u001b[0mwb\u001b[0m\u001b[0;34m)\u001b[0m\u001b[0;34m\u001b[0m\u001b[0;34m\u001b[0m\u001b[0m\n\u001b[0;32m---> 12\u001b[0;31m             \u001b[0mindex\u001b[0m\u001b[0;34m.\u001b[0m\u001b[0madd\u001b[0m\u001b[0;34m(\u001b[0m\u001b[0mwb\u001b[0m\u001b[0;34m)\u001b[0m\u001b[0;34m\u001b[0m\u001b[0;34m\u001b[0m\u001b[0m\n\u001b[0m\u001b[1;32m     13\u001b[0m             \u001b[0;31m# start timer\u001b[0m\u001b[0;34m\u001b[0m\u001b[0;34m\u001b[0m\u001b[0;34m\u001b[0m\u001b[0m\n\u001b[1;32m     14\u001b[0m             \u001b[0mstart\u001b[0m \u001b[0;34m=\u001b[0m \u001b[0mdatetime\u001b[0m\u001b[0;34m.\u001b[0m\u001b[0mnow\u001b[0m\u001b[0;34m(\u001b[0m\u001b[0;34m)\u001b[0m\u001b[0;34m\u001b[0m\u001b[0;34m\u001b[0m\u001b[0m\n",
      "\u001b[0;32m~/anaconda3/envs/ml_nlp/lib/python3.7/site-packages/faiss/__init__.py\u001b[0m in \u001b[0;36mreplacement_add\u001b[0;34m(self, x)\u001b[0m\n\u001b[1;32m    213\u001b[0m         \u001b[0mn\u001b[0m\u001b[0;34m,\u001b[0m \u001b[0md\u001b[0m \u001b[0;34m=\u001b[0m \u001b[0mx\u001b[0m\u001b[0;34m.\u001b[0m\u001b[0mshape\u001b[0m\u001b[0;34m\u001b[0m\u001b[0;34m\u001b[0m\u001b[0m\n\u001b[1;32m    214\u001b[0m         \u001b[0;32massert\u001b[0m \u001b[0md\u001b[0m \u001b[0;34m==\u001b[0m \u001b[0mself\u001b[0m\u001b[0;34m.\u001b[0m\u001b[0md\u001b[0m\u001b[0;34m\u001b[0m\u001b[0;34m\u001b[0m\u001b[0m\n\u001b[0;32m--> 215\u001b[0;31m         \u001b[0mself\u001b[0m\u001b[0;34m.\u001b[0m\u001b[0madd_c\u001b[0m\u001b[0;34m(\u001b[0m\u001b[0mn\u001b[0m\u001b[0;34m,\u001b[0m \u001b[0mswig_ptr\u001b[0m\u001b[0;34m(\u001b[0m\u001b[0mx\u001b[0m\u001b[0;34m)\u001b[0m\u001b[0;34m)\u001b[0m\u001b[0;34m\u001b[0m\u001b[0;34m\u001b[0m\u001b[0m\n\u001b[0m\u001b[1;32m    216\u001b[0m \u001b[0;34m\u001b[0m\u001b[0m\n\u001b[1;32m    217\u001b[0m     \u001b[0;32mdef\u001b[0m \u001b[0mreplacement_add_with_ids\u001b[0m\u001b[0;34m(\u001b[0m\u001b[0mself\u001b[0m\u001b[0;34m,\u001b[0m \u001b[0mx\u001b[0m\u001b[0;34m,\u001b[0m \u001b[0mids\u001b[0m\u001b[0;34m)\u001b[0m\u001b[0;34m:\u001b[0m\u001b[0;34m\u001b[0m\u001b[0;34m\u001b[0m\u001b[0m\n",
      "\u001b[0;32m~/anaconda3/envs/ml_nlp/lib/python3.7/site-packages/faiss/swigfaiss.py\u001b[0m in \u001b[0;36madd\u001b[0;34m(self, n, x)\u001b[0m\n\u001b[1;32m   5106\u001b[0m     \u001b[0;32mdef\u001b[0m \u001b[0madd\u001b[0m\u001b[0;34m(\u001b[0m\u001b[0mself\u001b[0m\u001b[0;34m,\u001b[0m \u001b[0mn\u001b[0m\u001b[0;34m,\u001b[0m \u001b[0mx\u001b[0m\u001b[0;34m)\u001b[0m\u001b[0;34m:\u001b[0m\u001b[0;34m\u001b[0m\u001b[0;34m\u001b[0m\u001b[0m\n\u001b[1;32m   5107\u001b[0m         \u001b[0;34mr\"\"\" Calls add_with_ids with NULL ids\"\"\"\u001b[0m\u001b[0;34m\u001b[0m\u001b[0;34m\u001b[0m\u001b[0m\n\u001b[0;32m-> 5108\u001b[0;31m         \u001b[0;32mreturn\u001b[0m \u001b[0m_swigfaiss\u001b[0m\u001b[0;34m.\u001b[0m\u001b[0mIndexIVF_add\u001b[0m\u001b[0;34m(\u001b[0m\u001b[0mself\u001b[0m\u001b[0;34m,\u001b[0m \u001b[0mn\u001b[0m\u001b[0;34m,\u001b[0m \u001b[0mx\u001b[0m\u001b[0;34m)\u001b[0m\u001b[0;34m\u001b[0m\u001b[0;34m\u001b[0m\u001b[0m\n\u001b[0m\u001b[1;32m   5109\u001b[0m \u001b[0;34m\u001b[0m\u001b[0m\n\u001b[1;32m   5110\u001b[0m     \u001b[0;32mdef\u001b[0m \u001b[0madd_with_ids\u001b[0m\u001b[0;34m(\u001b[0m\u001b[0mself\u001b[0m\u001b[0;34m,\u001b[0m \u001b[0mn\u001b[0m\u001b[0;34m,\u001b[0m \u001b[0mx\u001b[0m\u001b[0;34m,\u001b[0m \u001b[0mxids\u001b[0m\u001b[0;34m)\u001b[0m\u001b[0;34m:\u001b[0m\u001b[0;34m\u001b[0m\u001b[0;34m\u001b[0m\u001b[0m\n",
      "\u001b[0;31mKeyboardInterrupt\u001b[0m: "
     ]
    }
   ],
   "source": [
    "dim, time = test(gpu_index_ivfpq)"
   ]
  },
  {
   "cell_type": "code",
   "execution_count": null,
   "id": "05d09267",
   "metadata": {},
   "outputs": [],
   "source": [
    "df = pd.DataFrame({\n",
    "    'num_vectors': dim.tolist(),\n",
    "    'query_time': time.tolist()\n",
    "})\n",
    "df['test'] = 'IVFPQ'\n",
    "tests = tests.append(df, ignore_index=True)"
   ]
  },
  {
   "cell_type": "code",
   "execution_count": 43,
   "id": "b7db53da",
   "metadata": {},
   "outputs": [
    {
     "data": {
      "text/plain": [
       "Text(0, 0.5, 'query time (ms)')"
      ]
     },
     "execution_count": 43,
     "metadata": {},
     "output_type": "execute_result"
    },
    {
     "data": {
      "image/png": "[encoded data removed]",
      "text/plain": [
       "<Figure size 1200x800 with 1 Axes>"
      ]
     },
     "metadata": {},
     "output_type": "display_data"
    }
   ],
   "source": [
    "plt.figure(figsize=(12,8))\n",
    "ax = sns.lineplot(x='num_vectors', y='query_time', \n",
    "                  data=tests,\n",
    "                  hue='test',\n",
    "                  linewidth = 3)\n",
    "ax.set_title('GPU index FlatL2 query')\n",
    "ax.set_xlabel('# of vectors')\n",
    "ax.set_ylabel('query time (ms)')"
   ]
  }
 ],
 "metadata": {
  "kernelspec": {
   "display_name": "Python 3 (ipykernel)",
   "language": "python",
   "name": "python3"
  },
  "language_info": {
   "codemirror_mode": {
    "name": "ipython",
    "version": 3
   },
   "file_extension": ".py",
   "mimetype": "text/x-python",
   "name": "python",
   "nbconvert_exporter": "python",
   "pygments_lexer": "ipython3",
   "version": "3.7.13"
  }
 },
 "nbformat": 4,
 "nbformat_minor": 5
}
