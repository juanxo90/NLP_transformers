{
 "cells": [
  {
   "cell_type": "markdown",
   "id": "9bb99df3",
   "metadata": {},
   "source": [
    "## Introduction to FAISS (Pinecone/James Briggs course)"
   ]
  },
  {
   "cell_type": "code",
   "execution_count": 2,
   "id": "b5c5c30f",
   "metadata": {},
   "outputs": [],
   "source": [
    "import requests\n",
    "import os"
   ]
  },
  {
   "cell_type": "code",
   "execution_count": 1,
   "id": "72ddfc83",
   "metadata": {},
   "outputs": [],
   "source": [
    "data_url = \"https://raw.githubusercontent.com/jamescalam/data/main/sentence_embeddings_15K/\""
   ]
  },
  {
   "cell_type": "code",
   "execution_count": null,
   "id": "61ca543d",
   "metadata": {},
   "outputs": [],
   "source": [
    "os.chdir(os.path.join(os.getcwd()))\n",
    "os.mkdir('../../data/')\n",
    "if not os.path.exists('../../data/data_faiss_intro'):\n",
    "    os.mkdir('../../data/data_faiss_intro')\n",
    "\n",
    "for i in range(57):\n",
    "#     if i < 10:\n",
    "#         i = '0' + str(i)\n",
    "    res = requests.get(data_url+f\"embeddings_{i}.npy\")\n",
    "    with open(f'../../data/data_faiss_intro/embeddings_{i}.npy', 'wb') as fp:\n",
    "        for chunk in res:\n",
    "            fp.write(chunk)\n",
    "    print('.', end='')"
   ]
  },
  {
   "cell_type": "code",
   "execution_count": null,
   "id": "c3bfb28a",
   "metadata": {},
   "outputs": [],
   "source": [
    "res = requests.get(f\"{data_url}sentences.txt\")\n",
    "with open(f\"../../data/data_faiss_intro/sentences.txt\", 'wb') as fp:\n",
    "    for chunk in res:\n",
    "        fp.write(chunk)"
   ]
  },
  {
   "cell_type": "code",
   "execution_count": 3,
   "id": "ef1c21c3",
   "metadata": {},
   "outputs": [],
   "source": [
    "import numpy as np"
   ]
  },
  {
   "cell_type": "code",
   "execution_count": 4,
   "id": "de112518",
   "metadata": {},
   "outputs": [],
   "source": [
    "for i  in range(57):\n",
    "    if i == 0:\n",
    "        with open(f'../../data/data_faiss_intro/embeddings_{i}.npy', 'rb') as fp:\n",
    "            sentence_embedding = np.load(fp)\n",
    "    else:\n",
    "        with open(f'../../data/data_faiss_intro/embeddings_{i}.npy', 'rb') as fp:\n",
    "            sentence_embedding = np.append(\n",
    "                sentence_embedding, \n",
    "                np.load(fp), axis=0\n",
    "            )      "
   ]
  },
  {
   "cell_type": "code",
   "execution_count": 5,
   "id": "2263c351",
   "metadata": {},
   "outputs": [
    {
     "data": {
      "text/plain": [
       "(14504, 768)"
      ]
     },
     "execution_count": 5,
     "metadata": {},
     "output_type": "execute_result"
    }
   ],
   "source": [
    "sentence_embedding.shape"
   ]
  },
  {
   "cell_type": "code",
   "execution_count": 6,
   "id": "7695e034",
   "metadata": {},
   "outputs": [],
   "source": [
    "with open('../../data/data_faiss_intro/sentences.txt', 'r') as fp:\n",
    "    lines = fp.read().split('\\n')"
   ]
  },
  {
   "cell_type": "code",
   "execution_count": 7,
   "id": "c3b7d63b",
   "metadata": {
    "scrolled": false
   },
   "outputs": [
    {
     "data": {
      "text/plain": [
       "['A group of four children dancing in a backyard.',\n",
       " 'The Conference Board said its measure of business confidence, which had fallen to 53 in the first quarter of 2003, improved to 60 in the most recent second quarter.',\n",
       " 'a person eating a meal, often in a restaurant',\n",
       " 'When you crossed the line, you violated the constitutional right,\" said Charles Weisselberg, who teaches law at the University of California, Berkeley.',\n",
       " \"Ross Garber, Rowland's legal counsel, said the governor would have no comment on the condo deal.\"]"
      ]
     },
     "execution_count": 7,
     "metadata": {},
     "output_type": "execute_result"
    }
   ],
   "source": [
    "lines[:5]"
   ]
  },
  {
   "cell_type": "code",
   "execution_count": 8,
   "id": "5b7ea512",
   "metadata": {
    "scrolled": false
   },
   "outputs": [],
   "source": [
    "from sentence_transformers import SentenceTransformer"
   ]
  },
  {
   "cell_type": "code",
   "execution_count": 9,
   "id": "2e0110a8",
   "metadata": {},
   "outputs": [
    {
     "data": {
      "application/json": {
       "ascii": false,
       "bar_format": null,
       "colour": null,
       "elapsed": 0.015413761138916016,
       "initial": 0,
       "n": 0,
       "ncols": null,
       "nrows": 30,
       "postfix": null,
       "prefix": "Downloading",
       "rate": null,
       "total": 1175,
       "unit": "B",
       "unit_divisor": 1000,
       "unit_scale": true
      },
      "application/vnd.jupyter.widget-view+json": {
       "model_id": "208101f26c074027a74be4fa0dd42c40",
       "version_major": 2,
       "version_minor": 0
      },
      "text/plain": [
       "Downloading:   0%|          | 0.00/1.18k [00:00<?, ?B/s]"
      ]
     },
     "metadata": {},
     "output_type": "display_data"
    },
    {
     "data": {
      "application/json": {
       "ascii": false,
       "bar_format": null,
       "colour": null,
       "elapsed": 0.02379584312438965,
       "initial": 0,
       "n": 0,
       "ncols": null,
       "nrows": 30,
       "postfix": null,
       "prefix": "Downloading",
       "rate": null,
       "total": 190,
       "unit": "B",
       "unit_divisor": 1000,
       "unit_scale": true
      },
      "application/vnd.jupyter.widget-view+json": {
       "model_id": "14c737a21c654565928e3f5a9be9fb4e",
       "version_major": 2,
       "version_minor": 0
      },
      "text/plain": [
       "Downloading:   0%|          | 0.00/190 [00:00<?, ?B/s]"
      ]
     },
     "metadata": {},
     "output_type": "display_data"
    },
    {
     "data": {
      "application/json": {
       "ascii": false,
       "bar_format": null,
       "colour": null,
       "elapsed": 0.022719621658325195,
       "initial": 0,
       "n": 0,
       "ncols": null,
       "nrows": 30,
       "postfix": null,
       "prefix": "Downloading",
       "rate": null,
       "total": 2725,
       "unit": "B",
       "unit_divisor": 1000,
       "unit_scale": true
      },
      "application/vnd.jupyter.widget-view+json": {
       "model_id": "73a5c7da97694e7dba6573ffdf16b5c4",
       "version_major": 2,
       "version_minor": 0
      },
      "text/plain": [
       "Downloading:   0%|          | 0.00/2.73k [00:00<?, ?B/s]"
      ]
     },
     "metadata": {},
     "output_type": "display_data"
    },
    {
     "data": {
      "application/json": {
       "ascii": false,
       "bar_format": null,
       "colour": null,
       "elapsed": 0.0240323543548584,
       "initial": 0,
       "n": 0,
       "ncols": null,
       "nrows": 30,
       "postfix": null,
       "prefix": "Downloading",
       "rate": null,
       "total": 677,
       "unit": "B",
       "unit_divisor": 1000,
       "unit_scale": true
      },
      "application/vnd.jupyter.widget-view+json": {
       "model_id": "9ee47b2d1b34411a8ee57f4d0c681d0a",
       "version_major": 2,
       "version_minor": 0
      },
      "text/plain": [
       "Downloading:   0%|          | 0.00/677 [00:00<?, ?B/s]"
      ]
     },
     "metadata": {},
     "output_type": "display_data"
    },
    {
     "data": {
      "application/json": {
       "ascii": false,
       "bar_format": null,
       "colour": null,
       "elapsed": 0.02347278594970703,
       "initial": 0,
       "n": 0,
       "ncols": null,
       "nrows": 30,
       "postfix": null,
       "prefix": "Downloading",
       "rate": null,
       "total": 116,
       "unit": "B",
       "unit_divisor": 1000,
       "unit_scale": true
      },
      "application/vnd.jupyter.widget-view+json": {
       "model_id": "67316e1590274655ba9ab23590a5ae76",
       "version_major": 2,
       "version_minor": 0
      },
      "text/plain": [
       "Downloading:   0%|          | 0.00/116 [00:00<?, ?B/s]"
      ]
     },
     "metadata": {},
     "output_type": "display_data"
    },
    {
     "data": {
      "application/json": {
       "ascii": false,
       "bar_format": null,
       "colour": null,
       "elapsed": 0.023949623107910156,
       "initial": 0,
       "n": 0,
       "ncols": null,
       "nrows": 30,
       "postfix": null,
       "prefix": "Downloading",
       "rate": null,
       "total": 1112259141,
       "unit": "B",
       "unit_divisor": 1000,
       "unit_scale": true
      },
      "application/vnd.jupyter.widget-view+json": {
       "model_id": "89cc0aeec37c43f7a9a94445729b7e6c",
       "version_major": 2,
       "version_minor": 0
      },
      "text/plain": [
       "Downloading:   0%|          | 0.00/1.11G [00:00<?, ?B/s]"
      ]
     },
     "metadata": {},
     "output_type": "display_data"
    },
    {
     "data": {
      "application/json": {
       "ascii": false,
       "bar_format": null,
       "colour": null,
       "elapsed": 0.022574424743652344,
       "initial": 0,
       "n": 0,
       "ncols": null,
       "nrows": 30,
       "postfix": null,
       "prefix": "Downloading",
       "rate": null,
       "total": 53,
       "unit": "B",
       "unit_divisor": 1000,
       "unit_scale": true
      },
      "application/vnd.jupyter.widget-view+json": {
       "model_id": "365863a19a8243ffb8eb78ab857e86b6",
       "version_major": 2,
       "version_minor": 0
      },
      "text/plain": [
       "Downloading:   0%|          | 0.00/53.0 [00:00<?, ?B/s]"
      ]
     },
     "metadata": {},
     "output_type": "display_data"
    },
    {
     "data": {
      "application/json": {
       "ascii": false,
       "bar_format": null,
       "colour": null,
       "elapsed": 0.016133785247802734,
       "initial": 0,
       "n": 0,
       "ncols": null,
       "nrows": 30,
       "postfix": null,
       "prefix": "Downloading",
       "rate": null,
       "total": 5069051,
       "unit": "B",
       "unit_divisor": 1000,
       "unit_scale": true
      },
      "application/vnd.jupyter.widget-view+json": {
       "model_id": "5cd5180d3a1249869ba0ac46536cdfeb",
       "version_major": 2,
       "version_minor": 0
      },
      "text/plain": [
       "Downloading:   0%|          | 0.00/5.07M [00:00<?, ?B/s]"
      ]
     },
     "metadata": {},
     "output_type": "display_data"
    },
    {
     "data": {
      "application/json": {
       "ascii": false,
       "bar_format": null,
       "colour": null,
       "elapsed": 0.02338433265686035,
       "initial": 0,
       "n": 0,
       "ncols": null,
       "nrows": 30,
       "postfix": null,
       "prefix": "Downloading",
       "rate": null,
       "total": 239,
       "unit": "B",
       "unit_divisor": 1000,
       "unit_scale": true
      },
      "application/vnd.jupyter.widget-view+json": {
       "model_id": "8c575743c6a948d4ab5110ec36aa6e6e",
       "version_major": 2,
       "version_minor": 0
      },
      "text/plain": [
       "Downloading:   0%|          | 0.00/239 [00:00<?, ?B/s]"
      ]
     },
     "metadata": {},
     "output_type": "display_data"
    },
    {
     "data": {
      "application/json": {
       "ascii": false,
       "bar_format": null,
       "colour": null,
       "elapsed": 0.01559591293334961,
       "initial": 0,
       "n": 0,
       "ncols": null,
       "nrows": 30,
       "postfix": null,
       "prefix": "Downloading",
       "rate": null,
       "total": 9081518,
       "unit": "B",
       "unit_divisor": 1000,
       "unit_scale": true
      },
      "application/vnd.jupyter.widget-view+json": {
       "model_id": "987693004d574ca9bc9ffa4b76fee3cf",
       "version_major": 2,
       "version_minor": 0
      },
      "text/plain": [
       "Downloading:   0%|          | 0.00/9.08M [00:00<?, ?B/s]"
      ]
     },
     "metadata": {},
     "output_type": "display_data"
    },
    {
     "data": {
      "application/json": {
       "ascii": false,
       "bar_format": null,
       "colour": null,
       "elapsed": 0.02312636375427246,
       "initial": 0,
       "n": 0,
       "ncols": null,
       "nrows": 30,
       "postfix": null,
       "prefix": "Downloading",
       "rate": null,
       "total": 356,
       "unit": "B",
       "unit_divisor": 1000,
       "unit_scale": true
      },
      "application/vnd.jupyter.widget-view+json": {
       "model_id": "3fd32fa175c7473788c580658e59e002",
       "version_major": 2,
       "version_minor": 0
      },
      "text/plain": [
       "Downloading:   0%|          | 0.00/356 [00:00<?, ?B/s]"
      ]
     },
     "metadata": {},
     "output_type": "display_data"
    },
    {
     "data": {
      "application/json": {
       "ascii": false,
       "bar_format": null,
       "colour": null,
       "elapsed": 0.014247417449951172,
       "initial": 0,
       "n": 0,
       "ncols": null,
       "nrows": 30,
       "postfix": null,
       "prefix": "Downloading",
       "rate": null,
       "total": 229,
       "unit": "B",
       "unit_divisor": 1000,
       "unit_scale": true
      },
      "application/vnd.jupyter.widget-view+json": {
       "model_id": "a14fdfe6957448cb9c20dbd1118e595f",
       "version_major": 2,
       "version_minor": 0
      },
      "text/plain": [
       "Downloading:   0%|          | 0.00/229 [00:00<?, ?B/s]"
      ]
     },
     "metadata": {},
     "output_type": "display_data"
    }
   ],
   "source": [
    "model = SentenceTransformer('symanto/sn-xlm-roberta-base-snli-mnli-anli-xnli')"
   ]
  },
  {
   "cell_type": "code",
   "execution_count": 10,
   "id": "dcaa3d7c",
   "metadata": {
    "scrolled": false
   },
   "outputs": [],
   "source": [
    "# model.encode(['Hello wolrd'], device='cuda', show_progress_bar=True)"
   ]
  },
  {
   "cell_type": "code",
   "execution_count": 11,
   "id": "bd955a52",
   "metadata": {},
   "outputs": [],
   "source": [
    "import faiss"
   ]
  },
  {
   "cell_type": "markdown",
   "id": "02b40c8e",
   "metadata": {},
   "source": [
    "## Index using FlatL2"
   ]
  },
  {
   "cell_type": "code",
   "execution_count": null,
   "id": "2fb8ea94",
   "metadata": {},
   "outputs": [],
   "source": [
    "#IndexFlatL2 (eulidean distance)\n",
    "d = sentence_embedding.shape[1]"
   ]
  },
  {
   "cell_type": "code",
   "execution_count": null,
   "id": "66d91164",
   "metadata": {
    "scrolled": false
   },
   "outputs": [],
   "source": [
    "index_fl2 = faiss.IndexFlatL2(d) # define index type\n",
    "res = faiss.StandardGpuResources()  # use a single GPU\n",
    "\n",
    "# make it into a gpu index\n",
    "gpu_index_fl2 = faiss.index_cpu_to_gpu(res, 0, index_fl2)\n"
   ]
  },
  {
   "cell_type": "code",
   "execution_count": null,
   "id": "cf4b2a36",
   "metadata": {},
   "outputs": [],
   "source": [
    "gpu_index_fl2.is_trained"
   ]
  },
  {
   "cell_type": "code",
   "execution_count": null,
   "id": "ef682757",
   "metadata": {},
   "outputs": [],
   "source": [
    "gpu_index_fl2.add(sentence_embedding)"
   ]
  },
  {
   "cell_type": "code",
   "execution_count": null,
   "id": "440c0a42",
   "metadata": {},
   "outputs": [],
   "source": [
    "gpu_index_fl2.ntotal"
   ]
  },
  {
   "cell_type": "code",
   "execution_count": null,
   "id": "eac26168",
   "metadata": {},
   "outputs": [],
   "source": [
    "xq = model.encode(['someone sprints with a football'], device = 'cuda')"
   ]
  },
  {
   "cell_type": "code",
   "execution_count": null,
   "id": "5102383c",
   "metadata": {},
   "outputs": [],
   "source": [
    "k = 4 # similar vectors number"
   ]
  },
  {
   "cell_type": "code",
   "execution_count": null,
   "id": "5b9542b6",
   "metadata": {},
   "outputs": [],
   "source": [
    "%%time\n",
    "D, I = gpu_index_fl2.search(xq, k)\n",
    "print(I)"
   ]
  },
  {
   "cell_type": "code",
   "execution_count": null,
   "id": "10d672ef",
   "metadata": {},
   "outputs": [],
   "source": [
    "[f'{i}: {lines[i]}' for i in I[0]]"
   ]
  },
  {
   "cell_type": "markdown",
   "id": "4215a329",
   "metadata": {},
   "source": [
    "## Partitioning indexing using IVFFlat\n",
    "\n",
    "Approximate searching "
   ]
  },
  {
   "cell_type": "code",
   "execution_count": null,
   "id": "72458529",
   "metadata": {},
   "outputs": [],
   "source": [
    "nlist = 50 # number of cells or voronoi poligons\n",
    "\n",
    "# Flat L2 Index\n",
    "index = faiss.IndexFlatL2(d)\n",
    "\n",
    "res = faiss.StandardGpuResources()  # use a single GPU\n",
    "# make it into a gpu index and takenir\n",
    "quantizer = faiss.index_cpu_to_gpu(res, 0, index)\n",
    "\n",
    "gpu_index_ivf = faiss.IndexIVFFlat(quantizer, d, nlist)"
   ]
  },
  {
   "cell_type": "code",
   "execution_count": null,
   "id": "1854a587",
   "metadata": {},
   "outputs": [],
   "source": [
    "gpu_index_ivf.is_trained"
   ]
  },
  {
   "cell_type": "code",
   "execution_count": null,
   "id": "546ad10b",
   "metadata": {},
   "outputs": [],
   "source": [
    "# we need to train our index\n",
    "gpu_index_ivf.train(sentence_embedding)"
   ]
  },
  {
   "cell_type": "code",
   "execution_count": null,
   "id": "0a788cd9",
   "metadata": {},
   "outputs": [],
   "source": [
    "gpu_index_ivf.is_trained"
   ]
  },
  {
   "cell_type": "code",
   "execution_count": null,
   "id": "d7193e8b",
   "metadata": {},
   "outputs": [],
   "source": [
    "gpu_index_ivf.add(sentence_embedding)\n",
    "gpu_index_ivf.ntotal"
   ]
  },
  {
   "cell_type": "code",
   "execution_count": null,
   "id": "a9722df0",
   "metadata": {},
   "outputs": [],
   "source": [
    "%%time\n",
    "D, I = gpu_index_ivf.search(xq, k)\n",
    "print(I)"
   ]
  },
  {
   "cell_type": "code",
   "execution_count": null,
   "id": "82a2044c",
   "metadata": {},
   "outputs": [],
   "source": [
    "[f'{i}: {lines[i]}' for i in I[0]]"
   ]
  },
  {
   "cell_type": "code",
   "execution_count": null,
   "id": "98af6776",
   "metadata": {},
   "outputs": [],
   "source": [
    "# change nprobe to improve better results but with less speed\n",
    "gpu_index_ivf.nprobe = 10"
   ]
  },
  {
   "cell_type": "code",
   "execution_count": null,
   "id": "d3bce009",
   "metadata": {},
   "outputs": [],
   "source": [
    "%%time\n",
    "D, I = gpu_index_ivf.search(xq, k)\n",
    "print(I)"
   ]
  },
  {
   "cell_type": "code",
   "execution_count": null,
   "id": "f291b7b3",
   "metadata": {},
   "outputs": [],
   "source": [
    "[f'{i}: {lines[i]}' for i in I[0]]"
   ]
  },
  {
   "cell_type": "markdown",
   "id": "cd8cf766",
   "metadata": {},
   "source": [
    "## Product quantization index\n",
    "\n",
    "Faster but with with less precision. \n",
    "\n",
    "Split the original vector in n sub-vectors. Run a cluster algorithm for every sub-vector. Search the similar cluster and search the result inside the sub-vector that corresponds the cluster."
   ]
  },
  {
   "cell_type": "code",
   "execution_count": null,
   "id": "87195b1a",
   "metadata": {},
   "outputs": [],
   "source": [
    "# firs we need to see if we can divide the centroid\n",
    "# d need to be a multiple of m\n",
    "d % 8"
   ]
  },
  {
   "cell_type": "code",
   "execution_count": null,
   "id": "38038ff2",
   "metadata": {},
   "outputs": [],
   "source": [
    "nlist = 50 # number of cells\n",
    "\n",
    "m = 8 # number of centroids in the final vector\n",
    "bits = 8 # number of bits inside that vector\n",
    "\n",
    "# quantizer Flat L2 Index\n",
    "index = faiss.IndexFlatL2(d)\n",
    "\n",
    "res = faiss.StandardGpuResources()  # use a single GPU\n",
    "# make it into a gpu index and takenir\n",
    "quantizer = faiss.index_cpu_to_gpu(res, 0, index)\n",
    "\n",
    "gpu_index_ivfpq = faiss.IndexIVFPQ(quantizer, d, nlist, m, bits) # reduce the size using this method"
   ]
  },
  {
   "cell_type": "code",
   "execution_count": null,
   "id": "031e7e10",
   "metadata": {},
   "outputs": [],
   "source": [
    "gpu_index_ivfpq.is_trained"
   ]
  },
  {
   "cell_type": "code",
   "execution_count": null,
   "id": "ba2c23af",
   "metadata": {},
   "outputs": [],
   "source": [
    "gpu_index_ivfpq.train(sentence_embedding)"
   ]
  },
  {
   "cell_type": "code",
   "execution_count": null,
   "id": "b66d8fd6",
   "metadata": {},
   "outputs": [],
   "source": [
    "gpu_index_ivfpq.is_trained"
   ]
  },
  {
   "cell_type": "code",
   "execution_count": null,
   "id": "a806ef3d",
   "metadata": {},
   "outputs": [],
   "source": [
    "gpu_index_ivfpq.add(sentence_embedding)\n",
    "gpu_index_ivfpq.ntotal"
   ]
  },
  {
   "cell_type": "code",
   "execution_count": null,
   "id": "05006430",
   "metadata": {},
   "outputs": [],
   "source": [
    "%%time\n",
    "D, I = gpu_index_ivfpq.search(xq, k)\n",
    "print(I)"
   ]
  },
  {
   "cell_type": "code",
   "execution_count": null,
   "id": "eb966bad",
   "metadata": {},
   "outputs": [],
   "source": [
    "[f'{i}: {lines[i]}' for i in I[0]]"
   ]
  },
  {
   "cell_type": "markdown",
   "id": "cf297199",
   "metadata": {},
   "source": [
    "## Speed improvement with syntethic data"
   ]
  },
  {
   "cell_type": "code",
   "execution_count": 12,
   "id": "b377b016",
   "metadata": {},
   "outputs": [],
   "source": [
    "import pandas as pd\n",
    "import matplotlib.pyplot as plt\n",
    "import seaborn as snsaaaaaaaaaaaaaassssssssssssssssssssssss\n",
    "from tqdm import tqdm\n",
    "from datetime import datetime"
   ]
  },
  {
   "cell_type": "code",
   "execution_count": 13,
   "id": "70270517",
   "metadata": {},
   "outputs": [],
   "source": [
    "colors = ['#041BB3', '#E31957', '#12B0A7','#B8255F' ,'#FAD000' ,'#000000']\n",
    "sns.set_palette(sns.color_palette(colors))\n",
    "sns.set_theme(font_scale=1.4)"
   ]
  },
  {
   "cell_type": "code",
   "execution_count": 14,
   "id": "f20cd6f4",
   "metadata": {},
   "outputs": [],
   "source": [
    "def make_array(nb, d=100):\n",
    "    return np.random.random((nb, d)).astype('float32')"
   ]
  },
  {
   "cell_type": "code",
   "execution_count": 15,
   "id": "3987c7f1",
   "metadata": {},
   "outputs": [],
   "source": [
    "def test(index, step=1_000, high=1_000_000, k=5, epochs=20):\n",
    "    timer = np.zeros((epochs, int(high/step)))\n",
    "    dim = np.zeros((int(high/step)))\n",
    "    xq = make_array(1)\n",
    "    for epoch in tqdm(range(epochs)):\n",
    "        index.reset()\n",
    "        iter_step = 0\n",
    "        for i in range(step, high, step):\n",
    "            wb = make_array(step)\n",
    "            if not index.is_trained:\n",
    "                index.train(wb)\n",
    "            index.add(wb)\n",
    "            # start timer\n",
    "            start = datetime.now()\n",
    "            D,I = index.search(xq, k)\n",
    "            time_taken = (datetime.now() - start).microseconds\n",
    "            timer[epoch, iter_step] = time_taken\n",
    "            dim[iter_step] = i\n",
    "            iter_step += 1\n",
    "    timer = np.median(timer, axis=0)\n",
    "    return dim, timer"
   ]
  },
  {
   "cell_type": "code",
   "execution_count": 16,
   "id": "5ea4b7a8",
   "metadata": {},
   "outputs": [],
   "source": [
    "d = 100\n",
    "tests = pd.DataFrame({\n",
    "    'num_vectors' : [],\n",
    "    'query_time': [],\n",
    "    'test': []\n",
    "})\n"
   ]
  },
  {
   "cell_type": "code",
   "execution_count": 17,
   "id": "b0f8b31d",
   "metadata": {},
   "outputs": [],
   "source": [
    "# Flat L2 Index\n",
    "index = faiss.IndexFlatL2(d)"
   ]
  },
  {
   "cell_type": "code",
   "execution_count": 18,
   "id": "851ab82b",
   "metadata": {},
   "outputs": [],
   "source": [
    "res = faiss.StandardGpuResources()  # use a single GPU\n",
    "# make it into a gpu index\n",
    "gpu_index = faiss.index_cpu_to_gpu(res, 0, index)"
   ]
  },
  {
   "cell_type": "code",
   "execution_count": 19,
   "id": "9e5404e9",
   "metadata": {},
   "outputs": [
    {
     "name": "stderr",
     "output_type": "stream",
     "text": [
      "100%|███████████████████████████████████████████████████████████████████████████████████| 20/20 [00:06<00:00,  2.90it/s]"
     ]
    },
    {
     "name": "stdout",
     "output_type": "stream",
     "text": [
      "CPU times: user 5.61 s, sys: 122 ms, total: 5.73 s\n",
      "Wall time: 6.91 s\n"
     ]
    },
    {
     "name": "stderr",
     "output_type": "stream",
     "text": [
      "\n"
     ]
    }
   ],
   "source": [
    "%%time\n",
    "# test with GPU faiss time\n",
    "dim, time = test(gpu_index,step=1_000, high=100_000, k=5, epochs=20)"
   ]
  },
  {
   "cell_type": "code",
   "execution_count": 20,
   "id": "2f9198a4",
   "metadata": {},
   "outputs": [
    {
     "name": "stderr",
     "output_type": "stream",
     "text": [
      "100%|███████████████████████████████████████████████████████████████████████████████████| 20/20 [00:10<00:00,  1.85it/s]"
     ]
    },
    {
     "name": "stdout",
     "output_type": "stream",
     "text": [
      "CPU times: user 10.8 s, sys: 0 ns, total: 10.8 s\n",
      "Wall time: 10.8 s\n"
     ]
    },
    {
     "name": "stderr",
     "output_type": "stream",
     "text": [
      "\n"
     ]
    }
   ],
   "source": [
    "%%time\n",
    "# test with CPU faiss \n",
    "dim, time = test(index,step=1_000, high=100_000, k=5, epochs=20)"
   ]
  },
  {
   "cell_type": "code",
   "execution_count": 21,
   "id": "d2dd8747",
   "metadata": {},
   "outputs": [
    {
     "name": "stderr",
     "output_type": "stream",
     "text": [
      "100%|███████████████████████████████████████████████████████████████████████████████████| 20/20 [06:33<00:00, 19.69s/it]"
     ]
    },
    {
     "name": "stdout",
     "output_type": "stream",
     "text": [
      "CPU times: user 5min 7s, sys: 3.63 s, total: 5min 11s\n",
      "Wall time: 6min 33s\n"
     ]
    },
    {
     "name": "stderr",
     "output_type": "stream",
     "text": [
      "\n"
     ]
    }
   ],
   "source": [
    "%%time\n",
    "# continuation of the example with GPU (faster) IndexFlat\n",
    "dim, time = test(gpu_index)"
   ]
  },
  {
   "cell_type": "code",
   "execution_count": 22,
   "id": "68157273",
   "metadata": {},
   "outputs": [],
   "source": [
    "df = pd.DataFrame({\n",
    "    'num_vectors': dim.tolist(),\n",
    "    'query_time': time.tolist()\n",
    "})\n",
    "df['test'] = 'FlatL2'\n",
    "tests = tests.append(df, ignore_index=True)"
   ]
  },
  {
   "cell_type": "code",
   "execution_count": 25,
   "id": "14f16fd8",
   "metadata": {},
   "outputs": [],
   "source": [
    "# IVFFlat\n",
    "\n",
    "nlist = 50 # number of cells or voronoi poligons\n",
    "quantizer = faiss.IndexFlatL2(d)\n",
    "index_ivf = faiss.IndexIVFFlat(quantizer, d, nlist)\n",
    "gpu_index_ivf =  faiss.index_cpu_to_gpu(res, 0, index_ivf)"
   ]
  },
  {
   "cell_type": "code",
   "execution_count": 26,
   "id": "eaafbb18",
   "metadata": {},
   "outputs": [
    {
     "data": {
      "text/plain": [
       "1"
      ]
     },
     "execution_count": 26,
     "metadata": {},
     "output_type": "execute_result"
    }
   ],
   "source": [
    "gpu_index_ivf.nprobe"
   ]
  },
  {
   "cell_type": "code",
   "execution_count": 28,
   "id": "64176d70",
   "metadata": {},
   "outputs": [
    {
     "name": "stderr",
     "output_type": "stream",
     "text": [
      "  0%|                                                                                            | 0/20 [00:00<?, ?it/s]WARNING clustering 1000 points to 50 centroids: please provide at least 1950 training points\n",
      "100%|███████████████████████████████████████████████████████████████████████████████████| 20/20 [00:39<00:00,  1.97s/it]"
     ]
    },
    {
     "name": "stdout",
     "output_type": "stream",
     "text": [
      "CPU times: user 35.4 s, sys: 3.06 s, total: 38.4 s\n",
      "Wall time: 39.4 s\n"
     ]
    },
    {
     "name": "stderr",
     "output_type": "stream",
     "text": [
      "\n"
     ]
    }
   ],
   "source": [
    "%%time\n",
    "dim, time = test(gpu_index_ivf)"
   ]
  },
  {
   "cell_type": "code",
   "execution_count": 29,
   "id": "af8994f6",
   "metadata": {},
   "outputs": [],
   "source": [
    "df = pd.DataFrame({\n",
    "    'num_vectors': dim.tolist(),\n",
    "    'query_time': time.tolist()\n",
    "})\n",
    "df['test'] = 'IVFFlat'\n",
    "tests = tests.append(df, ignore_index=True)"
   ]
  },
  {
   "cell_type": "code",
   "execution_count": 30,
   "id": "3aa51532",
   "metadata": {},
   "outputs": [],
   "source": [
    "# ivf n probe 5\n",
    "gpu_index_ivf.nprobe = 5"
   ]
  },
  {
   "cell_type": "code",
   "execution_count": 31,
   "id": "badc4a21",
   "metadata": {},
   "outputs": [
    {
     "name": "stderr",
     "output_type": "stream",
     "text": [
      "100%|███████████████████████████████████████████████████████████████████████████████████| 20/20 [00:49<00:00,  2.47s/it]\n"
     ]
    }
   ],
   "source": [
    "dim, time = test(gpu_index_ivf)"
   ]
  },
  {
   "cell_type": "code",
   "execution_count": 32,
   "id": "84f94669",
   "metadata": {},
   "outputs": [],
   "source": [
    "df = pd.DataFrame({\n",
    "    'num_vectors': dim.tolist(),\n",
    "    'query_time': time.tolist()\n",
    "})\n",
    "df['test'] = 'IVFFlat 5'\n",
    "tests = tests.append(df, ignore_index=True)"
   ]
  },
  {
   "cell_type": "code",
   "execution_count": 33,
   "id": "43ca9f18",
   "metadata": {},
   "outputs": [],
   "source": [
    "# ivf n probe 10\n",
    "gpu_index_ivf.nprobe = 10"
   ]
  },
  {
   "cell_type": "code",
   "execution_count": 34,
   "id": "ab74b05c",
   "metadata": {},
   "outputs": [
    {
     "name": "stderr",
     "output_type": "stream",
     "text": [
      "100%|███████████████████████████████████████████████████████████████████████████████████| 20/20 [00:52<00:00,  2.64s/it]"
     ]
    },
    {
     "name": "stdout",
     "output_type": "stream",
     "text": [
      "CPU times: user 47.5 s, sys: 3.03 s, total: 50.5 s\n",
      "Wall time: 52.8 s\n"
     ]
    },
    {
     "name": "stderr",
     "output_type": "stream",
     "text": [
      "\n"
     ]
    }
   ],
   "source": [
    "%%time\n",
    "dim, time = test(gpu_index_ivf)"
   ]
  },
  {
   "cell_type": "code",
   "execution_count": 35,
   "id": "bfceca2d",
   "metadata": {},
   "outputs": [],
   "source": [
    "df = pd.DataFrame({\n",
    "    'num_vectors': dim.tolist(),\n",
    "    'query_time': time.tolist()\n",
    "})\n",
    "df['test'] = 'IVFFlat 10'\n",
    "tests = tests.append(df, ignore_index=True)"
   ]
  },
  {
   "cell_type": "code",
   "execution_count": 70,
   "id": "ac5a499d",
   "metadata": {},
   "outputs": [
    {
     "data": {
      "text/plain": [
       "0"
      ]
     },
     "execution_count": 70,
     "metadata": {},
     "output_type": "execute_result"
    }
   ],
   "source": [
    "d%10"
   ]
  },
  {
   "cell_type": "code",
   "execution_count": 74,
   "id": "262609ac",
   "metadata": {},
   "outputs": [],
   "source": [
    "# IVFPQ\n",
    "nlist = 50 # number of cells or number of centroids\n",
    "\n",
    "m = 4 # number of centroids in the final vector or code sizes\n",
    "bits = 8 # number of bits inside that vector\n",
    "\n",
    "quantizer = faiss.IndexFlatL2(d)\n",
    "\n",
    "# co is only for GPU\n",
    "# co = faiss.GpuClonerOptions()\n",
    "# co.useFloat16LookupTables = True\n",
    "# co.useFloat16 = True\n",
    "\n",
    "index_ivfpq = faiss.IndexIVFPQ(quantizer, d, nlist, m, bits) # reduce the size using this method\n",
    "gpu_index_ivfpq =  faiss.index_cpu_to_gpu(res, 0, index_ivfpq)"
   ]
  },
  {
   "cell_type": "code",
   "execution_count": 75,
   "id": "7110e77a",
   "metadata": {},
   "outputs": [
    {
     "name": "stderr",
     "output_type": "stream",
     "text": [
      "  0%|                                                                                            | 0/20 [00:00<?, ?it/s]WARNING clustering 1000 points to 50 centroids: please provide at least 1950 training points\n",
      "WARNING clustering 1000 points to 256 centroids: please provide at least 9984 training points\n",
      "WARNING clustering 1000 points to 256 centroids: please provide at least 9984 training points\n",
      "WARNING clustering 1000 points to 256 centroids: please provide at least 9984 training points\n",
      "WARNING clustering 1000 points to 256 centroids: please provide at least 9984 training points\n",
      "100%|███████████████████████████████████████████████████████████████████████████████████| 20/20 [00:53<00:00,  2.67s/it]"
     ]
    },
    {
     "name": "stdout",
     "output_type": "stream",
     "text": [
      "CPU times: user 48 s, sys: 8.05 s, total: 56 s\n",
      "Wall time: 53.3 s\n"
     ]
    },
    {
     "name": "stderr",
     "output_type": "stream",
     "text": [
      "\n"
     ]
    }
   ],
   "source": [
    "%%time\n",
    "dim, time = test(gpu_index_ivfpq)"
   ]
  },
  {
   "cell_type": "code",
   "execution_count": 76,
   "id": "05d09267",
   "metadata": {},
   "outputs": [],
   "source": [
    "df = pd.DataFrame({\n",
    "    'num_vectors': dim.tolist(),\n",
    "    'query_time': time.tolist()\n",
    "})\n",
    "df['test'] = 'IVFPQ'\n",
    "tests = tests.append(df, ignore_index=True)"
   ]
  },
  {
   "cell_type": "code",
   "execution_count": 77,
   "id": "e5c75779",
   "metadata": {},
   "outputs": [],
   "source": [
    "# ivfpq nprobe = 10\n",
    "gpu_index_ivfpq.nprobe = 10"
   ]
  },
  {
   "cell_type": "code",
   "execution_count": 78,
   "id": "92c5d910",
   "metadata": {},
   "outputs": [
    {
     "name": "stderr",
     "output_type": "stream",
     "text": [
      "100%|███████████████████████████████████████████████████████████████████████████████████| 20/20 [00:49<00:00,  2.46s/it]"
     ]
    },
    {
     "name": "stdout",
     "output_type": "stream",
     "text": [
      "CPU times: user 42.4 s, sys: 6.63 s, total: 49.1 s\n",
      "Wall time: 49.1 s\n"
     ]
    },
    {
     "name": "stderr",
     "output_type": "stream",
     "text": [
      "\n"
     ]
    }
   ],
   "source": [
    "%%time\n",
    "dim, time = test(gpu_index_ivfpq)"
   ]
  },
  {
   "cell_type": "code",
   "execution_count": 79,
   "id": "e9114c74",
   "metadata": {},
   "outputs": [],
   "source": [
    "df = pd.DataFrame({\n",
    "    'num_vectors': dim.tolist(),\n",
    "    'query_time': time.tolist()\n",
    "})\n",
    "df['test'] = 'IVFPQ 10'\n",
    "tests = tests.append(df, ignore_index=True)"
   ]
  },
  {
   "cell_type": "code",
   "execution_count": 80,
   "id": "b7db53da",
   "metadata": {},
   "outputs": [
    {
     "data": {
      "text/plain": [
       "Text(0, 0.5, 'query time (ms)')"
      ]
     },
     "execution_count": 80,
     "metadata": {},
     "output_type": "execute_result"
    },
    {
     "data": {
      "image/png": "[encoded data removed]",
      "text/plain": [
       "<Figure size 1200x700 with 1 Axes>"
      ]
     },
     "metadata": {},
     "output_type": "display_data"
    }
   ],
   "source": [
    "plt.figure(figsize=(12,7))\n",
    "ax = sns.lineplot(x='num_vectors', y='query_time', \n",
    "                  data=tests,\n",
    "                  hue='test',\n",
    "                  linewidth = 3)\n",
    "ax.set_yscale(\"log\")\n",
    "ax.set_title('GPU index FlatL2 query')\n",
    "ax.set_xlabel('# of vectors')\n",
    "ax.set_ylabel('query time (ms)')"
   ]
  },
  {
   "cell_type": "markdown",
   "id": "4c6fb0c1",
   "metadata": {},
   "source": [
    "## For this test in GPU, IVFFlat configurations are faster than IVFPQ"
   ]
  },
  {
   "cell_type": "code",
   "execution_count": null,
   "id": "4559c38c",
   "metadata": {},
   "outputs": [],
   "source": []
  }
 ],
 "metadata": {
  "kernelspec": {
   "display_name": "Python 3 (ipykernel)",
   "language": "python",
   "name": "python3"
  },
  "language_info": {
   "codemirror_mode": {
    "name": "ipython",
    "version": 3
   },
   "file_extension": ".py",
   "mimetype": "text/x-python",
   "name": "python",
   "nbconvert_exporter": "python",
   "pygments_lexer": "ipython3",
   "version": "3.7.13"
  }
 },
 "nbformat": 4,
 "nbformat_minor": 5
}
