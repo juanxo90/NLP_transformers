{
 "cells": [
  {
   "cell_type": "markdown",
   "id": "9bb99df3",
   "metadata": {},
   "source": [
    "## Introduction to FAISS (Pinecone/James Briggs course)"
   ]
  },
  {
   "cell_type": "code",
   "execution_count": 1,
   "id": "b5c5c30f",
   "metadata": {},
   "outputs": [],
   "source": [
    "import requests\n",
    "import os"
   ]
  },
  {
   "cell_type": "code",
   "execution_count": 2,
   "id": "72ddfc83",
   "metadata": {},
   "outputs": [],
   "source": [
    "data_url = \"https://raw.githubusercontent.com/jamescalam/data/main/sentence_embeddings_15K/\""
   ]
  },
  {
   "cell_type": "code",
   "execution_count": null,
   "id": "61ca543d",
   "metadata": {},
   "outputs": [],
   "source": [
    "if not os.path.exists('../../data/data_faiss_intro'):\n",
    "    os.mkdir('../../data/data_faiss_intro')\n",
    "\n",
    "for i in range(57):\n",
    "#     if i < 10:\n",
    "#         i = '0' + str(i)\n",
    "    res = requests.get(data_url+f\"embeddings_{i}.npy\")\n",
    "    with open(f'../../data/data_faiss_intro/embeddings_{i}.npy', 'wb') as fp:\n",
    "        for chunk in res:\n",
    "            fp.write(chunk)\n",
    "    print('.', end='')"
   ]
  },
  {
   "cell_type": "code",
   "execution_count": null,
   "id": "c3bfb28a",
   "metadata": {},
   "outputs": [],
   "source": [
    "res = requests.get(f\"{data_url}sentences.txt\")\n",
    "with open(f\"../../data/data_faiss_intro/sentences.txt\", 'wb') as fp:\n",
    "    for chunk in res:\n",
    "        fp.write(chunk)"
   ]
  },
  {
   "cell_type": "code",
   "execution_count": 2,
   "id": "ef1c21c3",
   "metadata": {},
   "outputs": [],
   "source": [
    "import numpy as np"
   ]
  },
  {
   "cell_type": "code",
   "execution_count": 3,
   "id": "de112518",
   "metadata": {},
   "outputs": [],
   "source": [
    "for i  in range(57):\n",
    "    if i == 0:\n",
    "        with open(f'../../data/data_faiss_intro/embeddings_{i}.npy', 'rb') as fp:\n",
    "            sentence_embedding = np.load(fp)\n",
    "    else:\n",
    "        with open(f'../../data/data_faiss_intro/embeddings_{i}.npy', 'rb') as fp:\n",
    "            sentence_embedding = np.append(\n",
    "                sentence_embedding, \n",
    "                np.load(fp), axis=0\n",
    "            )      "
   ]
  },
  {
   "cell_type": "code",
   "execution_count": 4,
   "id": "2263c351",
   "metadata": {},
   "outputs": [
    {
     "data": {
      "text/plain": [
       "(14504, 768)"
      ]
     },
     "execution_count": 4,
     "metadata": {},
     "output_type": "execute_result"
    }
   ],
   "source": [
    "sentence_embedding.shape"
   ]
  },
  {
   "cell_type": "code",
   "execution_count": 5,
   "id": "7695e034",
   "metadata": {},
   "outputs": [],
   "source": [
    "with open('../../data/data_faiss_intro/sentences.txt', 'r') as fp:\n",
    "    lines = fp.read().split('\\n')"
   ]
  },
  {
   "cell_type": "code",
   "execution_count": 6,
   "id": "c3b7d63b",
   "metadata": {
    "scrolled": false
   },
   "outputs": [
    {
     "data": {
      "text/plain": [
       "['A group of four children dancing in a backyard.',\n",
       " 'The Conference Board said its measure of business confidence, which had fallen to 53 in the first quarter of 2003, improved to 60 in the most recent second quarter.',\n",
       " 'a person eating a meal, often in a restaurant',\n",
       " 'When you crossed the line, you violated the constitutional right,\" said Charles Weisselberg, who teaches law at the University of California, Berkeley.',\n",
       " \"Ross Garber, Rowland's legal counsel, said the governor would have no comment on the condo deal.\"]"
      ]
     },
     "execution_count": 6,
     "metadata": {},
     "output_type": "execute_result"
    }
   ],
   "source": [
    "lines[:5]"
   ]
  },
  {
   "cell_type": "code",
   "execution_count": 7,
   "id": "5b7ea512",
   "metadata": {
    "scrolled": false
   },
   "outputs": [],
   "source": [
    "from sentence_transformers import SentenceTransformer"
   ]
  },
  {
   "cell_type": "code",
   "execution_count": 8,
   "id": "2e0110a8",
   "metadata": {},
   "outputs": [],
   "source": [
    "model = SentenceTransformer('bert-base-nli-mean-tokens')"
   ]
  },
  {
   "cell_type": "code",
   "execution_count": 9,
   "id": "dcaa3d7c",
   "metadata": {
    "scrolled": false
   },
   "outputs": [],
   "source": [
    "# model.encode(['Hello wolrd'], device='cuda', show_progress_bar=True)"
   ]
  },
  {
   "cell_type": "code",
   "execution_count": 10,
   "id": "bd955a52",
   "metadata": {},
   "outputs": [],
   "source": [
    "import faiss"
   ]
  },
  {
   "cell_type": "code",
   "execution_count": 11,
   "id": "66d91164",
   "metadata": {
    "scrolled": false
   },
   "outputs": [],
   "source": [
    "#IndexFlatL2 (eulidean distance)\n",
    "d = sentence_embedding.shape[1]\n",
    "index = faiss.IndexFlatL2(d)"
   ]
  },
  {
   "cell_type": "code",
   "execution_count": 12,
   "id": "cf4b2a36",
   "metadata": {},
   "outputs": [
    {
     "data": {
      "text/plain": [
       "True"
      ]
     },
     "execution_count": 12,
     "metadata": {},
     "output_type": "execute_result"
    }
   ],
   "source": [
    "index.is_trained"
   ]
  },
  {
   "cell_type": "code",
   "execution_count": 13,
   "id": "ef682757",
   "metadata": {},
   "outputs": [],
   "source": [
    "index.add(sentence_embedding)"
   ]
  },
  {
   "cell_type": "code",
   "execution_count": 14,
   "id": "440c0a42",
   "metadata": {},
   "outputs": [
    {
     "data": {
      "text/plain": [
       "14504"
      ]
     },
     "execution_count": 14,
     "metadata": {},
     "output_type": "execute_result"
    }
   ],
   "source": [
    "index.ntotal"
   ]
  },
  {
   "cell_type": "code",
   "execution_count": 15,
   "id": "eac26168",
   "metadata": {},
   "outputs": [],
   "source": [
    "xq = model.encode(['someone sprints with a football'], device = 'cuda')"
   ]
  },
  {
   "cell_type": "code",
   "execution_count": 16,
   "id": "5102383c",
   "metadata": {},
   "outputs": [],
   "source": [
    "k = 4 # similar vectors number"
   ]
  },
  {
   "cell_type": "code",
   "execution_count": 17,
   "id": "8980e5ff",
   "metadata": {},
   "outputs": [
    {
     "name": "stdout",
     "output_type": "stream",
     "text": [
      "[[ 4586 10252 12465   190]]\n",
      "CPU times: user 76.8 ms, sys: 3.78 ms, total: 80.6 ms\n",
      "Wall time: 72.9 ms\n"
     ]
    }
   ],
   "source": [
    "%%time\n",
    "D, I = index.search(xq, k)\n",
    "print(I)"
   ]
  },
  {
   "cell_type": "code",
   "execution_count": 18,
   "id": "10d672ef",
   "metadata": {},
   "outputs": [
    {
     "data": {
      "text/plain": [
       "['4586: A group of football players is running in the field',\n",
       " '10252: A group of people playing football is running in the field',\n",
       " '12465: Two groups of people are playing football',\n",
       " '190: A person playing football is running past an official carrying a football']"
      ]
     },
     "execution_count": 18,
     "metadata": {},
     "output_type": "execute_result"
    }
   ],
   "source": [
    "[f'{i}: {lines[i]}' for i in I[0]]"
   ]
  },
  {
   "cell_type": "markdown",
   "id": "cf297199",
   "metadata": {},
   "source": [
    "## Speed improvement with syntethic data"
   ]
  },
  {
   "cell_type": "code",
   "execution_count": 105,
   "id": "b377b016",
   "metadata": {},
   "outputs": [],
   "source": [
    "import pandas as pd\n",
    "import matplotlib.pyplot as plt\n",
    "import seaborn as sns\n",
    "from tqdm import tqdm\n",
    "from datetime import datetime\n"
   ]
  },
  {
   "cell_type": "code",
   "execution_count": 44,
   "id": "70270517",
   "metadata": {},
   "outputs": [],
   "source": [
    "colors = ['#041BB3', '#E31957', '#12B0A7', '#000000']\n",
    "sns.set_palette(sns.color_palette(colors))\n",
    "sns.set_theme(font_scale=1.4)"
   ]
  },
  {
   "cell_type": "code",
   "execution_count": 45,
   "id": "f20cd6f4",
   "metadata": {},
   "outputs": [],
   "source": [
    "def make_array(nb, d=100):\n",
    "    return np.random.random((nb, d)).astype('float32')"
   ]
  },
  {
   "cell_type": "code",
   "execution_count": 78,
   "id": "3987c7f1",
   "metadata": {},
   "outputs": [],
   "source": [
    "def test(index, step=1_000, high=1_000_000, k=5, epochs=20):\n",
    "    timer = np.zeros((epochs, int(high/step)))\n",
    "    dim = np.zeros((int(high/step)))\n",
    "    xq = make_array(1)\n",
    "    for epoch in tqdm(range(epochs)):\n",
    "        index.reset()\n",
    "        iter_step = 0\n",
    "        for i in range(step, high, step):\n",
    "            wb = make_array(step)\n",
    "            if not index.is_trained:\n",
    "                index.train(wb)\n",
    "            index.add(wb)\n",
    "            # start timer\n",
    "            start = datetime.now()\n",
    "            D,I = index.search(xq, k)\n",
    "            time_taken = (datetime.now() - start).microseconds\n",
    "            timer[epoch, iter_step] = time_taken\n",
    "            dim[iter_step] = i\n",
    "            iter_step += 1\n",
    "    timer = np.median(timer, axis=0)\n",
    "    return dim, timer"
   ]
  },
  {
   "cell_type": "code",
   "execution_count": 79,
   "id": "5ea4b7a8",
   "metadata": {},
   "outputs": [],
   "source": [
    "d = 100\n",
    "tests = pd.DataFrame({\n",
    "    'num_vectors' : [],\n",
    "    'query_time': [],\n",
    "    'test': []\n",
    "})\n"
   ]
  },
  {
   "cell_type": "code",
   "execution_count": 96,
   "id": "8e49d9d9",
   "metadata": {},
   "outputs": [],
   "source": [
    "# Flat L2 Index\n",
    "index = faiss.IndexFlatL2(d)"
   ]
  },
  {
   "cell_type": "code",
   "execution_count": 97,
   "id": "45b7434c",
   "metadata": {},
   "outputs": [],
   "source": [
    "res = faiss.StandardGpuResources()  # use a single GPU\n",
    "# make it into a gpu index\n",
    "gpu_index = faiss.index_cpu_to_gpu(res, 0, index)"
   ]
  },
  {
   "cell_type": "code",
   "execution_count": 98,
   "id": "46db5b70",
   "metadata": {},
   "outputs": [
    {
     "name": "stderr",
     "output_type": "stream",
     "text": [
      "100%|███████████████████████████████████████████████████████████████████████████████████| 20/20 [00:22<00:00,  1.13s/it]"
     ]
    },
    {
     "name": "stdout",
     "output_type": "stream",
     "text": [
      "CPU times: user 17.1 s, sys: 1.33 s, total: 18.4 s\n",
      "Wall time: 22.7 s\n"
     ]
    },
    {
     "name": "stderr",
     "output_type": "stream",
     "text": [
      "\n"
     ]
    }
   ],
   "source": [
    "%%time\n",
    "# test with GPU faiss time\n",
    "dim, time = test(gpu_index,step=1_000, high=100_000, k=5, epochs=20)"
   ]
  },
  {
   "cell_type": "code",
   "execution_count": 99,
   "id": "875ff6a1",
   "metadata": {},
   "outputs": [
    {
     "name": "stderr",
     "output_type": "stream",
     "text": [
      "100%|███████████████████████████████████████████████████████████████████████████████████| 20/20 [00:46<00:00,  2.31s/it]"
     ]
    },
    {
     "name": "stdout",
     "output_type": "stream",
     "text": [
      "CPU times: user 45.9 s, sys: 395 ms, total: 46.3 s\n",
      "Wall time: 46.1 s\n"
     ]
    },
    {
     "name": "stderr",
     "output_type": "stream",
     "text": [
      "\n"
     ]
    }
   ],
   "source": [
    "%%time\n",
    "# test with CPU faiss \n",
    "dim, time = test(index,step=1_000, high=100_000, k=5, epochs=20)"
   ]
  },
  {
   "cell_type": "code",
   "execution_count": 100,
   "id": "eafb1ca9",
   "metadata": {},
   "outputs": [
    {
     "name": "stderr",
     "output_type": "stream",
     "text": [
      "100%|███████████████████████████████████████████████████████████████████████████████████| 20/20 [13:26<00:00, 40.32s/it]\n"
     ]
    }
   ],
   "source": [
    "# continuation of the example with GPU (faster)\n",
    "dim, time = test(gpu_index)"
   ]
  },
  {
   "cell_type": "code",
   "execution_count": 102,
   "id": "4008e335",
   "metadata": {},
   "outputs": [],
   "source": [
    "df = pd.DataFrame({\n",
    "    'num_vectors': dim.tolist(),\n",
    "    'query_time': time.tolist()\n",
    "})\n",
    "df['test'] = 'FlatL2'\n",
    "tests = tests.append(df, ignore_index=True)"
   ]
  },
  {
   "cell_type": "code",
   "execution_count": null,
   "id": "587f22c1",
   "metadata": {},
   "outputs": [],
   "source": []
  },
  {
   "cell_type": "code",
   "execution_count": 107,
   "id": "6aa120fc",
   "metadata": {},
   "outputs": [
    {
     "data": {
      "text/plain": [
       "Text(0, 0.5, 'query time (ms)')"
      ]
     },
     "execution_count": 107,
     "metadata": {},
     "output_type": "execute_result"
    },
    {
     "data": {
      "image/png": "[encoded data removed]",
      "text/plain": [
       "<Figure size 1200x800 with 1 Axes>"
      ]
     },
     "metadata": {},
     "output_type": "display_data"
    }
   ],
   "source": [
    "plt.figure(figsize=(12,8))\n",
    "ax = sns.lineplot(x='num_vectors', y='query_time', \n",
    "                  data=tests[tests.test == 'FlatL2'],\n",
    "                  linewidth = 3)\n",
    "ax.set_xlabel('# of vectors')\n",
    "ax.set_ylabel('query time (ms)')"
   ]
  },
  {
   "cell_type": "code",
   "execution_count": null,
   "id": "81f43468",
   "metadata": {},
   "outputs": [],
   "source": []
  }
 ],
 "metadata": {
  "kernelspec": {
   "display_name": "Python 3 (ipykernel)",
   "language": "python",
   "name": "python3"
  },
  "language_info": {
   "codemirror_mode": {
    "name": "ipython",
    "version": 3
   },
   "file_extension": ".py",
   "mimetype": "text/x-python",
   "name": "python",
   "nbconvert_exporter": "python",
   "pygments_lexer": "ipython3",
   "version": "3.7.13"
  }
 },
 "nbformat": 4,
 "nbformat_minor": 5
}
