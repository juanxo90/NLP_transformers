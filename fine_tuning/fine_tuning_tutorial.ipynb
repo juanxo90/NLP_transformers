{
 "cells": [
  {
   "cell_type": "markdown",
   "id": "f42e7ad7",
   "metadata": {},
   "source": [
    "## fine tuning using data from quora questions"
   ]
  },
  {
   "cell_type": "code",
   "execution_count": 1,
   "id": "7b022e3c",
   "metadata": {},
   "outputs": [],
   "source": [
    "import torch\n",
    "from torch.utils.data import DataLoader\n",
    "from sentence_transformers import losses, util\n",
    "from sentence_transformers import LoggingHandler, SentenceTransformer, evaluation\n",
    "from sentence_transformers.readers import InputExample\n",
    "import logging\n",
    "from datetime import datetime\n",
    "import csv\n",
    "import os\n",
    "from zipfile import ZipFile\n",
    "import random"
   ]
  },
  {
   "cell_type": "code",
   "execution_count": 2,
   "id": "8e9d24fc",
   "metadata": {},
   "outputs": [],
   "source": [
    "#### Just some code to print debug information to stdout\n",
    "logging.basicConfig(format='%(asctime)s - %(message)s',\n",
    "                    datefmt='%Y-%m-%d %H:%M:%S',\n",
    "                    level=logging.INFO,\n",
    "                    handlers=[LoggingHandler()])\n",
    "logger = logging.getLogger(__name__)\n",
    "#### /print debug information to stdout"
   ]
  },
  {
   "cell_type": "code",
   "execution_count": 3,
   "id": "369d5f31",
   "metadata": {},
   "outputs": [
    {
     "name": "stdout",
     "output_type": "stream",
     "text": [
      "2022-11-14 12:02:40 - Load pretrained SentenceTransformer: multi-qa-MiniLM-L6-cos-v1\n"
     ]
    }
   ],
   "source": [
    "torch_device = 'cuda' if torch.cuda.is_available() else 'cpu'\n",
    "# torch_device = 'cpu'\n",
    "\n",
    "model = SentenceTransformer('multi-qa-MiniLM-L6-cos-v1',\n",
    "                           device=torch_device)\n",
    "num_epochs = 1#10\n",
    "train_batch_size = 16"
   ]
  },
  {
   "cell_type": "code",
   "execution_count": 4,
   "id": "b61e97d5",
   "metadata": {},
   "outputs": [],
   "source": [
    "#As distance metric, we use cosine distance (cosine_distance = 1-cosine_similarity)\n",
    "distance_metric = losses.SiameseDistanceMetric.COSINE_DISTANCE\n",
    "\n",
    "#Negative pairs should have a distance of at least 0.5\n",
    "margin = 0.5\n",
    "\n",
    "dataset_path = os.path.join(os.path.dirname(os.path.dirname(os.getcwd())), \n",
    "                            'data/quora-IR-dataset/')\n",
    "\n",
    "model_save_path = os.path.join(os.path.dirname(os.path.dirname(os.getcwd())), \n",
    "                               'data/output/training_OnlineConstrativeLoss-')\\\n",
    "+datetime.now().strftime(\"%Y-%m-%d_%H-%M-%S\")\n",
    "\n",
    "\n",
    "os.makedirs(model_save_path, exist_ok=True)"
   ]
  },
  {
   "cell_type": "code",
   "execution_count": 5,
   "id": "06cc5ad6",
   "metadata": {},
   "outputs": [],
   "source": [
    "# Check if the dataset exists. If not, download and extract\n",
    "if not os.path.exists(dataset_path):\n",
    "    logger.info(\"Dataset not found. Download\")\n",
    "    zip_save_path = os.path.join(os.path.dirname(os.path.dirname(os.getcwd())), \n",
    "                            'data/quora-IR-dataset/quora-IR-dataset.zip')\n",
    "    util.http_get(url='https://sbert.net/datasets/quora-IR-dataset.zip', path=zip_save_path)\n",
    "    with ZipFile(zip_save_path, 'r') as zip:\n",
    "        zip.extractall(dataset_path)"
   ]
  },
  {
   "cell_type": "code",
   "execution_count": 6,
   "id": "6c6edde9",
   "metadata": {
    "scrolled": true
   },
   "outputs": [],
   "source": [
    "######### Read train data  ##########\n",
    "# Read train data\n",
    "train_samples = []\n",
    "with open(os.path.join(dataset_path, \"classification/train_pairs.tsv\"), encoding='utf8') as fIn:\n",
    "    reader = csv.DictReader(fIn, delimiter='\\t', quoting=csv.QUOTE_NONE)\n",
    "    for row in reader:       \n",
    "        sample = InputExample(texts=[row['question1'], row['question2']], label=int(row['is_duplicate']))\n",
    "        train_samples.append(sample)"
   ]
  },
  {
   "cell_type": "code",
   "execution_count": 7,
   "id": "a490db8c",
   "metadata": {},
   "outputs": [],
   "source": [
    "train_dataloader = DataLoader(train_samples, shuffle=True, batch_size=train_batch_size)\n",
    "train_loss = losses.OnlineContrastiveLoss(model=model, distance_metric=distance_metric, margin=margin)"
   ]
  },
  {
   "cell_type": "code",
   "execution_count": 8,
   "id": "b8c2f6b5",
   "metadata": {},
   "outputs": [],
   "source": [
    "################### Development  Evaluators ##################\n",
    "# We add 3 evaluators, that evaluate the model on Duplicate Questions pair classification,\n",
    "# Duplicate Questions Mining, and Duplicate Questions Information Retrieval\n",
    "evaluators = []\n",
    "\n",
    "###### Classification ######\n",
    "# Given (quesiton1, question2), is this a duplicate or not?\n",
    "# The evaluator will compute the embeddings for both questions and then compute\n",
    "# a cosine similarity. If the similarity is above a threshold, we have a duplicate.\n",
    "dev_sentences1 = []\n",
    "dev_sentences2 = []\n",
    "dev_labels = []\n",
    "with open(os.path.join(dataset_path, \"classification/dev_pairs.tsv\"), encoding='utf8') as fIn:\n",
    "    reader = csv.DictReader(fIn, delimiter='\\t', quoting=csv.QUOTE_NONE)\n",
    "    for row in reader:\n",
    "        dev_sentences1.append(row['question1'])\n",
    "        dev_sentences2.append(row['question2'])\n",
    "        dev_labels.append(int(row['is_duplicate']))\n",
    "\n",
    "\n",
    "binary_acc_evaluator = evaluation.BinaryClassificationEvaluator(dev_sentences1, \n",
    "                                                                dev_sentences2, \n",
    "                                                                dev_labels)\n",
    "evaluators.append(binary_acc_evaluator)"
   ]
  },
  {
   "cell_type": "code",
   "execution_count": 9,
   "id": "f70dc144",
   "metadata": {},
   "outputs": [],
   "source": [
    "###### Duplicate Questions Mining ######\n",
    "# Given a large corpus of questions, identify all duplicates in that corpus.\n",
    "\n",
    "# For faster processing, we limit the development corpus to only 10,000 sentences.\n",
    "# max_dev_samples = 10000\n",
    "max_dev_samples = 1000\n",
    "dev_sentences = {}\n",
    "dev_duplicates = []\n",
    "with open(os.path.join(dataset_path, \"duplicate-mining/dev_corpus.tsv\"), encoding='utf8') as fIn:\n",
    "    reader = csv.DictReader(fIn, delimiter='\\t', quoting=csv.QUOTE_NONE)\n",
    "    for row in reader:\n",
    "        dev_sentences[row['qid']] = row['question']\n",
    "\n",
    "        if len(dev_sentences) >= max_dev_samples:\n",
    "            break\n",
    "\n",
    "with open(os.path.join(dataset_path, \"duplicate-mining/dev_duplicates.tsv\"), encoding='utf8') as fIn:\n",
    "    reader = csv.DictReader(fIn, delimiter='\\t', quoting=csv.QUOTE_NONE)\n",
    "    for row in reader:\n",
    "        if row['qid1'] in dev_sentences and row['qid2'] in dev_sentences:\n",
    "            dev_duplicates.append([row['qid1'], row['qid2']])"
   ]
  },
  {
   "cell_type": "code",
   "execution_count": 10,
   "id": "e9476943",
   "metadata": {},
   "outputs": [],
   "source": [
    "# The ParaphraseMiningEvaluator computes the cosine similarity between all sentences and\n",
    "# extracts a list with the pairs that have the highest similarity. Given the duplicate\n",
    "# information in dev_duplicates, it then computes and F1 score how well our duplicate mining worked\n",
    "paraphrase_mining_evaluator = evaluation.ParaphraseMiningEvaluator(dev_sentences, \n",
    "                                                                   dev_duplicates, name='dev')\n",
    "evaluators.append(paraphrase_mining_evaluator)"
   ]
  },
  {
   "cell_type": "code",
   "execution_count": 62,
   "id": "fb47d991",
   "metadata": {},
   "outputs": [],
   "source": [
    "###### Duplicate Questions Information Retrieval ######\n",
    "# Given a question and a large corpus of thousands questions, find the most relevant (i.e. duplicate) question\n",
    "# in that corpus.\n",
    "\n",
    "# For faster processing, we limit the development corpus to only 10,000 sentences.\n",
    "# max_corpus_size = 100000\n",
    "max_corpus_size = 100000\n",
    "\n",
    "ir_queries = {}             #Our queries (qid => question)\n",
    "ir_needed_qids = set()      #QIDs we need in the corpus\n",
    "ir_corpus = {}              #Our corpus (qid => question)\n",
    "ir_relevant_docs = {}       #Mapping of relevant documents for a given query (qid => set([relevant_question_ids])\n",
    "\n",
    "with open(os.path.join(dataset_path, 'information-retrieval/dev-queries.tsv'), encoding='utf8') as fIn:\n",
    "    next(fIn) #Skip header\n",
    "    for line in fIn:\n",
    "        qid, query, duplicate_ids = line.strip().split('\\t')\n",
    "        duplicate_ids = duplicate_ids.split(',')\n",
    "        ir_queries[qid] = query\n",
    "        ir_relevant_docs[qid] = set(duplicate_ids)\n",
    "\n",
    "        for qid in duplicate_ids:\n",
    "            ir_needed_qids.add(qid)"
   ]
  },
  {
   "cell_type": "code",
   "execution_count": 63,
   "id": "19832249",
   "metadata": {},
   "outputs": [],
   "source": [
    "# First get all needed relevant documents (i.e., we must ensure, that the relevant questions are actually in the corpus\n",
    "distraction_questions = {}\n",
    "with open(os.path.join(dataset_path, 'information-retrieval/corpus.tsv'), encoding='utf8') as fIn:\n",
    "    next(fIn) #Skip header\n",
    "    for line in fIn:\n",
    "        qid, question = line.strip().split('\\t')\n",
    "        if qid in ir_needed_qids:\n",
    "            ir_corpus[qid] = question\n",
    "        else:\n",
    "            distraction_questions[qid] = question\n",
    "\n",
    "# Now, also add some irrelevant questions to fill our corpus\n",
    "other_qid_list = list(distraction_questions.keys())\n",
    "random.shuffle(other_qid_list)\n",
    "\n",
    "for qid in other_qid_list[0:max(0, max_corpus_size-len(ir_corpus))]:\n",
    "    ir_corpus[qid] = distraction_questions[qid]"
   ]
  },
  {
   "cell_type": "code",
   "execution_count": null,
   "id": "1a35fef1",
   "metadata": {},
   "outputs": [],
   "source": [
    "#Given queries, a corpus and a mapping with relevant documents, the InformationRetrievalEvaluator computes different IR\n",
    "# metrices. For our use case MRR@k and Accuracy@k are relevant.\n",
    "ir_evaluator = evaluation.InformationRetrievalEvaluator(ir_queries, ir_corpus, ir_relevant_docs)\n",
    "\n",
    "evaluators.append(ir_evaluator)"
   ]
  },
  {
   "cell_type": "code",
   "execution_count": null,
   "id": "d4eb14b1",
   "metadata": {
    "scrolled": false
   },
   "outputs": [],
   "source": [
    "# Create a SequentialEvaluator. This SequentialEvaluator runs all three evaluators in a sequential order.\n",
    "# We optimize the model with respect to the score from the last evaluator (scores[-1])\n",
    "seq_evaluator = evaluation.SequentialEvaluator(evaluators, \n",
    "                                               main_score_function=lambda scores: scores[-1])\n",
    "\n",
    "\n",
    "logger.info(\"Evaluate model without training\")\n",
    "with torch.no_grad():\n",
    "    seq_evaluator(model, epoch=0, steps=0, output_path=model_save_path)"
   ]
  },
  {
   "cell_type": "code",
   "execution_count": null,
   "id": "e4cd0d2b",
   "metadata": {
    "scrolled": false
   },
   "outputs": [],
   "source": [
    "# Train the model\n",
    "model.fit(train_objectives=[(train_dataloader, train_loss)],\n",
    "          evaluator=seq_evaluator,\n",
    "          epochs=num_epochs,\n",
    "#           warmup_steps=1000,\n",
    "          warmup_steps=500,\n",
    "          output_path=model_save_path\n",
    "         )"
   ]
  }
 ],
 "metadata": {
  "kernelspec": {
   "display_name": "Python 3 (ipykernel)",
   "language": "python",
   "name": "python3"
  },
  "language_info": {
   "codemirror_mode": {
    "name": "ipython",
    "version": 3
   },
   "file_extension": ".py",
   "mimetype": "text/x-python",
   "name": "python",
   "nbconvert_exporter": "python",
   "pygments_lexer": "ipython3",
   "version": "3.7.13"
  }
 },
 "nbformat": 4,
 "nbformat_minor": 5
}
