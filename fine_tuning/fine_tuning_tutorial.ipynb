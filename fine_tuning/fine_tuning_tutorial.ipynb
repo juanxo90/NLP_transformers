{
 "cells": [
  {
   "cell_type": "markdown",
   "id": "f42e7ad7",
   "metadata": {},
   "source": [
    "## fine tuning using data from quora questions"
   ]
  },
  {
   "cell_type": "code",
   "execution_count": 1,
   "id": "7b022e3c",
   "metadata": {},
   "outputs": [],
   "source": [
    "import torch\n",
    "from torch.utils.data import DataLoader\n",
    "from sentence_transformers import losses, util\n",
    "from sentence_transformers import LoggingHandler, SentenceTransformer, evaluation\n",
    "from sentence_transformers.readers import InputExample\n",
    "import logging\n",
    "from datetime import datetime\n",
    "import csv\n",
    "import os\n",
    "from zipfile import ZipFile\n",
    "import random"
   ]
  },
  {
   "cell_type": "code",
   "execution_count": 2,
   "id": "8e9d24fc",
   "metadata": {},
   "outputs": [],
   "source": [
    "#### Just some code to print debug information to stdout\n",
    "logging.basicConfig(format='%(asctime)s - %(message)s',\n",
    "                    datefmt='%Y-%m-%d %H:%M:%S',\n",
    "                    level=logging.INFO,\n",
    "                    handlers=[LoggingHandler()])\n",
    "logger = logging.getLogger(__name__)\n",
    "#### /print debug information to stdout"
   ]
  },
  {
   "cell_type": "code",
   "execution_count": 3,
   "id": "369d5f31",
   "metadata": {},
   "outputs": [
    {
     "name": "stdout",
     "output_type": "stream",
     "text": [
      "2022-11-10 10:51:08 - Load pretrained SentenceTransformer: multi-qa-MiniLM-L6-cos-v1\n"
     ]
    }
   ],
   "source": [
    "torch_device = 'cuda' if torch.cuda.is_available() else 'cpu'\n",
    "# torch_device = 'cpu'\n",
    "\n",
    "model = SentenceTransformer('multi-qa-MiniLM-L6-cos-v1',\n",
    "                           device=torch_device)\n",
    "num_epochs = 1#10\n",
    "train_batch_size = 16"
   ]
  },
  {
   "cell_type": "code",
   "execution_count": 4,
   "id": "b61e97d5",
   "metadata": {},
   "outputs": [],
   "source": [
    "#As distance metric, we use cosine distance (cosine_distance = 1-cosine_similarity)\n",
    "distance_metric = losses.SiameseDistanceMetric.COSINE_DISTANCE\n",
    "\n",
    "#Negative pairs should have a distance of at least 0.5\n",
    "margin = 0.5\n",
    "\n",
    "dataset_path = os.path.join(os.path.dirname(os.path.dirname(os.getcwd())), \n",
    "                            'data/quora-IR-dataset/')\n",
    "\n",
    "model_save_path = os.path.join(os.path.dirname(os.path.dirname(os.getcwd())), \n",
    "                               'data/output/training_OnlineConstrativeLoss-')\\\n",
    "+datetime.now().strftime(\"%Y-%m-%d_%H-%M-%S\")\n",
    "\n",
    "\n",
    "os.makedirs(model_save_path, exist_ok=True)"
   ]
  },
  {
   "cell_type": "code",
   "execution_count": 6,
   "id": "06cc5ad6",
   "metadata": {},
   "outputs": [],
   "source": [
    "# Check if the dataset exists. If not, download and extract\n",
    "if not os.path.exists(dataset_path):\n",
    "    logger.info(\"Dataset not found. Download\")\n",
    "    zip_save_path = os.path.join(os.path.dirname(os.path.dirname(os.getcwd())), \n",
    "                            'data/quora-IR-dataset/quora-IR-dataset.zip')\n",
    "    util.http_get(url='https://sbert.net/datasets/quora-IR-dataset.zip', path=zip_save_path)\n",
    "    with ZipFile(zip_save_path, 'r') as zip:\n",
    "        zip.extractall(dataset_path)"
   ]
  },
  {
   "cell_type": "code",
   "execution_count": 6,
   "id": "bc42cea1",
   "metadata": {},
   "outputs": [],
   "source": [
    "# util.http_get(url='https://pages.cs.wisc.edu/~anhai/data1/deepmatcher_data/Structured/Amazon-Google/exp_data/tableA.csv',\n",
    "#         path=os.path.join(dataset_path,'tableA.csv'))\n",
    "# util.http_get(url='https://pages.cs.wisc.edu/~anhai/data1/deepmatcher_data/Structured/Amazon-Google/exp_data/tableB.csv',\n",
    "#         path=os.path.join(dataset_path,'tableB.csv'))\n",
    "# util.http_get(url='https://pages.cs.wisc.edu/~anhai/data1/deepmatcher_data/Structured/Amazon-Google/exp_data/test.csv',\n",
    "#         path=os.path.join(dataset_path,'test.csv'))\n",
    "# util.http_get(url='https://pages.cs.wisc.edu/~anhai/data1/deepmatcher_data/Structured/Amazon-Google/exp_data/train.csv',\n",
    "#         path=os.path.join(dataset_path,'train.csv'))\n",
    "# util.http_get(url='https://pages.cs.wisc.edu/~anhai/data1/deepmatcher_data/Structured/Amazon-Google/exp_data/valid.csv',\n",
    "#         path=os.path.join(dataset_path,'valid.csv'))"
   ]
  },
  {
   "cell_type": "code",
   "execution_count": 15,
   "id": "6c6edde9",
   "metadata": {
    "scrolled": true
   },
   "outputs": [
    {
     "name": "stdout",
     "output_type": "stream",
     "text": [
      "Why do you use an iPhone? Why do people buy the iPhone?\n"
     ]
    }
   ],
   "source": [
    "######### Read train data  ##########\n",
    "# Read train data\n",
    "train_samples = []\n",
    "with open(os.path.join(dataset_path, \"classification/train_pairs.tsv\"), encoding='utf8') as fIn:\n",
    "    reader = csv.DictReader(fIn, delimiter='\\t', quoting=csv.QUOTE_NONE)\n",
    "    for row in reader:       \n",
    "        sample = InputExample(texts=[row['question1'], row['question2']], label=int(row['is_duplicate']))\n",
    "        train_samples.append(sample)\n",
    "\n"
   ]
  },
  {
   "cell_type": "code",
   "execution_count": 17,
   "id": "f2956a48",
   "metadata": {},
   "outputs": [
    {
     "name": "stdout",
     "output_type": "stream",
     "text": [
      "<class 'str'> Why do people buy the iPhone?\n"
     ]
    }
   ],
   "source": [
    "print(type(row['question1']), row['question2'])"
   ]
  },
  {
   "cell_type": "code",
   "execution_count": 8,
   "id": "a490db8c",
   "metadata": {},
   "outputs": [],
   "source": [
    "train_dataloader = DataLoader(train_samples, shuffle=True, batch_size=train_batch_size)\n",
    "train_loss = losses.OnlineContrastiveLoss(model=model, distance_metric=distance_metric, margin=margin)"
   ]
  },
  {
   "cell_type": "code",
   "execution_count": 18,
   "id": "b8c2f6b5",
   "metadata": {},
   "outputs": [],
   "source": [
    "################### Development  Evaluators ##################\n",
    "# We add 3 evaluators, that evaluate the model on Duplicate Questions pair classification,\n",
    "# Duplicate Questions Mining, and Duplicate Questions Information Retrieval\n",
    "evaluators = []\n",
    "\n",
    "###### Classification ######\n",
    "# Given (quesiton1, question2), is this a duplicate or not?\n",
    "# The evaluator will compute the embeddings for both questions and then compute\n",
    "# a cosine similarity. If the similarity is above a threshold, we have a duplicate.\n",
    "dev_sentences1 = []\n",
    "dev_sentences2 = []\n",
    "dev_labels = []\n",
    "with open(os.path.join(dataset_path, \"classification/dev_pairs.tsv\"), encoding='utf8') as fIn:\n",
    "    reader = csv.DictReader(fIn, delimiter='\\t', quoting=csv.QUOTE_NONE)\n",
    "    for row in reader:\n",
    "        dev_sentences1.append(row['question1'])\n",
    "        dev_sentences2.append(row['question2'])\n",
    "        dev_labels.append(int(row['is_duplicate']))\n",
    "\n",
    "\n",
    "binary_acc_evaluator = evaluation.BinaryClassificationEvaluator(dev_sentences1, \n",
    "                                                                dev_sentences2, \n",
    "                                                                dev_labels)\n",
    "evaluators.append(binary_acc_evaluator)"
   ]
  },
  {
   "cell_type": "code",
   "execution_count": 32,
   "id": "f70dc144",
   "metadata": {},
   "outputs": [],
   "source": [
    "###### Duplicate Questions Mining ######\n",
    "# Given a large corpus of questions, identify all duplicates in that corpus.\n",
    "\n",
    "# For faster processing, we limit the development corpus to only 10,000 sentences.\n",
    "# max_dev_samples = 10000\n",
    "max_dev_samples = 1000\n",
    "dev_sentences = {}\n",
    "dev_duplicates = []\n",
    "with open(os.path.join(dataset_path, \"duplicate-mining/dev_corpus.tsv\"), encoding='utf8') as fIn:\n",
    "    reader = csv.DictReader(fIn, delimiter='\\t', quoting=csv.QUOTE_NONE)\n",
    "    for row in reader:\n",
    "        dev_sentences[row['qid']] = row['question']\n",
    "\n",
    "        if len(dev_sentences) >= max_dev_samples:\n",
    "            break\n",
    "\n",
    "with open(os.path.join(dataset_path, \"duplicate-mining/dev_duplicates.tsv\"), encoding='utf8') as fIn:\n",
    "    reader = csv.DictReader(fIn, delimiter='\\t', quoting=csv.QUOTE_NONE)\n",
    "    for row in reader:\n",
    "        if row['qid1'] in dev_sentences and row['qid2'] in dev_sentences:\n",
    "            dev_duplicates.append([row['qid1'], row['qid2']])"
   ]
  },
  {
   "cell_type": "code",
   "execution_count": 37,
   "id": "963a2ae0",
   "metadata": {
    "scrolled": true
   },
   "outputs": [
    {
     "name": "stdout",
     "output_type": "stream",
     "text": [
      "['178486', '187073']\n",
      "['120669', '14816']\n",
      "['57324', '71106']\n",
      "['28798', '99089']\n",
      "['214829', '67976']\n",
      "['71106', '89353']\n",
      "['57324', '89353']\n"
     ]
    }
   ],
   "source": [
    "with open(os.path.join(dataset_path, \"duplicate-mining/dev_duplicates.tsv\"), encoding='utf8') as fIn:\n",
    "    reader = csv.DictReader(fIn, delimiter='\\t', quoting=csv.QUOTE_NONE)\n",
    "    for row in reader:\n",
    "        if row['qid1'] in dev_sentences and row['qid2'] in dev_sentences:\n",
    "            print([row['qid1'], row['qid2']])"
   ]
  },
  {
   "cell_type": "code",
   "execution_count": 35,
   "id": "fdedb503",
   "metadata": {},
   "outputs": [
    {
     "data": {
      "text/plain": [
       "[['178486', '187073'],\n",
       " ['120669', '14816'],\n",
       " ['57324', '71106'],\n",
       " ['28798', '99089'],\n",
       " ['214829', '67976'],\n",
       " ['71106', '89353'],\n",
       " ['57324', '89353']]"
      ]
     },
     "execution_count": 35,
     "metadata": {},
     "output_type": "execute_result"
    }
   ],
   "source": [
    "dev_duplicates"
   ]
  },
  {
   "cell_type": "code",
   "execution_count": 11,
   "id": "e9476943",
   "metadata": {},
   "outputs": [],
   "source": [
    "# The ParaphraseMiningEvaluator computes the cosine similarity between all sentences and\n",
    "# extracts a list with the pairs that have the highest similarity. Given the duplicate\n",
    "# information in dev_duplicates, it then computes and F1 score how well our duplicate mining worked\n",
    "paraphrase_mining_evaluator = evaluation.ParaphraseMiningEvaluator(dev_sentences, \n",
    "                                                                   dev_duplicates, name='dev')\n",
    "evaluators.append(paraphrase_mining_evaluator)"
   ]
  },
  {
   "cell_type": "code",
   "execution_count": 12,
   "id": "fb47d991",
   "metadata": {},
   "outputs": [],
   "source": [
    "###### Duplicate Questions Information Retrieval ######\n",
    "# Given a question and a large corpus of thousands questions, find the most relevant (i.e. duplicate) question\n",
    "# in that corpus.\n",
    "\n",
    "# For faster processing, we limit the development corpus to only 10,000 sentences.\n",
    "# max_corpus_size = 100000\n",
    "max_corpus_size = 1000\n",
    "\n",
    "ir_queries = {}             #Our queries (qid => question)\n",
    "ir_needed_qids = set()      #QIDs we need in the corpus\n",
    "ir_corpus = {}              #Our corpus (qid => question)\n",
    "ir_relevant_docs = {}       #Mapping of relevant documents for a given query (qid => set([relevant_question_ids])\n",
    "\n",
    "with open(os.path.join(dataset_path, 'information-retrieval/dev-queries.tsv'), encoding='utf8') as fIn:\n",
    "    next(fIn) #Skip header\n",
    "    for line in fIn:\n",
    "        qid, query, duplicate_ids = line.strip().split('\\t')\n",
    "        duplicate_ids = duplicate_ids.split(',')\n",
    "        ir_queries[qid] = query\n",
    "        ir_relevant_docs[qid] = set(duplicate_ids)\n",
    "\n",
    "        for qid in duplicate_ids:\n",
    "            ir_needed_qids.add(qid)"
   ]
  },
  {
   "cell_type": "code",
   "execution_count": 13,
   "id": "19832249",
   "metadata": {},
   "outputs": [],
   "source": [
    "# First get all needed relevant documents (i.e., we must ensure, that the relevant questions are actually in the corpus\n",
    "distraction_questions = {}\n",
    "with open(os.path.join(dataset_path, 'information-retrieval/corpus.tsv'), encoding='utf8') as fIn:\n",
    "    next(fIn) #Skip header\n",
    "    for line in fIn:\n",
    "        qid, question = line.strip().split('\\t')\n",
    "\n",
    "        if qid in ir_needed_qids:\n",
    "            ir_corpus[qid] = question\n",
    "        else:\n",
    "            distraction_questions[qid] = question\n",
    "\n",
    "# Now, also add some irrelevant questions to fill our corpus\n",
    "other_qid_list = list(distraction_questions.keys())\n",
    "random.shuffle(other_qid_list)\n",
    "\n",
    "for qid in other_qid_list[0:max(0, max_corpus_size-len(ir_corpus))]:\n",
    "    ir_corpus[qid] = distraction_questions[qid]"
   ]
  },
  {
   "cell_type": "code",
   "execution_count": 14,
   "id": "1a35fef1",
   "metadata": {},
   "outputs": [],
   "source": [
    "#Given queries, a corpus and a mapping with relevant documents, the InformationRetrievalEvaluator computes different IR\n",
    "# metrices. For our use case MRR@k and Accuracy@k are relevant.\n",
    "ir_evaluator = evaluation.InformationRetrievalEvaluator(ir_queries, ir_corpus, ir_relevant_docs)\n",
    "\n",
    "evaluators.append(ir_evaluator)"
   ]
  },
  {
   "cell_type": "code",
   "execution_count": 15,
   "id": "d4eb14b1",
   "metadata": {
    "scrolled": false
   },
   "outputs": [
    {
     "name": "stdout",
     "output_type": "stream",
     "text": [
      "2022-11-09 19:58:58 - Evaluate model without training\n",
      "2022-11-09 19:58:58 - Binary Accuracy Evaluation of the model on  dataset in epoch 0 after 0 steps:\n",
      "2022-11-09 19:59:38 - Accuracy with Cosine-Similarity:           78.65\t(Threshold: 0.8316)\n",
      "2022-11-09 19:59:38 - F1 with Cosine-Similarity:                 72.70\t(Threshold: 0.7516)\n",
      "2022-11-09 19:59:38 - Precision with Cosine-Similarity:          62.64\n",
      "2022-11-09 19:59:38 - Recall with Cosine-Similarity:             86.61\n",
      "2022-11-09 19:59:38 - Average Precision with Cosine-Similarity:  75.95\n",
      "\n",
      "2022-11-09 19:59:38 - Accuracy with Manhattan-Distance:           78.67\t(Threshold: 9.0634)\n",
      "2022-11-09 19:59:38 - F1 with Manhattan-Distance:                 72.66\t(Threshold: 11.1130)\n",
      "2022-11-09 19:59:38 - Precision with Manhattan-Distance:          61.97\n",
      "2022-11-09 19:59:38 - Recall with Manhattan-Distance:             87.82\n",
      "2022-11-09 19:59:38 - Average Precision with Manhattan-Distance:  75.94\n",
      "\n",
      "2022-11-09 19:59:38 - Accuracy with Euclidean-Distance:           78.65\t(Threshold: 0.5803)\n",
      "2022-11-09 19:59:38 - F1 with Euclidean-Distance:                 72.70\t(Threshold: 0.7049)\n",
      "2022-11-09 19:59:38 - Precision with Euclidean-Distance:          62.64\n",
      "2022-11-09 19:59:38 - Recall with Euclidean-Distance:             86.61\n",
      "2022-11-09 19:59:38 - Average Precision with Euclidean-Distance:  75.95\n",
      "\n",
      "2022-11-09 19:59:39 - Accuracy with Dot-Product:           78.65\t(Threshold: 0.8316)\n",
      "2022-11-09 19:59:39 - F1 with Dot-Product:                 72.70\t(Threshold: 0.7516)\n",
      "2022-11-09 19:59:39 - Precision with Dot-Product:          62.64\n",
      "2022-11-09 19:59:39 - Recall with Dot-Product:             86.61\n",
      "2022-11-09 19:59:39 - Average Precision with Dot-Product:  75.95\n",
      "\n",
      "2022-11-09 19:59:39 - Paraphrase Mining Evaluation on dev dataset in epoch 0 after 0 steps:\n",
      "2022-11-09 19:59:40 - Number of candidate pairs: 61372\n",
      "2022-11-09 19:59:40 - Average Precision: 32.26\n",
      "2022-11-09 19:59:40 - Optimal threshold: 0.7694\n",
      "2022-11-09 19:59:40 - Precision: 37.50\n",
      "2022-11-09 19:59:40 - Recall: 85.71\n",
      "2022-11-09 19:59:40 - F1: 52.17\n",
      "\n",
      "2022-11-09 19:59:40 - Information Retrieval Evaluation on  dataset in epoch 0 after 0 steps:\n",
      "2022-11-09 19:59:47 - Queries: 5000\n",
      "2022-11-09 19:59:47 - Corpus: 7873\n",
      "\n",
      "2022-11-09 19:59:48 - Score-Function: cos_sim\n",
      "2022-11-09 19:59:48 - Accuracy@1: 97.38%\n",
      "2022-11-09 19:59:48 - Accuracy@3: 99.42%\n",
      "2022-11-09 19:59:48 - Accuracy@5: 99.72%\n",
      "2022-11-09 19:59:48 - Accuracy@10: 99.86%\n",
      "2022-11-09 19:59:48 - Precision@1: 97.38%\n",
      "2022-11-09 19:59:48 - Precision@3: 43.99%\n",
      "2022-11-09 19:59:48 - Precision@5: 28.36%\n",
      "2022-11-09 19:59:48 - Precision@10: 15.05%\n",
      "2022-11-09 19:59:48 - Recall@1: 83.11%\n",
      "2022-11-09 19:59:48 - Recall@3: 96.15%\n",
      "2022-11-09 19:59:48 - Recall@5: 98.13%\n",
      "2022-11-09 19:59:48 - Recall@10: 99.36%\n",
      "2022-11-09 19:59:48 - MRR@10: 0.9843\n",
      "2022-11-09 19:59:48 - NDCG@10: 0.9850\n",
      "2022-11-09 19:59:48 - MAP@100: 0.9794\n",
      "2022-11-09 19:59:48 - Score-Function: dot_score\n",
      "2022-11-09 19:59:48 - Accuracy@1: 97.38%\n",
      "2022-11-09 19:59:48 - Accuracy@3: 99.42%\n",
      "2022-11-09 19:59:48 - Accuracy@5: 99.72%\n",
      "2022-11-09 19:59:48 - Accuracy@10: 99.86%\n",
      "2022-11-09 19:59:48 - Precision@1: 97.38%\n",
      "2022-11-09 19:59:48 - Precision@3: 43.99%\n",
      "2022-11-09 19:59:48 - Precision@5: 28.36%\n",
      "2022-11-09 19:59:48 - Precision@10: 15.05%\n",
      "2022-11-09 19:59:48 - Recall@1: 83.11%\n",
      "2022-11-09 19:59:48 - Recall@3: 96.15%\n",
      "2022-11-09 19:59:48 - Recall@5: 98.13%\n",
      "2022-11-09 19:59:48 - Recall@10: 99.36%\n",
      "2022-11-09 19:59:48 - MRR@10: 0.9843\n",
      "2022-11-09 19:59:48 - NDCG@10: 0.9850\n",
      "2022-11-09 19:59:48 - MAP@100: 0.9794\n"
     ]
    }
   ],
   "source": [
    "# Create a SequentialEvaluator. This SequentialEvaluator runs all three evaluators in a sequential order.\n",
    "# We optimize the model with respect to the score from the last evaluator (scores[-1])\n",
    "seq_evaluator = evaluation.SequentialEvaluator(evaluators, \n",
    "                                               main_score_function=lambda scores: scores[-1])\n",
    "\n",
    "\n",
    "logger.info(\"Evaluate model without training\")\n",
    "with torch.no_grad():\n",
    "    seq_evaluator(model, epoch=0, steps=0, output_path=model_save_path)"
   ]
  },
  {
   "cell_type": "code",
   "execution_count": 16,
   "id": "e4cd0d2b",
   "metadata": {
    "scrolled": false
   },
   "outputs": [
    {
     "data": {
      "application/vnd.jupyter.widget-view+json": {
       "model_id": "175294e03ec745619bd02550a0c127f5",
       "version_major": 2,
       "version_minor": 0
      },
      "text/plain": [
       "Epoch:   0%|          | 0/1 [00:00<?, ?it/s]"
      ]
     },
     "metadata": {},
     "output_type": "display_data"
    },
    {
     "data": {
      "application/vnd.jupyter.widget-view+json": {
       "model_id": "eeb6e0f7464945c990d24477061c74a9",
       "version_major": 2,
       "version_minor": 0
      },
      "text/plain": [
       "Iteration:   0%|          | 0/17395 [00:00<?, ?it/s]"
      ]
     },
     "metadata": {},
     "output_type": "display_data"
    },
    {
     "name": "stdout",
     "output_type": "stream",
     "text": [
      "2022-11-09 20:33:25 - Binary Accuracy Evaluation of the model on  dataset after epoch 0:\n",
      "2022-11-09 20:34:04 - Accuracy with Cosine-Similarity:           84.07\t(Threshold: 0.8343)\n",
      "2022-11-09 20:34:04 - F1 with Cosine-Similarity:                 78.60\t(Threshold: 0.7941)\n",
      "2022-11-09 20:34:04 - Precision with Cosine-Similarity:          70.91\n",
      "2022-11-09 20:34:04 - Recall with Cosine-Similarity:             88.17\n",
      "2022-11-09 20:34:04 - Average Precision with Cosine-Similarity:  83.50\n",
      "\n",
      "2022-11-09 20:34:04 - Accuracy with Manhattan-Distance:           84.01\t(Threshold: 8.9001)\n",
      "2022-11-09 20:34:04 - F1 with Manhattan-Distance:                 78.57\t(Threshold: 9.9410)\n",
      "2022-11-09 20:34:04 - Precision with Manhattan-Distance:          71.06\n",
      "2022-11-09 20:34:04 - Recall with Manhattan-Distance:             87.85\n",
      "2022-11-09 20:34:04 - Average Precision with Manhattan-Distance:  83.45\n",
      "\n",
      "2022-11-09 20:34:04 - Accuracy with Euclidean-Distance:           84.07\t(Threshold: 0.5757)\n",
      "2022-11-09 20:34:04 - F1 with Euclidean-Distance:                 78.60\t(Threshold: 0.6417)\n",
      "2022-11-09 20:34:04 - Precision with Euclidean-Distance:          70.91\n",
      "2022-11-09 20:34:04 - Recall with Euclidean-Distance:             88.17\n",
      "2022-11-09 20:34:04 - Average Precision with Euclidean-Distance:  83.49\n",
      "\n",
      "2022-11-09 20:34:04 - Accuracy with Dot-Product:           84.07\t(Threshold: 0.8343)\n",
      "2022-11-09 20:34:04 - F1 with Dot-Product:                 78.60\t(Threshold: 0.7941)\n",
      "2022-11-09 20:34:04 - Precision with Dot-Product:          70.91\n",
      "2022-11-09 20:34:04 - Recall with Dot-Product:             88.17\n",
      "2022-11-09 20:34:04 - Average Precision with Dot-Product:  83.50\n",
      "\n",
      "2022-11-09 20:34:04 - Paraphrase Mining Evaluation on dev dataset after epoch 0:\n",
      "2022-11-09 20:34:06 - Number of candidate pairs: 77441\n",
      "2022-11-09 20:34:06 - Average Precision: 45.11\n",
      "2022-11-09 20:34:06 - Optimal threshold: 0.9171\n",
      "2022-11-09 20:34:06 - Precision: 60.00\n",
      "2022-11-09 20:34:06 - Recall: 42.86\n",
      "2022-11-09 20:34:06 - F1: 50.00\n",
      "\n",
      "2022-11-09 20:34:06 - Information Retrieval Evaluation on  dataset after epoch 0:\n",
      "2022-11-09 20:34:16 - Queries: 5000\n",
      "2022-11-09 20:34:16 - Corpus: 7873\n",
      "\n",
      "2022-11-09 20:34:17 - Score-Function: cos_sim\n",
      "2022-11-09 20:34:17 - Accuracy@1: 96.34%\n",
      "2022-11-09 20:34:17 - Accuracy@3: 98.74%\n",
      "2022-11-09 20:34:17 - Accuracy@5: 99.18%\n",
      "2022-11-09 20:34:17 - Accuracy@10: 99.54%\n",
      "2022-11-09 20:34:17 - Precision@1: 96.34%\n",
      "2022-11-09 20:34:17 - Precision@3: 43.34%\n",
      "2022-11-09 20:34:17 - Precision@5: 28.05%\n",
      "2022-11-09 20:34:17 - Precision@10: 14.91%\n",
      "2022-11-09 20:34:17 - Recall@1: 82.14%\n",
      "2022-11-09 20:34:17 - Recall@3: 95.02%\n",
      "2022-11-09 20:34:17 - Recall@5: 97.35%\n",
      "2022-11-09 20:34:17 - Recall@10: 98.80%\n",
      "2022-11-09 20:34:17 - MRR@10: 0.9762\n",
      "2022-11-09 20:34:17 - NDCG@10: 0.9754\n",
      "2022-11-09 20:34:17 - MAP@100: 0.9675\n",
      "2022-11-09 20:34:17 - Score-Function: dot_score\n",
      "2022-11-09 20:34:17 - Accuracy@1: 96.34%\n",
      "2022-11-09 20:34:17 - Accuracy@3: 98.74%\n",
      "2022-11-09 20:34:17 - Accuracy@5: 99.18%\n",
      "2022-11-09 20:34:17 - Accuracy@10: 99.54%\n",
      "2022-11-09 20:34:17 - Precision@1: 96.34%\n",
      "2022-11-09 20:34:17 - Precision@3: 43.34%\n",
      "2022-11-09 20:34:17 - Precision@5: 28.05%\n",
      "2022-11-09 20:34:17 - Precision@10: 14.91%\n",
      "2022-11-09 20:34:17 - Recall@1: 82.14%\n",
      "2022-11-09 20:34:17 - Recall@3: 95.02%\n",
      "2022-11-09 20:34:17 - Recall@5: 97.35%\n",
      "2022-11-09 20:34:17 - Recall@10: 98.80%\n",
      "2022-11-09 20:34:17 - MRR@10: 0.9762\n",
      "2022-11-09 20:34:17 - NDCG@10: 0.9754\n",
      "2022-11-09 20:34:17 - MAP@100: 0.9675\n",
      "2022-11-09 20:34:17 - Save model to /home/juanxo90/Dev/data/output/training_OnlineConstrativeLoss-2022-11-09_19-58-55\n"
     ]
    }
   ],
   "source": [
    "# Train the model\n",
    "model.fit(train_objectives=[(train_dataloader, train_loss)],\n",
    "          evaluator=seq_evaluator,\n",
    "          epochs=num_epochs,\n",
    "#           warmup_steps=1000,\n",
    "          warmup_steps=500,\n",
    "          output_path=model_save_path\n",
    "         )"
   ]
  }
 ],
 "metadata": {
  "kernelspec": {
   "display_name": "Python 3 (ipykernel)",
   "language": "python",
   "name": "python3"
  },
  "language_info": {
   "codemirror_mode": {
    "name": "ipython",
    "version": 3
   },
   "file_extension": ".py",
   "mimetype": "text/x-python",
   "name": "python",
   "nbconvert_exporter": "python",
   "pygments_lexer": "ipython3",
   "version": "3.7.13"
  }
 },
 "nbformat": 4,
 "nbformat_minor": 5
}
