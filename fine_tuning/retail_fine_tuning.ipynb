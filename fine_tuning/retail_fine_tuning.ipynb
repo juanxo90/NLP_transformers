{
 "cells": [
  {
   "cell_type": "markdown",
   "id": "f42e7ad7",
   "metadata": {},
   "source": [
    "## fine tuning using data from retail"
   ]
  },
  {
   "cell_type": "code",
   "execution_count": 4,
   "id": "7b022e3c",
   "metadata": {},
   "outputs": [],
   "source": [
    "import torch\n",
    "from torch.utils.data import DataLoader\n",
    "from sentence_transformers import losses, util\n",
    "from sentence_transformers import LoggingHandler, SentenceTransformer, evaluation\n",
    "from sentence_transformers.readers import InputExample\n",
    "import logging\n",
    "from datetime import datetime\n",
    "import csv\n",
    "import os\n",
    "from zipfile import ZipFile\n",
    "import random"
   ]
  },
  {
   "cell_type": "code",
   "execution_count": 6,
   "id": "369d5f31",
   "metadata": {},
   "outputs": [],
   "source": [
    "torch_device = 'cuda' if torch.cuda.is_available() else 'cpu'\n",
    "\n",
    "model = SentenceTransformer('multi-qa-MiniLM-L6-cos-v1')\n",
    "num_epochs = 3#10\n",
    "train_batch_size = 64"
   ]
  },
  {
   "cell_type": "code",
   "execution_count": 15,
   "id": "b61e97d5",
   "metadata": {},
   "outputs": [],
   "source": [
    "#As distance metric, we use cosine distance (cosine_distance = 1-cosine_similarity)\n",
    "distance_metric = losses.SiameseDistanceMetric.COSINE_DISTANCE\n",
    "\n",
    "#Negative pairs should have a distance of at least 0.5\n",
    "margin = 0.5\n",
    "\n",
    "dataset_path = '../../data/quora-IR-dataset'\n",
    "\n",
    "model_save_path = '../../data/output/training_OnlineConstrativeLoss-'\\\n",
    "+datetime.now().strftime(\"%Y-%m-%d_%H-%M-%S\")"
   ]
  },
  {
   "cell_type": "code",
   "execution_count": 16,
   "id": "bc42cea1",
   "metadata": {},
   "outputs": [
    {
     "data": {
      "text/plain": [
       "'../../data/output/training_OnlineConstrativeLoss-2022-11-09_14-29-45'"
      ]
     },
     "execution_count": 16,
     "metadata": {},
     "output_type": "execute_result"
    }
   ],
   "source": [
    "model_save_path"
   ]
  },
  {
   "cell_type": "code",
   "execution_count": null,
   "id": "6c6edde9",
   "metadata": {},
   "outputs": [],
   "source": []
  }
 ],
 "metadata": {
  "kernelspec": {
   "display_name": "Python 3 (ipykernel)",
   "language": "python",
   "name": "python3"
  },
  "language_info": {
   "codemirror_mode": {
    "name": "ipython",
    "version": 3
   },
   "file_extension": ".py",
   "mimetype": "text/x-python",
   "name": "python",
   "nbconvert_exporter": "python",
   "pygments_lexer": "ipython3",
   "version": "3.7.13"
  }
 },
 "nbformat": 4,
 "nbformat_minor": 5
}
