{
 "cells": [
  {
   "cell_type": "markdown",
   "id": "f42e7ad7",
   "metadata": {},
   "source": [
    "## fine tuning using data from retail"
   ]
  },
  {
   "cell_type": "code",
   "execution_count": 1,
   "id": "7b022e3c",
   "metadata": {},
   "outputs": [],
   "source": [
    "import pandas as pd\n",
    "import torch\n",
    "from torch.utils.data import DataLoader\n",
    "from sentence_transformers import losses, util\n",
    "from sentence_transformers import LoggingHandler, SentenceTransformer, evaluation\n",
    "from sentence_transformers.readers import InputExample\n",
    "import logging\n",
    "from datetime import datetime\n",
    "import csv\n",
    "import os\n",
    "from zipfile import ZipFile\n",
    "import random"
   ]
  },
  {
   "cell_type": "code",
   "execution_count": 2,
   "id": "e368cd60",
   "metadata": {},
   "outputs": [],
   "source": [
    "pd.set_option('display.max_colwidth',None)"
   ]
  },
  {
   "cell_type": "code",
   "execution_count": 3,
   "id": "8e9d24fc",
   "metadata": {},
   "outputs": [],
   "source": [
    "#### Just some code to print debug information to stdout\n",
    "logging.basicConfig(format='%(asctime)s - %(message)s',\n",
    "                    datefmt='%Y-%m-%d %H:%M:%S',\n",
    "                    level=logging.INFO,\n",
    "                    handlers=[LoggingHandler()])\n",
    "logger = logging.getLogger(__name__)\n",
    "#### /print debug information to stdout"
   ]
  },
  {
   "cell_type": "code",
   "execution_count": 4,
   "id": "369d5f31",
   "metadata": {},
   "outputs": [
    {
     "name": "stdout",
     "output_type": "stream",
     "text": [
      "2022-11-11 13:08:20 - Load pretrained SentenceTransformer: multi-qa-MiniLM-L6-cos-v1\n"
     ]
    }
   ],
   "source": [
    "torch_device = 'cuda' if torch.cuda.is_available() else 'cpu'\n",
    "# torch_device = 'cpu'\n",
    "\n",
    "model = SentenceTransformer('multi-qa-MiniLM-L6-cos-v1',\n",
    "                           device=torch_device)\n",
    "num_epochs = 1#10\n",
    "train_batch_size = 16"
   ]
  },
  {
   "cell_type": "code",
   "execution_count": 5,
   "id": "b61e97d5",
   "metadata": {},
   "outputs": [],
   "source": [
    "#As distance metric, we use cosine distance (cosine_distance = 1-cosine_similarity)\n",
    "distance_metric = losses.SiameseDistanceMetric.COSINE_DISTANCE\n",
    "\n",
    "#Negative pairs should have a distance of at least 0.5\n",
    "margin = 0.5\n",
    "\n",
    "dataset_path = os.path.join(os.path.dirname(os.path.dirname(os.getcwd())), \n",
    "                            'data/retail_data/')\n",
    "\n",
    "model_save_path = os.path.join(os.path.dirname(os.path.dirname(os.getcwd())), \n",
    "                               'data/output/training_retailConstrativeLoss-')\\\n",
    "+datetime.now().strftime(\"%Y-%m-%d_%H-%M-%S\")\n",
    "\n",
    "\n",
    "os.makedirs(model_save_path, exist_ok=True)"
   ]
  },
  {
   "cell_type": "code",
   "execution_count": 6,
   "id": "c4bc0f6c",
   "metadata": {},
   "outputs": [],
   "source": [
    "if not os.path.exists(dataset_path):\n",
    "    util.http_get(url='https://pages.cs.wisc.edu/~anhai/data1/deepmatcher_data/Structured/Amazon-Google/exp_data/tableA.csv',\n",
    "                  path=os.path.join(dataset_path,'tableA.csv'))\n",
    "    util.http_get(url='https://pages.cs.wisc.edu/~anhai/data1/deepmatcher_data/Structured/Amazon-Google/exp_data/tableB.csv',\n",
    "                  path=os.path.join(dataset_path,'tableB.csv'))\n",
    "    util.http_get(url='https://pages.cs.wisc.edu/~anhai/data1/deepmatcher_data/Structured/Amazon-Google/exp_data/test.csv',\n",
    "                  path=os.path.join(dataset_path,'test.csv'))\n",
    "    util.http_get(url='https://pages.cs.wisc.edu/~anhai/data1/deepmatcher_data/Structured/Amazon-Google/exp_data/train.csv',\n",
    "                  path=os.path.join(dataset_path,'train.csv'))\n",
    "    util.http_get(url='https://pages.cs.wisc.edu/~anhai/data1/deepmatcher_data/Structured/Amazon-Google/exp_data/valid.csv',\n",
    "                  path=os.path.join(dataset_path,'valid.csv'))"
   ]
  },
  {
   "cell_type": "code",
   "execution_count": 7,
   "id": "06cc5ad6",
   "metadata": {},
   "outputs": [],
   "source": [
    "# Getting de data for the correct format\n",
    "tableA = pd.read_csv(os.path.join(dataset_path,'tableA.csv'))\n",
    "tableA['id'] = 'a_' + tableA.id.astype(str).str.zfill(4)\n",
    "tableB = pd.read_csv(os.path.join(dataset_path,'tableB.csv'))\n",
    "tableB['id'] = 'b_' + tableB.id.astype(str).str.zfill(4)\n",
    "train = pd.read_csv(os.path.join(dataset_path,'train.csv'))\n",
    "train['ltable_id'] = 'a_' + train.ltable_id.astype(str).str.zfill(4)\n",
    "train['rtable_id'] = 'b_' + train.rtable_id.astype(str).str.zfill(4)\n",
    "test = pd.read_csv(os.path.join(dataset_path,'test.csv'))\n",
    "test['ltable_id'] = 'a_' + test.ltable_id.astype(str).str.zfill(4)\n",
    "test['rtable_id'] = 'b_' + test.rtable_id.astype(str).str.zfill(4)\n",
    "valid = pd.read_csv(os.path.join(dataset_path,'valid.csv'))\n",
    "valid['ltable_id'] = 'a_' + valid.ltable_id.astype(str).str.zfill(4)\n",
    "valid['rtable_id'] = 'b_' + valid.rtable_id.astype(str).str.zfill(4)"
   ]
  },
  {
   "cell_type": "code",
   "execution_count": 9,
   "id": "5a6b6249",
   "metadata": {},
   "outputs": [],
   "source": [
    "train_pairs = (train#[train.label == 1]\n",
    "               .merge(tableA, left_on='ltable_id', right_on='id')\n",
    "               .merge(tableB, left_on='rtable_id', right_on='id')\n",
    "              )[['title_x', 'title_y', 'label']]"
   ]
  },
  {
   "cell_type": "code",
   "execution_count": 11,
   "id": "c3ee7cf6",
   "metadata": {},
   "outputs": [],
   "source": [
    "######### Read train data  ##########\n",
    "# Read train data\n",
    "train_samples = []\n",
    "for index, row in train_pairs.iterrows():\n",
    "    sample = InputExample(texts=[row['title_x'], row['title_y']], label=int(row['label']))\n",
    "    train_samples.append(sample)"
   ]
  },
  {
   "cell_type": "code",
   "execution_count": 12,
   "id": "a490db8c",
   "metadata": {},
   "outputs": [],
   "source": [
    "train_dataloader = DataLoader(train_samples, shuffle=True, batch_size=train_batch_size)\n",
    "train_loss = losses.OnlineContrastiveLoss(model=model, distance_metric=distance_metric, margin=margin)"
   ]
  },
  {
   "cell_type": "code",
   "execution_count": 13,
   "id": "f4ae13e8",
   "metadata": {},
   "outputs": [],
   "source": [
    "valid_pairs = (valid#[valid.label == 1]\n",
    "               .merge(tableA, left_on='ltable_id', right_on='id')\n",
    "               .merge(tableB, left_on='rtable_id', right_on='id')\n",
    "              )[['title_x', 'title_y', 'label']]"
   ]
  },
  {
   "cell_type": "code",
   "execution_count": 14,
   "id": "b8c2f6b5",
   "metadata": {},
   "outputs": [],
   "source": [
    "################### Development  Evaluators ##################\n",
    "# We add 3 evaluators, that evaluate the model on Duplicate Questions pair classification,\n",
    "# Duplicate Questions Mining, and Duplicate Questions Information Retrieval\n",
    "evaluators = []\n",
    "\n",
    "###### Classification ######\n",
    "# Given (quesiton1, question2), is this a duplicate or not?\n",
    "# The evaluator will compute the embeddings for both questions and then compute\n",
    "# a cosine similarity. If the similarity is above a threshold, we have a duplicate.\n",
    "dev_sentences1 = []\n",
    "dev_sentences2 = []\n",
    "dev_labels = []\n",
    "\n",
    "for index, row in valid_pairs.iterrows():\n",
    "    dev_sentences1.append(row['title_x'])\n",
    "    dev_sentences2.append(row['title_y'])\n",
    "    dev_labels.append(int(row['label']))\n",
    "\n",
    "\n",
    "binary_acc_evaluator = evaluation.BinaryClassificationEvaluator(dev_sentences1, \n",
    "                                                                dev_sentences2, \n",
    "                                                                dev_labels)\n",
    "evaluators.append(binary_acc_evaluator)"
   ]
  },
  {
   "cell_type": "code",
   "execution_count": 50,
   "id": "b57c6e1e",
   "metadata": {},
   "outputs": [],
   "source": [
    "###### Duplicate Mining ######\n",
    "# Given a large corpus of data, identify all duplicates in that corpus.\n",
    "\n",
    "# For faster processing, we limit the development corpus to only 10,000 sentences.\n",
    "duplicates_all = pd.concat([\n",
    "    train[train.label == 1], \n",
    "    test[test.label == 1], \n",
    "    valid[valid.label == 1]]).reset_index(drop=True)\n",
    "\n",
    "max_dev_samples = 10000\n",
    "dev_sentences = {}\n",
    "dev_duplicates = []\n",
    "\n",
    "for index, row in pd.concat([tableA, tableB], ignore_index=True).iterrows():\n",
    "    dev_sentences[row['id']] = row['title']\n",
    "    \n",
    "    if len(dev_sentences) >= max_dev_samples:\n",
    "        break\n",
    "for index, row in duplicates_all.iterrows():\n",
    "    if row['ltable_id'] in dev_sentences and row['rtable_id'] in dev_sentences:\n",
    "        dev_duplicates.append([row['ltable_id'], row['rtable_id']])"
   ]
  },
  {
   "cell_type": "code",
   "execution_count": 57,
   "id": "e9476943",
   "metadata": {},
   "outputs": [],
   "source": [
    "# The ParaphraseMiningEvaluator computes the cosine similarity between all sentences and\n",
    "# extracts a list with the pairs that have the highest similarity. Given the duplicate\n",
    "# information in dev_duplicates, it then computes and F1 score how well our duplicate mining worked\n",
    "paraphrase_mining_evaluator = evaluation.ParaphraseMiningEvaluator(dev_sentences, \n",
    "                                                                   dev_duplicates, name='dev')\n",
    "evaluators.append(paraphrase_mining_evaluator)"
   ]
  },
  {
   "cell_type": "code",
   "execution_count": 80,
   "id": "7dc46d88",
   "metadata": {},
   "outputs": [
    {
     "data": {
      "text/plain": [
       "ltable_id\n",
       "a_0000            b_1878\n",
       "a_0002            b_1881\n",
       "a_0003            b_1879\n",
       "a_0004            b_1905\n",
       "a_0006            b_1923\n",
       "               ...      \n",
       "a_1356            b_0624\n",
       "a_1357            b_0614\n",
       "a_1360            b_0610\n",
       "a_1361    b_0963, b_0605\n",
       "a_1362            b_0608\n",
       "Name: rtable_id, Length: 1002, dtype: object"
      ]
     },
     "execution_count": 80,
     "metadata": {},
     "output_type": "execute_result"
    }
   ],
   "source": [
    "duplicates_all.groupby('ltable_id')['rtable_id'].agg(', '.join)#.loc['a_1361']"
   ]
  },
  {
   "cell_type": "code",
   "execution_count": 67,
   "id": "fb47d991",
   "metadata": {},
   "outputs": [
    {
     "data": {
      "text/html": [
       "<div>\n",
       "<style scoped>\n",
       "    .dataframe tbody tr th:only-of-type {\n",
       "        vertical-align: middle;\n",
       "    }\n",
       "\n",
       "    .dataframe tbody tr th {\n",
       "        vertical-align: top;\n",
       "    }\n",
       "\n",
       "    .dataframe thead th {\n",
       "        text-align: right;\n",
       "    }\n",
       "</style>\n",
       "<table border=\"1\" class=\"dataframe\">\n",
       "  <thead>\n",
       "    <tr style=\"text-align: right;\">\n",
       "      <th></th>\n",
       "      <th>ltable_id</th>\n",
       "      <th>rtable_id</th>\n",
       "      <th>label</th>\n",
       "    </tr>\n",
       "  </thead>\n",
       "  <tbody>\n",
       "    <tr>\n",
       "      <th>884</th>\n",
       "      <td>a_0000</td>\n",
       "      <td>b_1878</td>\n",
       "      <td>1</td>\n",
       "    </tr>\n",
       "    <tr>\n",
       "      <th>802</th>\n",
       "      <td>a_0002</td>\n",
       "      <td>b_1881</td>\n",
       "      <td>1</td>\n",
       "    </tr>\n",
       "    <tr>\n",
       "      <th>906</th>\n",
       "      <td>a_0003</td>\n",
       "      <td>b_1879</td>\n",
       "      <td>1</td>\n",
       "    </tr>\n",
       "    <tr>\n",
       "      <th>755</th>\n",
       "      <td>a_0004</td>\n",
       "      <td>b_1905</td>\n",
       "      <td>1</td>\n",
       "    </tr>\n",
       "    <tr>\n",
       "      <th>940</th>\n",
       "      <td>a_0006</td>\n",
       "      <td>b_1923</td>\n",
       "      <td>1</td>\n",
       "    </tr>\n",
       "    <tr>\n",
       "      <th>...</th>\n",
       "      <td>...</td>\n",
       "      <td>...</td>\n",
       "      <td>...</td>\n",
       "    </tr>\n",
       "    <tr>\n",
       "      <th>592</th>\n",
       "      <td>a_1357</td>\n",
       "      <td>b_0614</td>\n",
       "      <td>1</td>\n",
       "    </tr>\n",
       "    <tr>\n",
       "      <th>749</th>\n",
       "      <td>a_1360</td>\n",
       "      <td>b_0610</td>\n",
       "      <td>1</td>\n",
       "    </tr>\n",
       "    <tr>\n",
       "      <th>350</th>\n",
       "      <td>a_1361</td>\n",
       "      <td>b_0963</td>\n",
       "      <td>1</td>\n",
       "    </tr>\n",
       "    <tr>\n",
       "      <th>440</th>\n",
       "      <td>a_1361</td>\n",
       "      <td>b_0605</td>\n",
       "      <td>1</td>\n",
       "    </tr>\n",
       "    <tr>\n",
       "      <th>1106</th>\n",
       "      <td>a_1362</td>\n",
       "      <td>b_0608</td>\n",
       "      <td>1</td>\n",
       "    </tr>\n",
       "  </tbody>\n",
       "</table>\n",
       "<p>1167 rows × 3 columns</p>\n",
       "</div>"
      ],
      "text/plain": [
       "     ltable_id rtable_id  label\n",
       "884     a_0000    b_1878      1\n",
       "802     a_0002    b_1881      1\n",
       "906     a_0003    b_1879      1\n",
       "755     a_0004    b_1905      1\n",
       "940     a_0006    b_1923      1\n",
       "...        ...       ...    ...\n",
       "592     a_1357    b_0614      1\n",
       "749     a_1360    b_0610      1\n",
       "350     a_1361    b_0963      1\n",
       "440     a_1361    b_0605      1\n",
       "1106    a_1362    b_0608      1\n",
       "\n",
       "[1167 rows x 3 columns]"
      ]
     },
     "execution_count": 67,
     "metadata": {},
     "output_type": "execute_result"
    }
   ],
   "source": [
    "duplicates_all.sort_values('ltable_id')"
   ]
  },
  {
   "cell_type": "code",
   "execution_count": null,
   "id": "19832249",
   "metadata": {},
   "outputs": [],
   "source": []
  },
  {
   "cell_type": "code",
   "execution_count": null,
   "id": "1a35fef1",
   "metadata": {},
   "outputs": [],
   "source": []
  },
  {
   "cell_type": "code",
   "execution_count": 58,
   "id": "d4eb14b1",
   "metadata": {
    "scrolled": false
   },
   "outputs": [
    {
     "name": "stdout",
     "output_type": "stream",
     "text": [
      "2022-11-11 14:02:27 - Evaluate model without training\n",
      "2022-11-11 14:02:27 - Binary Accuracy Evaluation of the model on  dataset in epoch 0 after 0 steps:\n",
      "2022-11-11 14:02:41 - Accuracy with Cosine-Similarity:           90.14\t(Threshold: 1.0000)\n",
      "2022-11-11 14:02:41 - F1 with Cosine-Similarity:                 42.57\t(Threshold: 0.7600)\n",
      "2022-11-11 14:02:41 - Precision with Cosine-Similarity:          34.68\n",
      "2022-11-11 14:02:41 - Recall with Cosine-Similarity:             55.13\n",
      "2022-11-11 14:02:41 - Average Precision with Cosine-Similarity:  36.62\n",
      "\n",
      "2022-11-11 14:02:41 - Accuracy with Manhattan-Distance:           90.14\t(Threshold: 0.0000)\n",
      "2022-11-11 14:02:41 - F1 with Manhattan-Distance:                 42.73\t(Threshold: 10.5634)\n",
      "2022-11-11 14:02:41 - Precision with Manhattan-Distance:          36.20\n",
      "2022-11-11 14:02:41 - Recall with Manhattan-Distance:             52.14\n",
      "2022-11-11 14:02:41 - Average Precision with Manhattan-Distance:  36.45\n",
      "\n",
      "2022-11-11 14:02:41 - Accuracy with Euclidean-Distance:           90.14\t(Threshold: 0.0000)\n",
      "2022-11-11 14:02:41 - F1 with Euclidean-Distance:                 42.57\t(Threshold: 0.6929)\n",
      "2022-11-11 14:02:41 - Precision with Euclidean-Distance:          34.68\n",
      "2022-11-11 14:02:41 - Recall with Euclidean-Distance:             55.13\n",
      "2022-11-11 14:02:41 - Average Precision with Euclidean-Distance:  36.62\n",
      "\n",
      "2022-11-11 14:02:41 - Accuracy with Dot-Product:           90.14\t(Threshold: 0.9477)\n",
      "2022-11-11 14:02:41 - F1 with Dot-Product:                 42.57\t(Threshold: 0.7600)\n",
      "2022-11-11 14:02:41 - Precision with Dot-Product:          34.68\n",
      "2022-11-11 14:02:41 - Recall with Dot-Product:             55.13\n",
      "2022-11-11 14:02:41 - Average Precision with Dot-Product:  36.75\n",
      "\n",
      "2022-11-11 14:02:41 - Paraphrase Mining Evaluation on dev dataset in epoch 0 after 0 steps:\n",
      "2022-11-11 14:02:49 - Number of candidate pairs: 330332\n",
      "2022-11-11 14:02:49 - Average Precision: 8.87\n",
      "2022-11-11 14:02:49 - Optimal threshold: 0.8338\n",
      "2022-11-11 14:02:49 - Precision: 11.20\n",
      "2022-11-11 14:02:49 - Recall: 36.68\n",
      "2022-11-11 14:02:49 - F1: 17.16\n",
      "\n",
      "2022-11-11 14:02:49 - Paraphrase Mining Evaluation on dev dataset in epoch 0 after 0 steps:\n",
      "2022-11-11 14:02:57 - Number of candidate pairs: 330332\n",
      "2022-11-11 14:02:58 - Average Precision: 8.87\n",
      "2022-11-11 14:02:58 - Optimal threshold: 0.8338\n",
      "2022-11-11 14:02:58 - Precision: 11.20\n",
      "2022-11-11 14:02:58 - Recall: 36.68\n",
      "2022-11-11 14:02:58 - F1: 17.16\n",
      "\n"
     ]
    }
   ],
   "source": [
    "# Create a SequentialEvaluator. This SequentialEvaluator runs all three evaluators in a sequential order.\n",
    "# We optimize the model with respect to the score from the last evaluator (scores[-1])\n",
    "seq_evaluator = evaluation.SequentialEvaluator(evaluators, \n",
    "                                               main_score_function=lambda scores: scores[-1])\n",
    "\n",
    "\n",
    "logger.info(\"Evaluate model without training\")\n",
    "with torch.no_grad():\n",
    "    seq_evaluator(model, epoch=0, steps=0, output_path=model_save_path)"
   ]
  },
  {
   "cell_type": "code",
   "execution_count": 59,
   "id": "e4cd0d2b",
   "metadata": {
    "scrolled": false
   },
   "outputs": [
    {
     "data": {
      "application/vnd.jupyter.widget-view+json": {
       "model_id": "1fa0b66145004272b1ca2b4c2b795b55",
       "version_major": 2,
       "version_minor": 0
      },
      "text/plain": [
       "Epoch:   0%|          | 0/1 [00:00<?, ?it/s]"
      ]
     },
     "metadata": {},
     "output_type": "display_data"
    },
    {
     "data": {
      "application/vnd.jupyter.widget-view+json": {
       "model_id": "ca689f6206754583b5ded1229a3bd358",
       "version_major": 2,
       "version_minor": 0
      },
      "text/plain": [
       "Iteration:   0%|          | 0/430 [00:00<?, ?it/s]"
      ]
     },
     "metadata": {},
     "output_type": "display_data"
    },
    {
     "name": "stdout",
     "output_type": "stream",
     "text": [
      "2022-11-11 14:04:31 - Binary Accuracy Evaluation of the model on  dataset after epoch 0:\n",
      "2022-11-11 14:04:32 - Accuracy with Cosine-Similarity:           91.89\t(Threshold: 0.7736)\n",
      "2022-11-11 14:04:32 - F1 with Cosine-Similarity:                 60.47\t(Threshold: 0.6620)\n",
      "2022-11-11 14:04:32 - Precision with Cosine-Similarity:          47.88\n",
      "2022-11-11 14:04:32 - Recall with Cosine-Similarity:             82.05\n",
      "2022-11-11 14:04:32 - Average Precision with Cosine-Similarity:  53.85\n",
      "\n",
      "2022-11-11 14:04:32 - Accuracy with Manhattan-Distance:           91.76\t(Threshold: 10.3340)\n",
      "2022-11-11 14:04:32 - F1 with Manhattan-Distance:                 60.26\t(Threshold: 12.6982)\n",
      "2022-11-11 14:04:32 - Precision with Manhattan-Distance:          48.21\n",
      "2022-11-11 14:04:32 - Recall with Manhattan-Distance:             80.34\n",
      "2022-11-11 14:04:32 - Average Precision with Manhattan-Distance:  53.73\n",
      "\n",
      "2022-11-11 14:04:32 - Accuracy with Euclidean-Distance:           91.89\t(Threshold: 0.6728)\n",
      "2022-11-11 14:04:32 - F1 with Euclidean-Distance:                 60.47\t(Threshold: 0.8222)\n",
      "2022-11-11 14:04:32 - Precision with Euclidean-Distance:          47.88\n",
      "2022-11-11 14:04:32 - Recall with Euclidean-Distance:             82.05\n",
      "2022-11-11 14:04:32 - Average Precision with Euclidean-Distance:  53.85\n",
      "\n",
      "2022-11-11 14:04:32 - Accuracy with Dot-Product:           91.89\t(Threshold: 0.7736)\n",
      "2022-11-11 14:04:32 - F1 with Dot-Product:                 60.47\t(Threshold: 0.6620)\n",
      "2022-11-11 14:04:32 - Precision with Dot-Product:          47.88\n",
      "2022-11-11 14:04:32 - Recall with Dot-Product:             82.05\n",
      "2022-11-11 14:04:32 - Average Precision with Dot-Product:  53.73\n",
      "\n",
      "2022-11-11 14:04:32 - Paraphrase Mining Evaluation on dev dataset after epoch 0:\n",
      "2022-11-11 14:04:39 - Number of candidate pairs: 334814\n",
      "2022-11-11 14:04:39 - Average Precision: 14.24\n",
      "2022-11-11 14:04:39 - Optimal threshold: 0.7702\n",
      "2022-11-11 14:04:39 - Precision: 17.08\n",
      "2022-11-11 14:04:39 - Recall: 54.24\n",
      "2022-11-11 14:04:39 - F1: 25.97\n",
      "\n",
      "2022-11-11 14:04:39 - Paraphrase Mining Evaluation on dev dataset after epoch 0:\n",
      "2022-11-11 14:04:47 - Number of candidate pairs: 334814\n",
      "2022-11-11 14:04:48 - Average Precision: 14.24\n",
      "2022-11-11 14:04:48 - Optimal threshold: 0.7702\n",
      "2022-11-11 14:04:48 - Precision: 17.08\n",
      "2022-11-11 14:04:48 - Recall: 54.24\n",
      "2022-11-11 14:04:48 - F1: 25.97\n",
      "\n",
      "2022-11-11 14:04:48 - Save model to /home/juanxo90/Dev/data/output/training_retailConstrativeLoss-2022-11-11_13-08-21\n"
     ]
    }
   ],
   "source": [
    "# Train the model\n",
    "model.fit(train_objectives=[(train_dataloader, train_loss)],\n",
    "          evaluator=seq_evaluator,\n",
    "          epochs=num_epochs,\n",
    "#           warmup_steps=1000,\n",
    "          warmup_steps=500,\n",
    "          output_path=model_save_path\n",
    "         )"
   ]
  },
  {
   "cell_type": "code",
   "execution_count": null,
   "id": "85ec80a8",
   "metadata": {},
   "outputs": [],
   "source": []
  }
 ],
 "metadata": {
  "kernelspec": {
   "display_name": "Python 3 (ipykernel)",
   "language": "python",
   "name": "python3"
  },
  "language_info": {
   "codemirror_mode": {
    "name": "ipython",
    "version": 3
   },
   "file_extension": ".py",
   "mimetype": "text/x-python",
   "name": "python",
   "nbconvert_exporter": "python",
   "pygments_lexer": "ipython3",
   "version": "3.7.13"
  }
 },
 "nbformat": 4,
 "nbformat_minor": 5
}
