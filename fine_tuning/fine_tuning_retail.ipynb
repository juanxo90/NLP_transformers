{
 "cells": [
  {
   "cell_type": "markdown",
   "id": "f42e7ad7",
   "metadata": {},
   "source": [
    "## fine tuning using data from retail"
   ]
  },
  {
   "cell_type": "code",
   "execution_count": 1,
   "id": "7b022e3c",
   "metadata": {},
   "outputs": [],
   "source": [
    "import pandas as pd\n",
    "import torch\n",
    "from torch.utils.data import DataLoader\n",
    "from sentence_transformers import losses, util\n",
    "from sentence_transformers import LoggingHandler, SentenceTransformer, evaluation\n",
    "from sentence_transformers.readers import InputExample\n",
    "import logging\n",
    "from datetime import datetime\n",
    "import csv\n",
    "import os\n",
    "from zipfile import ZipFile\n",
    "import random"
   ]
  },
  {
   "cell_type": "code",
   "execution_count": 2,
   "id": "e368cd60",
   "metadata": {},
   "outputs": [],
   "source": [
    "pd.set_option('display.max_colwidth',None)"
   ]
  },
  {
   "cell_type": "code",
   "execution_count": 3,
   "id": "8e9d24fc",
   "metadata": {},
   "outputs": [],
   "source": [
    "#### Just some code to print debug information to stdout\n",
    "logging.basicConfig(format='%(asctime)s - %(message)s',\n",
    "                    datefmt='%Y-%m-%d %H:%M:%S',\n",
    "                    level=logging.INFO,\n",
    "                    handlers=[LoggingHandler()])\n",
    "logger = logging.getLogger(__name__)\n",
    "#### /print debug information to stdout"
   ]
  },
  {
   "cell_type": "code",
   "execution_count": 4,
   "id": "369d5f31",
   "metadata": {},
   "outputs": [
    {
     "name": "stdout",
     "output_type": "stream",
     "text": [
      "2022-11-10 12:22:07 - Load pretrained SentenceTransformer: multi-qa-MiniLM-L6-cos-v1\n"
     ]
    }
   ],
   "source": [
    "torch_device = 'cuda' if torch.cuda.is_available() else 'cpu'\n",
    "# torch_device = 'cpu'\n",
    "\n",
    "model = SentenceTransformer('multi-qa-MiniLM-L6-cos-v1',\n",
    "                           device=torch_device)\n",
    "num_epochs = 1#10\n",
    "train_batch_size = 16"
   ]
  },
  {
   "cell_type": "code",
   "execution_count": 5,
   "id": "b61e97d5",
   "metadata": {},
   "outputs": [],
   "source": [
    "#As distance metric, we use cosine distance (cosine_distance = 1-cosine_similarity)\n",
    "distance_metric = losses.SiameseDistanceMetric.COSINE_DISTANCE\n",
    "\n",
    "#Negative pairs should have a distance of at least 0.5\n",
    "margin = 0.5\n",
    "\n",
    "dataset_path = os.path.join(os.path.dirname(os.path.dirname(os.getcwd())), \n",
    "                            'data/retail_data/')\n",
    "\n",
    "model_save_path = os.path.join(os.path.dirname(os.path.dirname(os.getcwd())), \n",
    "                               'data/output/training_retailConstrativeLoss-')\\\n",
    "+datetime.now().strftime(\"%Y-%m-%d_%H-%M-%S\")\n",
    "\n",
    "\n",
    "os.makedirs(model_save_path, exist_ok=True)"
   ]
  },
  {
   "cell_type": "code",
   "execution_count": 6,
   "id": "c4bc0f6c",
   "metadata": {},
   "outputs": [],
   "source": [
    "if not os.path.exists(dataset_path):\n",
    "    util.http_get(url='https://pages.cs.wisc.edu/~anhai/data1/deepmatcher_data/Structured/Amazon-Google/exp_data/tableA.csv',\n",
    "                  path=os.path.join(dataset_path,'tableA.csv'))\n",
    "    util.http_get(url='https://pages.cs.wisc.edu/~anhai/data1/deepmatcher_data/Structured/Amazon-Google/exp_data/tableB.csv',\n",
    "                  path=os.path.join(dataset_path,'tableB.csv'))\n",
    "    util.http_get(url='https://pages.cs.wisc.edu/~anhai/data1/deepmatcher_data/Structured/Amazon-Google/exp_data/test.csv',\n",
    "                  path=os.path.join(dataset_path,'test.csv'))\n",
    "    util.http_get(url='https://pages.cs.wisc.edu/~anhai/data1/deepmatcher_data/Structured/Amazon-Google/exp_data/train.csv',\n",
    "                  path=os.path.join(dataset_path,'train.csv'))\n",
    "    util.http_get(url='https://pages.cs.wisc.edu/~anhai/data1/deepmatcher_data/Structured/Amazon-Google/exp_data/valid.csv',\n",
    "                  path=os.path.join(dataset_path,'valid.csv'))"
   ]
  },
  {
   "cell_type": "code",
   "execution_count": 53,
   "id": "06cc5ad6",
   "metadata": {},
   "outputs": [],
   "source": [
    "# Getting de data for the correct format\n",
    "tableA = pd.read_csv(os.path.join(dataset_path,'tableA.csv'))\n",
    "tableA['id'] = 'a_' + tableA.id.astype(str).str.zfill(4)\n",
    "tableB = pd.read_csv(os.path.join(dataset_path,'tableB.csv'))\n",
    "tableB['id'] = 'b_' + tableB.id.astype(str).str.zfill(4)\n",
    "train = pd.read_csv(os.path.join(dataset_path,'train.csv'))\n",
    "train['ltable_id'] = 'a_' + train.ltable_id.astype(str).str.zfill(4)\n",
    "train['rtable_id'] = 'b_' + train.rtable_id.astype(str).str.zfill(4)\n",
    "test = pd.read_csv(os.path.join(dataset_path,'test.csv'))\n",
    "test['ltable_id'] = 'a_' + test.ltable_id.astype(str).str.zfill(4)\n",
    "test['rtable_id'] = 'b_' + test.rtable_id.astype(str).str.zfill(4)\n",
    "valid = pd.read_csv(os.path.join(dataset_path,'valid.csv'))\n",
    "valid['ltable_id'] = 'a_' + valid.ltable_id.astype(str).str.zfill(4)\n",
    "valid['rtable_id'] = 'b_' + valid.rtable_id.astype(str).str.zfill(4)"
   ]
  },
  {
   "cell_type": "code",
   "execution_count": 54,
   "id": "3493e4ca",
   "metadata": {},
   "outputs": [
    {
     "data": {
      "text/html": [
       "<div>\n",
       "<style scoped>\n",
       "    .dataframe tbody tr th:only-of-type {\n",
       "        vertical-align: middle;\n",
       "    }\n",
       "\n",
       "    .dataframe tbody tr th {\n",
       "        vertical-align: top;\n",
       "    }\n",
       "\n",
       "    .dataframe thead th {\n",
       "        text-align: right;\n",
       "    }\n",
       "</style>\n",
       "<table border=\"1\" class=\"dataframe\">\n",
       "  <thead>\n",
       "    <tr style=\"text-align: right;\">\n",
       "      <th></th>\n",
       "      <th>ltable_id</th>\n",
       "      <th>rtable_id</th>\n",
       "      <th>label</th>\n",
       "    </tr>\n",
       "  </thead>\n",
       "  <tbody>\n",
       "    <tr>\n",
       "      <th>0</th>\n",
       "      <td>a_0897</td>\n",
       "      <td>b_0075</td>\n",
       "      <td>0</td>\n",
       "    </tr>\n",
       "    <tr>\n",
       "      <th>1</th>\n",
       "      <td>a_0827</td>\n",
       "      <td>b_2333</td>\n",
       "      <td>0</td>\n",
       "    </tr>\n",
       "    <tr>\n",
       "      <th>2</th>\n",
       "      <td>a_0600</td>\n",
       "      <td>b_2176</td>\n",
       "      <td>0</td>\n",
       "    </tr>\n",
       "    <tr>\n",
       "      <th>3</th>\n",
       "      <td>a_1284</td>\n",
       "      <td>b_2765</td>\n",
       "      <td>0</td>\n",
       "    </tr>\n",
       "    <tr>\n",
       "      <th>4</th>\n",
       "      <td>a_0396</td>\n",
       "      <td>b_3087</td>\n",
       "      <td>0</td>\n",
       "    </tr>\n",
       "    <tr>\n",
       "      <th>...</th>\n",
       "      <td>...</td>\n",
       "      <td>...</td>\n",
       "      <td>...</td>\n",
       "    </tr>\n",
       "    <tr>\n",
       "      <th>2288</th>\n",
       "      <td>a_1016</td>\n",
       "      <td>b_3189</td>\n",
       "      <td>0</td>\n",
       "    </tr>\n",
       "    <tr>\n",
       "      <th>2289</th>\n",
       "      <td>a_0661</td>\n",
       "      <td>b_1213</td>\n",
       "      <td>0</td>\n",
       "    </tr>\n",
       "    <tr>\n",
       "      <th>2290</th>\n",
       "      <td>a_0654</td>\n",
       "      <td>b_0448</td>\n",
       "      <td>0</td>\n",
       "    </tr>\n",
       "    <tr>\n",
       "      <th>2291</th>\n",
       "      <td>a_0498</td>\n",
       "      <td>b_2547</td>\n",
       "      <td>1</td>\n",
       "    </tr>\n",
       "    <tr>\n",
       "      <th>2292</th>\n",
       "      <td>a_0587</td>\n",
       "      <td>b_0915</td>\n",
       "      <td>0</td>\n",
       "    </tr>\n",
       "  </tbody>\n",
       "</table>\n",
       "<p>2293 rows × 3 columns</p>\n",
       "</div>"
      ],
      "text/plain": [
       "     ltable_id rtable_id  label\n",
       "0       a_0897    b_0075      0\n",
       "1       a_0827    b_2333      0\n",
       "2       a_0600    b_2176      0\n",
       "3       a_1284    b_2765      0\n",
       "4       a_0396    b_3087      0\n",
       "...        ...       ...    ...\n",
       "2288    a_1016    b_3189      0\n",
       "2289    a_0661    b_1213      0\n",
       "2290    a_0654    b_0448      0\n",
       "2291    a_0498    b_2547      1\n",
       "2292    a_0587    b_0915      0\n",
       "\n",
       "[2293 rows x 3 columns]"
      ]
     },
     "execution_count": 54,
     "metadata": {},
     "output_type": "execute_result"
    }
   ],
   "source": [
    "valid"
   ]
  },
  {
   "cell_type": "code",
   "execution_count": 42,
   "id": "0f9f42c8",
   "metadata": {},
   "outputs": [
    {
     "data": {
      "text/plain": [
       "0       b_0000\n",
       "1       b_0001\n",
       "2       b_0002\n",
       "3       b_0003\n",
       "4       b_0004\n",
       "         ...  \n",
       "3221    b_3221\n",
       "3222    b_3222\n",
       "3223    b_3223\n",
       "3224    b_3224\n",
       "3225    b_3225\n",
       "Name: id, Length: 3226, dtype: object"
      ]
     },
     "execution_count": 42,
     "metadata": {},
     "output_type": "execute_result"
    }
   ],
   "source": []
  },
  {
   "cell_type": "code",
   "execution_count": 8,
   "id": "5a6b6249",
   "metadata": {},
   "outputs": [],
   "source": [
    "train_pairs = (train#[train.label == 1]\n",
    "               .merge(tableA, left_on='ltable_id', right_on='id')\n",
    "               .merge(tableB, left_on='rtable_id', right_on='id')\n",
    "              )[['title_x', 'title_y', 'label']]"
   ]
  },
  {
   "cell_type": "code",
   "execution_count": 9,
   "id": "c3ee7cf6",
   "metadata": {},
   "outputs": [],
   "source": [
    "######### Read train data  ##########\n",
    "# Read train data\n",
    "train_samples = []\n",
    "for index, row in train_pairs.iterrows():\n",
    "    sample = InputExample(texts=[row['title_x'], row['title_y']], label=int(row['label']))\n",
    "    train_samples.append(sample)"
   ]
  },
  {
   "cell_type": "code",
   "execution_count": 10,
   "id": "a490db8c",
   "metadata": {},
   "outputs": [],
   "source": [
    "train_dataloader = DataLoader(train_samples, shuffle=True, batch_size=train_batch_size)\n",
    "train_loss = losses.OnlineContrastiveLoss(model=model, distance_metric=distance_metric, margin=margin)"
   ]
  },
  {
   "cell_type": "code",
   "execution_count": 16,
   "id": "f4ae13e8",
   "metadata": {},
   "outputs": [],
   "source": [
    "valid_pairs = (valid#[valid.label == 1]\n",
    "               .merge(tableA, left_on='ltable_id', right_on='id')\n",
    "               .merge(tableB, left_on='rtable_id', right_on='id')\n",
    "              )[['title_x', 'title_y', 'label']]"
   ]
  },
  {
   "cell_type": "code",
   "execution_count": 21,
   "id": "b8c2f6b5",
   "metadata": {},
   "outputs": [],
   "source": [
    "################### Development  Evaluators ##################\n",
    "# We add 3 evaluators, that evaluate the model on Duplicate Questions pair classification,\n",
    "# Duplicate Questions Mining, and Duplicate Questions Information Retrieval\n",
    "evaluators = []\n",
    "\n",
    "###### Classification ######\n",
    "# Given (quesiton1, question2), is this a duplicate or not?\n",
    "# The evaluator will compute the embeddings for both questions and then compute\n",
    "# a cosine similarity. If the similarity is above a threshold, we have a duplicate.\n",
    "dev_sentences1 = []\n",
    "dev_sentences2 = []\n",
    "dev_labels = []\n",
    "\n",
    "for index, row in valid_pairs.iterrows():\n",
    "    dev_sentences1.append(row['title_x'])\n",
    "    dev_sentences2.append(row['title_y'])\n",
    "    dev_labels.append(int(row['label']))\n",
    "\n",
    "\n",
    "binary_acc_evaluator = evaluation.BinaryClassificationEvaluator(dev_sentences1, \n",
    "                                                                dev_sentences2, \n",
    "                                                                dev_labels)\n",
    "evaluators.append(binary_acc_evaluator)"
   ]
  },
  {
   "cell_type": "code",
   "execution_count": 34,
   "id": "e94a81a2",
   "metadata": {},
   "outputs": [
    {
     "data": {
      "text/plain": [
       "{0: 'learning quickbooks 2007',\n",
       " 1: 'superstart ! fun with reading & writing !',\n",
       " 2: 'qb pos 6.0 basic software',\n",
       " 3: 'math missions : the amazing arcade adventure ( grades 3-5 )',\n",
       " 4: 'production prem cs3 mac upgrad',\n",
       " 5: 'video studio 11 plus',\n",
       " 6: 'edius pro 4',\n",
       " 7: 'qb pos 6.0 pro multi store sw',\n",
       " 8: 'qb credit card kit 3.0',\n",
       " 9: 'vegas movie studiodvd +8 plat'}"
      ]
     },
     "execution_count": 34,
     "metadata": {},
     "output_type": "execute_result"
    }
   ],
   "source": [
    "max_dev_samples = 10\n",
    "dev_sentences = {}\n",
    "for index, row in tableB.iterrows():\n",
    "    dev_sentences[row['id']] = row['title']\n",
    "    \n",
    "    if len(dev_sentences) >= max_dev_samples:\n",
    "        break    \n",
    "\n",
    "dev_sentences"
   ]
  },
  {
   "cell_type": "code",
   "execution_count": 29,
   "id": "02ef9a63",
   "metadata": {},
   "outputs": [
    {
     "data": {
      "text/html": [
       "<div>\n",
       "<style scoped>\n",
       "    .dataframe tbody tr th:only-of-type {\n",
       "        vertical-align: middle;\n",
       "    }\n",
       "\n",
       "    .dataframe tbody tr th {\n",
       "        vertical-align: top;\n",
       "    }\n",
       "\n",
       "    .dataframe thead th {\n",
       "        text-align: right;\n",
       "    }\n",
       "</style>\n",
       "<table border=\"1\" class=\"dataframe\">\n",
       "  <thead>\n",
       "    <tr style=\"text-align: right;\">\n",
       "      <th></th>\n",
       "      <th>id</th>\n",
       "      <th>title</th>\n",
       "      <th>manufacturer</th>\n",
       "      <th>price</th>\n",
       "    </tr>\n",
       "  </thead>\n",
       "  <tbody>\n",
       "    <tr>\n",
       "      <th>0</th>\n",
       "      <td>0</td>\n",
       "      <td>clickart 950 000 premier image pack ( dvd-rom )</td>\n",
       "      <td>broderbund</td>\n",
       "      <td>NaN</td>\n",
       "    </tr>\n",
       "    <tr>\n",
       "      <th>1</th>\n",
       "      <td>1</td>\n",
       "      <td>ca international arcserve lap/desktop oem 30pk</td>\n",
       "      <td>computer associates</td>\n",
       "      <td>NaN</td>\n",
       "    </tr>\n",
       "    <tr>\n",
       "      <th>2</th>\n",
       "      <td>2</td>\n",
       "      <td>noah 's ark activity center ( jewel case ages 3-8 )</td>\n",
       "      <td>victory multimedia</td>\n",
       "      <td>NaN</td>\n",
       "    </tr>\n",
       "    <tr>\n",
       "      <th>3</th>\n",
       "      <td>3</td>\n",
       "      <td>peachtree by sage premium accounting for nonprofits 2007</td>\n",
       "      <td>sage software</td>\n",
       "      <td>599.99</td>\n",
       "    </tr>\n",
       "    <tr>\n",
       "      <th>4</th>\n",
       "      <td>4</td>\n",
       "      <td>singing coach unlimited</td>\n",
       "      <td>carry-a-tune technologies</td>\n",
       "      <td>99.99</td>\n",
       "    </tr>\n",
       "    <tr>\n",
       "      <th>...</th>\n",
       "      <td>...</td>\n",
       "      <td>...</td>\n",
       "      <td>...</td>\n",
       "      <td>...</td>\n",
       "    </tr>\n",
       "    <tr>\n",
       "      <th>1358</th>\n",
       "      <td>1358</td>\n",
       "      <td>flash remoting 1 alp ret eng cd 2u</td>\n",
       "      <td>adobe</td>\n",
       "      <td>3314.09</td>\n",
       "    </tr>\n",
       "    <tr>\n",
       "      <th>1359</th>\n",
       "      <td>1359</td>\n",
       "      <td>shapes</td>\n",
       "      <td>school zone</td>\n",
       "      <td>9.99</td>\n",
       "    </tr>\n",
       "    <tr>\n",
       "      <th>1360</th>\n",
       "      <td>1360</td>\n",
       "      <td>dragon naturally speaking standard v9</td>\n",
       "      <td>nuance-communications-inc .</td>\n",
       "      <td>99.99</td>\n",
       "    </tr>\n",
       "    <tr>\n",
       "      <th>1361</th>\n",
       "      <td>1361</td>\n",
       "      <td>mediarecover</td>\n",
       "      <td>aladdin systems</td>\n",
       "      <td>29.99</td>\n",
       "    </tr>\n",
       "    <tr>\n",
       "      <th>1362</th>\n",
       "      <td>1362</td>\n",
       "      <td>photo explosion 3.0</td>\n",
       "      <td>nova development</td>\n",
       "      <td>29.99</td>\n",
       "    </tr>\n",
       "  </tbody>\n",
       "</table>\n",
       "<p>1363 rows × 4 columns</p>\n",
       "</div>"
      ],
      "text/plain": [
       "        id                                                     title  \\\n",
       "0        0           clickart 950 000 premier image pack ( dvd-rom )   \n",
       "1        1            ca international arcserve lap/desktop oem 30pk   \n",
       "2        2       noah 's ark activity center ( jewel case ages 3-8 )   \n",
       "3        3  peachtree by sage premium accounting for nonprofits 2007   \n",
       "4        4                                   singing coach unlimited   \n",
       "...    ...                                                       ...   \n",
       "1358  1358                        flash remoting 1 alp ret eng cd 2u   \n",
       "1359  1359                                                    shapes   \n",
       "1360  1360                     dragon naturally speaking standard v9   \n",
       "1361  1361                                              mediarecover   \n",
       "1362  1362                                       photo explosion 3.0   \n",
       "\n",
       "                     manufacturer    price  \n",
       "0                      broderbund      NaN  \n",
       "1             computer associates      NaN  \n",
       "2              victory multimedia      NaN  \n",
       "3                   sage software   599.99  \n",
       "4       carry-a-tune technologies    99.99  \n",
       "...                           ...      ...  \n",
       "1358                        adobe  3314.09  \n",
       "1359                  school zone     9.99  \n",
       "1360  nuance-communications-inc .    99.99  \n",
       "1361              aladdin systems    29.99  \n",
       "1362             nova development    29.99  \n",
       "\n",
       "[1363 rows x 4 columns]"
      ]
     },
     "execution_count": 29,
     "metadata": {},
     "output_type": "execute_result"
    }
   ],
   "source": [
    "tableA"
   ]
  },
  {
   "cell_type": "code",
   "execution_count": null,
   "id": "f70dc144",
   "metadata": {},
   "outputs": [],
   "source": [
    "###### Duplicate Questions Mining ######\n",
    "# Given a large corpus of questions, identify all duplicates in that corpus.\n",
    "\n",
    "# For faster processing, we limit the development corpus to only 10,000 sentences.\n",
    "# max_dev_samples = 10000\n",
    "max_dev_samples = 1000\n",
    "dev_sentences = {}\n",
    "dev_duplicates = []\n",
    "with open(os.path.join(dataset_path, \"duplicate-mining/dev_corpus.tsv\"), encoding='utf8') as fIn:\n",
    "    reader = csv.DictReader(fIn, delimiter='\\t', quoting=csv.QUOTE_NONE)\n",
    "    for row in reader:\n",
    "        dev_sentences[row['qid']] = row['question']\n",
    "\n",
    "        if len(dev_sentences) >= max_dev_samples:\n",
    "            break\n",
    "\n",
    "with open(os.path.join(dataset_path, \"duplicate-mining/dev_duplicates.tsv\"), encoding='utf8') as fIn:\n",
    "    reader = csv.DictReader(fIn, delimiter='\\t', quoting=csv.QUOTE_NONE)\n",
    "    for row in reader:\n",
    "        if row['qid1'] in dev_sentences and row['qid2'] in dev_sentences:\n",
    "            dev_duplicates.append([row['qid1'], row['qid2']])"
   ]
  },
  {
   "cell_type": "code",
   "execution_count": null,
   "id": "e9476943",
   "metadata": {},
   "outputs": [],
   "source": [
    "# The ParaphraseMiningEvaluator computes the cosine similarity between all sentences and\n",
    "# extracts a list with the pairs that have the highest similarity. Given the duplicate\n",
    "# information in dev_duplicates, it then computes and F1 score how well our duplicate mining worked\n",
    "paraphrase_mining_evaluator = evaluation.ParaphraseMiningEvaluator(dev_sentences, \n",
    "                                                                   dev_duplicates, name='dev')\n",
    "evaluators.append(paraphrase_mining_evaluator)"
   ]
  },
  {
   "cell_type": "code",
   "execution_count": null,
   "id": "fb47d991",
   "metadata": {},
   "outputs": [],
   "source": [
    "###### Duplicate Questions Information Retrieval ######\n",
    "# Given a question and a large corpus of thousands questions, find the most relevant (i.e. duplicate) question\n",
    "# in that corpus.\n",
    "\n",
    "# For faster processing, we limit the development corpus to only 10,000 sentences.\n",
    "# max_corpus_size = 100000\n",
    "max_corpus_size = 1000\n",
    "\n",
    "ir_queries = {}             #Our queries (qid => question)\n",
    "ir_needed_qids = set()      #QIDs we need in the corpus\n",
    "ir_corpus = {}              #Our corpus (qid => question)\n",
    "ir_relevant_docs = {}       #Mapping of relevant documents for a given query (qid => set([relevant_question_ids])\n",
    "\n",
    "with open(os.path.join(dataset_path, 'information-retrieval/dev-queries.tsv'), encoding='utf8') as fIn:\n",
    "    next(fIn) #Skip header\n",
    "    for line in fIn:\n",
    "        qid, query, duplicate_ids = line.strip().split('\\t')\n",
    "        duplicate_ids = duplicate_ids.split(',')\n",
    "        ir_queries[qid] = query\n",
    "        ir_relevant_docs[qid] = set(duplicate_ids)\n",
    "\n",
    "        for qid in duplicate_ids:\n",
    "            ir_needed_qids.add(qid)"
   ]
  },
  {
   "cell_type": "code",
   "execution_count": null,
   "id": "19832249",
   "metadata": {},
   "outputs": [],
   "source": [
    "# First get all needed relevant documents (i.e., we must ensure, that the relevant questions are actually in the corpus\n",
    "distraction_questions = {}\n",
    "with open(os.path.join(dataset_path, 'information-retrieval/corpus.tsv'), encoding='utf8') as fIn:\n",
    "    next(fIn) #Skip header\n",
    "    for line in fIn:\n",
    "        qid, question = line.strip().split('\\t')\n",
    "\n",
    "        if qid in ir_needed_qids:\n",
    "            ir_corpus[qid] = question\n",
    "        else:\n",
    "            distraction_questions[qid] = question\n",
    "\n",
    "# Now, also add some irrelevant questions to fill our corpus\n",
    "other_qid_list = list(distraction_questions.keys())\n",
    "random.shuffle(other_qid_list)\n",
    "\n",
    "for qid in other_qid_list[0:max(0, max_corpus_size-len(ir_corpus))]:\n",
    "    ir_corpus[qid] = distraction_questions[qid]"
   ]
  },
  {
   "cell_type": "code",
   "execution_count": null,
   "id": "1a35fef1",
   "metadata": {},
   "outputs": [],
   "source": [
    "#Given queries, a corpus and a mapping with relevant documents, the InformationRetrievalEvaluator computes different IR\n",
    "# metrices. For our use case MRR@k and Accuracy@k are relevant.\n",
    "ir_evaluator = evaluation.InformationRetrievalEvaluator(ir_queries, ir_corpus, ir_relevant_docs)\n",
    "\n",
    "evaluators.append(ir_evaluator)"
   ]
  },
  {
   "cell_type": "code",
   "execution_count": null,
   "id": "d4eb14b1",
   "metadata": {
    "scrolled": false
   },
   "outputs": [],
   "source": [
    "# Create a SequentialEvaluator. This SequentialEvaluator runs all three evaluators in a sequential order.\n",
    "# We optimize the model with respect to the score from the last evaluator (scores[-1])\n",
    "seq_evaluator = evaluation.SequentialEvaluator(evaluators, \n",
    "                                               main_score_function=lambda scores: scores[-1])\n",
    "\n",
    "\n",
    "logger.info(\"Evaluate model without training\")\n",
    "with torch.no_grad():\n",
    "    seq_evaluator(model, epoch=0, steps=0, output_path=model_save_path)"
   ]
  },
  {
   "cell_type": "code",
   "execution_count": null,
   "id": "e4cd0d2b",
   "metadata": {
    "scrolled": false
   },
   "outputs": [],
   "source": [
    "# Train the model\n",
    "model.fit(train_objectives=[(train_dataloader, train_loss)],\n",
    "          evaluator=seq_evaluator,\n",
    "          epochs=num_epochs,\n",
    "#           warmup_steps=1000,\n",
    "          warmup_steps=500,\n",
    "          output_path=model_save_path\n",
    "         )"
   ]
  }
 ],
 "metadata": {
  "kernelspec": {
   "display_name": "Python 3 (ipykernel)",
   "language": "python",
   "name": "python3"
  },
  "language_info": {
   "codemirror_mode": {
    "name": "ipython",
    "version": 3
   },
   "file_extension": ".py",
   "mimetype": "text/x-python",
   "name": "python",
   "nbconvert_exporter": "python",
   "pygments_lexer": "ipython3",
   "version": "3.7.13"
  }
 },
 "nbformat": 4,
 "nbformat_minor": 5
}
