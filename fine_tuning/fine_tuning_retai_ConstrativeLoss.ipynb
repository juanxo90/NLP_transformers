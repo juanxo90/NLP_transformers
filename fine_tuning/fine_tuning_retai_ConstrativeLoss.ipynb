{
 "cells": [
  {
   "cell_type": "markdown",
   "id": "f42e7ad7",
   "metadata": {},
   "source": [
    "## fine tuning using data from retail"
   ]
  },
  {
   "cell_type": "code",
   "execution_count": 1,
   "id": "7b022e3c",
   "metadata": {},
   "outputs": [],
   "source": [
    "import pandas as pd\n",
    "import torch\n",
    "from torch.utils.data import DataLoader\n",
    "from sentence_transformers import losses, util\n",
    "from sentence_transformers import LoggingHandler, SentenceTransformer, evaluation\n",
    "from sentence_transformers.readers import InputExample\n",
    "import logging\n",
    "from datetime import datetime\n",
    "import csv\n",
    "import os\n",
    "from zipfile import ZipFile\n",
    "import random"
   ]
  },
  {
   "cell_type": "code",
   "execution_count": 2,
   "id": "e368cd60",
   "metadata": {},
   "outputs": [],
   "source": [
    "pd.set_option('display.max_colwidth',None)"
   ]
  },
  {
   "cell_type": "code",
   "execution_count": 3,
   "id": "8e9d24fc",
   "metadata": {},
   "outputs": [],
   "source": [
    "#### Just some code to print debug information to stdout\n",
    "logging.basicConfig(format='%(asctime)s - %(message)s',\n",
    "                    datefmt='%Y-%m-%d %H:%M:%S',\n",
    "                    level=logging.INFO,\n",
    "                    handlers=[LoggingHandler()])\n",
    "logger = logging.getLogger(__name__)\n",
    "#### /print debug information to stdout"
   ]
  },
  {
   "cell_type": "code",
   "execution_count": 4,
   "id": "369d5f31",
   "metadata": {},
   "outputs": [
    {
     "name": "stdout",
     "output_type": "stream",
     "text": [
      "2022-11-14 14:33:14 - Load pretrained SentenceTransformer: multi-qa-MiniLM-L6-cos-v1\n"
     ]
    }
   ],
   "source": [
    "torch_device = 'cuda' if torch.cuda.is_available() else 'cpu'\n",
    "# torch_device = 'cpu'\n",
    "\n",
    "model = SentenceTransformer('multi-qa-MiniLM-L6-cos-v1',\n",
    "                           device=torch_device)\n",
    "num_epochs = 5\n",
    "train_batch_size = 64"
   ]
  },
  {
   "cell_type": "code",
   "execution_count": null,
   "id": "b61e97d5",
   "metadata": {},
   "outputs": [],
   "source": [
    "#As distance metric, we use cosine distance (cosine_distance = 1-cosine_similarity)\n",
    "distance_metric = losses.SiameseDistanceMetric.COSINE_DISTANCE\n",
    "\n",
    "#Negative pairs should have a distance of at least 0.80\n",
    "margin = 0.90\n",
    "\n",
    "dataset_path = os.path.join(os.path.dirname(os.path.dirname(os.getcwd())), \n",
    "                            'data/retail_data/')\n",
    "\n",
    "model_save_path = os.path.join(os.path.dirname(os.path.dirname(os.getcwd())), \n",
    "                               'data/output/training_retailConstrativeLoss-')\\\n",
    "+datetime.now().strftime(\"%Y-%m-%d_%H-%M-%S\")\n",
    "\n",
    "\n",
    "os.makedirs(model_save_path, exist_ok=True)"
   ]
  },
  {
   "cell_type": "code",
   "execution_count": null,
   "id": "c4bc0f6c",
   "metadata": {},
   "outputs": [],
   "source": [
    "if not os.path.exists(dataset_path):\n",
    "    util.http_get(url='https://pages.cs.wisc.edu/~anhai/data1/deepmatcher_data/Structured/Amazon-Google/exp_data/tableA.csv',\n",
    "                  path=os.path.join(dataset_path,'tableA.csv'))\n",
    "    util.http_get(url='https://pages.cs.wisc.edu/~anhai/data1/deepmatcher_data/Structured/Amazon-Google/exp_data/tableB.csv',\n",
    "                  path=os.path.join(dataset_path,'tableB.csv'))\n",
    "    util.http_get(url='https://pages.cs.wisc.edu/~anhai/data1/deepmatcher_data/Structured/Amazon-Google/exp_data/test.csv',\n",
    "                  path=os.path.join(dataset_path,'test.csv'))\n",
    "    util.http_get(url='https://pages.cs.wisc.edu/~anhai/data1/deepmatcher_data/Structured/Amazon-Google/exp_data/train.csv',\n",
    "                  path=os.path.join(dataset_path,'train.csv'))\n",
    "    util.http_get(url='https://pages.cs.wisc.edu/~anhai/data1/deepmatcher_data/Structured/Amazon-Google/exp_data/valid.csv',\n",
    "                  path=os.path.join(dataset_path,'valid.csv'))"
   ]
  },
  {
   "cell_type": "code",
   "execution_count": null,
   "id": "06cc5ad6",
   "metadata": {},
   "outputs": [],
   "source": [
    "# Getting de data for the correct format\n",
    "tableA = pd.read_csv(os.path.join(dataset_path,'tableA.csv'))\n",
    "tableA['id'] = 'a_' + tableA.id.astype(str).str.zfill(4)\n",
    "tableB = pd.read_csv(os.path.join(dataset_path,'tableB.csv'))\n",
    "tableB['id'] = 'b_' + tableB.id.astype(str).str.zfill(4)\n",
    "train = pd.read_csv(os.path.join(dataset_path,'train.csv'))\n",
    "train['ltable_id'] = 'a_' + train.ltable_id.astype(str).str.zfill(4)\n",
    "train['rtable_id'] = 'b_' + train.rtable_id.astype(str).str.zfill(4)\n",
    "test = pd.read_csv(os.path.join(dataset_path,'test.csv'))\n",
    "test['ltable_id'] = 'a_' + test.ltable_id.astype(str).str.zfill(4)\n",
    "test['rtable_id'] = 'b_' + test.rtable_id.astype(str).str.zfill(4)\n",
    "valid = pd.read_csv(os.path.join(dataset_path,'valid.csv'))\n",
    "valid['ltable_id'] = 'a_' + valid.ltable_id.astype(str).str.zfill(4)\n",
    "valid['rtable_id'] = 'b_' + valid.rtable_id.astype(str).str.zfill(4)"
   ]
  },
  {
   "cell_type": "code",
   "execution_count": null,
   "id": "c565063d",
   "metadata": {},
   "outputs": [],
   "source": [
    "print(len(tableA))\n",
    "print(len(tableB))\n",
    "print(len(train))\n",
    "print(len(test))\n",
    "print(len(valid))"
   ]
  },
  {
   "cell_type": "code",
   "execution_count": null,
   "id": "5a6b6249",
   "metadata": {},
   "outputs": [],
   "source": [
    "train_pairs = (train#[train.label == 1]\n",
    "               .merge(tableA, left_on='ltable_id', right_on='id')\n",
    "               .merge(tableB, left_on='rtable_id', right_on='id')\n",
    "              )[['title_x', 'title_y', 'label']]"
   ]
  },
  {
   "cell_type": "code",
   "execution_count": null,
   "id": "c3ee7cf6",
   "metadata": {},
   "outputs": [],
   "source": [
    "######### Read train data  ##########\n",
    "# Read train data\n",
    "train_samples = []\n",
    "for index, row in train_pairs.iterrows():\n",
    "    sample = InputExample(texts=[row['title_x'], row['title_y']], label=int(row['label']))\n",
    "    train_samples.append(sample)"
   ]
  },
  {
   "cell_type": "code",
   "execution_count": null,
   "id": "a490db8c",
   "metadata": {},
   "outputs": [],
   "source": [
    "train_dataloader = DataLoader(train_samples, shuffle=True, batch_size=train_batch_size)\n",
    "train_loss = losses.OnlineContrastiveLoss(model=model, distance_metric=distance_metric, margin=margin)"
   ]
  },
  {
   "cell_type": "code",
   "execution_count": null,
   "id": "f4ae13e8",
   "metadata": {},
   "outputs": [],
   "source": [
    "valid_pairs = (valid#[valid.label == 1]\n",
    "               .merge(tableA, left_on='ltable_id', right_on='id')\n",
    "               .merge(tableB, left_on='rtable_id', right_on='id')\n",
    "              )[['title_x', 'title_y', 'label']]"
   ]
  },
  {
   "cell_type": "code",
   "execution_count": null,
   "id": "b8c2f6b5",
   "metadata": {},
   "outputs": [],
   "source": [
    "################### Development  Evaluators ##################\n",
    "# We add 3 evaluators, that evaluate the model on Duplicate Questions pair classification,\n",
    "# Duplicate Questions Mining, and Duplicate Questions Information Retrieval\n",
    "evaluators = []\n",
    "\n",
    "###### Classification ######\n",
    "# Given (quesiton1, question2), is this a duplicate or not?\n",
    "# The evaluator will compute the embeddings for both questions and then compute\n",
    "# a cosine similarity. If the similarity is above a threshold, we have a duplicate.\n",
    "dev_sentences1 = []\n",
    "dev_sentences2 = []\n",
    "dev_labels = []\n",
    "\n",
    "for index, row in valid_pairs.iterrows():\n",
    "    dev_sentences1.append(row['title_x'])\n",
    "    dev_sentences2.append(row['title_y'])\n",
    "    dev_labels.append(int(row['label']))\n",
    "\n",
    "\n",
    "binary_acc_evaluator = evaluation.BinaryClassificationEvaluator(dev_sentences1, \n",
    "                                                                dev_sentences2, \n",
    "                                                                dev_labels)\n",
    "evaluators.append(binary_acc_evaluator)"
   ]
  },
  {
   "cell_type": "code",
   "execution_count": null,
   "id": "b57c6e1e",
   "metadata": {},
   "outputs": [],
   "source": [
    "###### Duplicate Mining ######\n",
    "# Given a large corpus of data, identify all duplicates in that corpus.\n",
    "\n",
    "# For faster processing, we limit the development corpus to only 10,000 sentences.\n",
    "duplicates_all = pd.concat([\n",
    "    train[train.label == 1], \n",
    "    test[test.label == 1], \n",
    "    valid[valid.label == 1]]\n",
    ").reset_index(drop=True)\n",
    "\n",
    "max_dev_samples = 10000\n",
    "dev_sentences = {}\n",
    "dev_duplicates = []\n",
    "\n",
    "for index, row in pd.concat([tableA, tableB], ignore_index=True).iterrows():\n",
    "    dev_sentences[row['id']] = row['title']\n",
    "    \n",
    "    if len(dev_sentences) >= max_dev_samples:\n",
    "        break\n",
    "        \n",
    "for index, row in duplicates_all.iterrows():\n",
    "    if row['ltable_id'] in dev_sentences and row['rtable_id'] in dev_sentences:\n",
    "        dev_duplicates.append([row['ltable_id'], row['rtable_id']])"
   ]
  },
  {
   "cell_type": "code",
   "execution_count": null,
   "id": "e9476943",
   "metadata": {},
   "outputs": [],
   "source": [
    "# The ParaphraseMiningEvaluator computes the cosine similarity between all sentences and\n",
    "# extracts a list with the pairs that have the highest similarity. Given the duplicate\n",
    "# information in dev_duplicates, it then computes and F1 score how well our duplicate mining worked\n",
    "paraphrase_mining_evaluator = evaluation.ParaphraseMiningEvaluator(dev_sentences, \n",
    "                                                                   dev_duplicates, name='dev')\n",
    "evaluators.append(paraphrase_mining_evaluator)"
   ]
  },
  {
   "cell_type": "code",
   "execution_count": null,
   "id": "7dc46d88",
   "metadata": {},
   "outputs": [],
   "source": [
    "dev_queries = (duplicates_all.groupby('ltable_id')['rtable_id']\n",
    " .agg(','.join)\n",
    " .reset_index()\n",
    " .merge(tableA, left_on='ltable_id', right_on='id')\n",
    ")[['ltable_id', 'title', 'rtable_id']]"
   ]
  },
  {
   "cell_type": "code",
   "execution_count": null,
   "id": "54ea5bb6",
   "metadata": {},
   "outputs": [],
   "source": [
    "max_corpus_size = 10000\n",
    "\n",
    "ir_queries = {}\n",
    "ir_needed_qids = set()\n",
    "ir_corpus = {}\n",
    "ir_relevant_docs = {}\n",
    "\n",
    "for index, row in dev_queries.iterrows():\n",
    "    qid = row.ltable_id\n",
    "    query = row.title\n",
    "    duplicate_ids = row.rtable_id.split(',')\n",
    "    ir_queries[qid] = query\n",
    "    ir_relevant_docs[qid] = set(duplicate_ids)\n",
    "    \n",
    "    for qid in duplicate_ids:\n",
    "        ir_needed_qids.add(qid)\n"
   ]
  },
  {
   "cell_type": "code",
   "execution_count": null,
   "id": "1a35fef1",
   "metadata": {},
   "outputs": [],
   "source": [
    "# First get all needed relevant documents (i.e., we must ensure, that the relevant questions are actually in the corpus\n",
    "\n",
    "distraction_questions = {}\n",
    "for index, row in tableB.iterrows():\n",
    "    qid = row.id\n",
    "    question = row.title\n",
    "    if qid in ir_needed_qids:\n",
    "        ir_corpus[qid] = question\n",
    "    else:\n",
    "        distraction_questions[qid] = question\n",
    "        \n",
    "# Now, also add some irrelevant questions to fill our corpus\n",
    "other_qid_list = list(distraction_questions.keys())\n",
    "random.shuffle(other_qid_list)\n",
    "\n",
    "for qid in other_qid_list[0:max(0, max_corpus_size-len(ir_corpus))]:\n",
    "    ir_corpus[qid] = distraction_questions[qid]"
   ]
  },
  {
   "cell_type": "code",
   "execution_count": null,
   "id": "9f0d6c1b",
   "metadata": {},
   "outputs": [],
   "source": [
    "#Given queries, a corpus and a mapping with relevant documents, the InformationRetrievalEvaluator computes different IR\n",
    "# metrices. For our use case MRR@k and Accuracy@k are relevant.\n",
    "ir_evaluator = evaluation.InformationRetrievalEvaluator(ir_queries, ir_corpus, ir_relevant_docs)\n",
    "\n",
    "evaluators.append(ir_evaluator)"
   ]
  },
  {
   "cell_type": "code",
   "execution_count": null,
   "id": "d4eb14b1",
   "metadata": {
    "scrolled": false
   },
   "outputs": [],
   "source": [
    "# Create a SequentialEvaluator. This SequentialEvaluator runs all three evaluators in a sequential order.\n",
    "# We optimize the model with respect to the score from the last evaluator (scores[-1])\n",
    "seq_evaluator = evaluation.SequentialEvaluator(evaluators, \n",
    "                                               main_score_function=lambda scores: scores[-1])\n",
    "\n",
    "\n",
    "logger.info(\"Evaluate model without training\")\n",
    "with torch.no_grad():\n",
    "    seq_evaluator(model, epoch=0, steps=0, output_path=model_save_path)"
   ]
  },
  {
   "cell_type": "code",
   "execution_count": null,
   "id": "e4cd0d2b",
   "metadata": {
    "scrolled": false
   },
   "outputs": [],
   "source": [
    "# Train the model\n",
    "model.fit(train_objectives=[(train_dataloader, train_loss)],\n",
    "          evaluator=seq_evaluator,\n",
    "          epochs=num_epochs,\n",
    "          warmup_steps=1000,\n",
    "          output_path=model_save_path\n",
    "         )"
   ]
  }
 ],
 "metadata": {
  "kernelspec": {
   "display_name": "Python 3 (ipykernel)",
   "language": "python",
   "name": "python3"
  },
  "language_info": {
   "codemirror_mode": {
    "name": "ipython",
    "version": 3
   },
   "file_extension": ".py",
   "mimetype": "text/x-python",
   "name": "python",
   "nbconvert_exporter": "python",
   "pygments_lexer": "ipython3",
   "version": "3.7.13"
  }
 },
 "nbformat": 4,
 "nbformat_minor": 5
}
